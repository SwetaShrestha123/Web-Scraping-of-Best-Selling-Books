{
 "cells": [
  {
   "cell_type": "markdown",
   "metadata": {},
   "source": [
    "# Web Scraping (Economics and Business Book)"
   ]
  },
  {
   "cell_type": "code",
   "execution_count": 1,
   "metadata": {},
   "outputs": [],
   "source": [
    "import pandas as pd\n",
    "import numpy as np\n",
    "import matplotlib.pyplot as plt\n",
    "import seaborn as sns\n",
    "%matplotlib inline\n",
    "import re\n",
    "import time\n",
    "from datetime import datetime\n",
    "import matplotlib.dates as mdates\n",
    "import matplotlib.ticker as ticker\n",
    "from urllib.request import urlopen\n",
    "from bs4 import BeautifulSoup\n",
    "import requests"
   ]
  },
  {
   "cell_type": "code",
   "execution_count": 2,
   "metadata": {},
   "outputs": [
    {
     "data": {
      "text/html": [
       "        <script type=\"text/javascript\">\n",
       "        window.PlotlyConfig = {MathJaxConfig: 'local'};\n",
       "        if (window.MathJax) {MathJax.Hub.Config({SVG: {font: \"STIX-Web\"}});}\n",
       "        if (typeof require !== 'undefined') {\n",
       "        require.undef(\"plotly\");\n",
       "        requirejs.config({\n",
       "            paths: {\n",
       "                'plotly': ['https://cdn.plot.ly/plotly-latest.min']\n",
       "            }\n",
       "        });\n",
       "        require(['plotly'], function(Plotly) {\n",
       "            window._Plotly = Plotly;\n",
       "        });\n",
       "        }\n",
       "        </script>\n",
       "        "
      ]
     },
     "metadata": {},
     "output_type": "display_data"
    }
   ],
   "source": [
    "import plotly\n",
    "from plotly.offline import iplot, init_notebook_mode\n",
    "init_notebook_mode(connected = True)\n",
    "import plotly.graph_objs as go"
   ]
  },
  {
   "cell_type": "code",
   "execution_count": 3,
   "metadata": {},
   "outputs": [],
   "source": [
    "pages=2\n",
    "\n",
    "def get_info(page_no):\n",
    "    headers = {\"User-Agent\":\"Mozilla/5.0 (Windows NT 10.0; Win64; x64; rv:66.0) Gecko/20100101 Firefox/66.0\", \"Accept-Encoding\":\"gzip, deflate\", \"Accept\":\"text/html,application/xhtml+xml,application/xml;q=0.9,*/*;q=0.8\", \"DNT\":\"1\",\"Connection\":\"close\", \"Upgrade-Insecure-Requests\":\"1\"}\n",
    "    \n",
    "    r = requests.get('https://www.amazon.in/gp/bestsellers/books/1318068031/ref=zg_bs_pg_'+str(page_no)+'?ie=UTF8&pg='+str(page_no), headers=headers)#, proxies=proxies)\n",
    "    content = r.content\n",
    "    soup=BeautifulSoup(content)\n",
    "    \n",
    "    all_record=[]\n",
    "    for d in soup.find_all('div',{'class':'a-section a-spacing-none aok-relative'}):\n",
    "        book_name=d.find('span',{'class':'aok-inline-block zg-item'})\n",
    "        #print(book_name.div.img['alt'])\n",
    "        author=d.find('a',{'class':'a-size-small a-link-child'})\n",
    "        #if author is not None:\n",
    "            #print(author.text.strip())\n",
    "        rating=d.find('span',{'class':'a-icon-alt'})\n",
    "        #print(rating.text)\n",
    "        customer_rated=d.find('a',{'class':'a-size-small a-link-normal'})\n",
    "        #print(customer_rated.text)\n",
    "        book_type=d.find('span',{'class':'a-size-small a-color-secondary'})\n",
    "        #print(book_type.text)\n",
    "        price=d.find('span',{'class':'p13n-sc-price'})\n",
    "        #print(price.text)\n",
    "        \n",
    "        book_record=[]\n",
    "        if book_name is not None:\n",
    "            book_record.append(book_name.div.img['alt'])\n",
    "        else:\n",
    "            book_record.append('unknown-product')\n",
    "        \n",
    "        if author is not None:\n",
    "            book_record.append(author.text)\n",
    "        elif author is None:\n",
    "            author=d.find('span',{'class','a-size-small a-color-base'})\n",
    "            if author is not None:\n",
    "                book_record.append(author.text)\n",
    "            else:\n",
    "                book_record.append('Anonymous')\n",
    "        \n",
    "        if rating is not None:\n",
    "            book_record.append(rating.text)\n",
    "        else:\n",
    "            book_record.append('-1')\n",
    "        \n",
    "        if customer_rated is not None:\n",
    "            book_record.append(customer_rated.text)\n",
    "        else:\n",
    "            book_record.append('0')\n",
    "            \n",
    "        if book_type is not None:\n",
    "            book_record.append(book_type.text)\n",
    "        else:\n",
    "            book_record.append('0')\n",
    "            \n",
    "        if price is not None:\n",
    "            book_record.append(price.text)\n",
    "        else:\n",
    "            book_record.append('0')\n",
    "        all_record.append(book_record)\n",
    "    return(all_record)"
   ]
  },
  {
   "cell_type": "code",
   "execution_count": 4,
   "metadata": {},
   "outputs": [],
   "source": [
    "records=[]\n",
    "for i in range(1,pages+1):\n",
    "    records.append(get_info(i))"
   ]
  },
  {
   "cell_type": "code",
   "execution_count": 5,
   "metadata": {},
   "outputs": [
    {
     "data": {
      "text/plain": [
       "[['World’s Greatest Books For Personal Growth & Wealth (Set of 4 Books): Perfect Motivational Gift Set',\n",
       "  'Dale Carnegie',\n",
       "  '4.5 out of 5 stars',\n",
       "  '1,564',\n",
       "  'Paperback',\n",
       "  '₹\\xa0299.00'],\n",
       " ['The Intelligent Investor (English) Paperback – 2013',\n",
       "  'Benjamin Graham',\n",
       "  '4.4 out of 5 stars',\n",
       "  '13,250',\n",
       "  'Paperback',\n",
       "  '₹\\xa0401.00'],\n",
       " ['The Psychology of Money',\n",
       "  'Morgan Housel',\n",
       "  '4.5 out of 5 stars',\n",
       "  '1,986',\n",
       "  'Paperback',\n",
       "  '₹\\xa0328.00'],\n",
       " ['Rich Dad Poor Dad : What The Rich Teach Their Kids About Money That the Poor and Middle Class Do Not!',\n",
       "  'Robert T. Kiyosaki',\n",
       "  '4.5 out of 5 stars',\n",
       "  '35,703',\n",
       "  'Mass Market Paperback',\n",
       "  '₹\\xa0375.06'],\n",
       " ['A New Idea of India: Individual Rights in a Civilisational State',\n",
       "  'Harsh Madhusudan',\n",
       "  '4.8 out of 5 stars',\n",
       "  '54',\n",
       "  'Hardcover',\n",
       "  '₹\\xa0578.00'],\n",
       " ['Think and Grow Rich',\n",
       "  'Napoleon Hill',\n",
       "  '4.5 out of 5 stars',\n",
       "  '30,574',\n",
       "  'Paperback',\n",
       "  '₹\\xa0149.00'],\n",
       " ['The Intelligent Investor Rev Ed.',\n",
       "  'Benjamin Graham',\n",
       "  '4.4 out of 5 stars',\n",
       "  '13,250',\n",
       "  'Audible Audiobook',\n",
       "  '0'],\n",
       " ['The 5 AM Club: Own Your Morning, Elevate Your Life',\n",
       "  'Robin Sharma',\n",
       "  '4.4 out of 5 stars',\n",
       "  '6,694',\n",
       "  'Paperback',\n",
       "  '₹\\xa0247.00'],\n",
       " ['The Psychology of Money: Timeless Lessons on Wealth, Greed, and Happiness',\n",
       "  'Morgan Housel',\n",
       "  '4.5 out of 5 stars',\n",
       "  '1,986',\n",
       "  'Audible Audiobook',\n",
       "  '0'],\n",
       " ['Basics of Indian Stock Market: Learn Markets From Scratch (Financial Education Book 1)',\n",
       "  'ANGSHUMAN ADHIKARI',\n",
       "  '3.9 out of 5 stars',\n",
       "  '59',\n",
       "  'Kindle Edition',\n",
       "  '₹\\xa0100.00'],\n",
       " ['Advanced Techniques in Day Trading: A Practical Guide to High Probability Day Trading Strategies and Methods',\n",
       "  'Andrew Aziz',\n",
       "  '4.4 out of 5 stars',\n",
       "  '699',\n",
       "  'Kindle Edition',\n",
       "  '₹\\xa0293.00'],\n",
       " ['How to take decisions (Management Sutras Book 5)',\n",
       "  'Devdutt Pattanaik',\n",
       "  '4.2 out of 5 stars',\n",
       "  '800',\n",
       "  'Kindle Edition',\n",
       "  '₹\\xa010.50'],\n",
       " ['The Richest Man in Babylon',\n",
       "  'George S. Clason',\n",
       "  '4.4 out of 5 stars',\n",
       "  '12,428',\n",
       "  'Paperback',\n",
       "  '₹\\xa0149.00'],\n",
       " ['Deep Work: Rules for Focused Success in a Distracted World',\n",
       "  'Cal Newport',\n",
       "  '4.4 out of 5 stars',\n",
       "  '3,709',\n",
       "  'Paperback',\n",
       "  '₹\\xa0259.00'],\n",
       " ['The Joys Of Compounding: The Passionate Pursuit of Lifelong Learning',\n",
       "  'Gautam Baid',\n",
       "  '4.7 out of 5 stars',\n",
       "  '66',\n",
       "  'Paperback',\n",
       "  '₹\\xa0399.00'],\n",
       " ['Thinking, Fast and Slow',\n",
       "  'Daniel Kahneman',\n",
       "  '4.4 out of 5 stars',\n",
       "  '12,560',\n",
       "  'Audible Audiobook',\n",
       "  '0'],\n",
       " ['Influence: The Psychology of Persuasion',\n",
       "  'Robert B. Cialdini',\n",
       "  '4.3 out of 5 stars',\n",
       "  '5,079',\n",
       "  'Audible Audiobook',\n",
       "  '0'],\n",
       " ['Understanding the Theory and Design of Organizations',\n",
       "  'Richard L. Daft',\n",
       "  '1.0 out of 5 stars',\n",
       "  '2',\n",
       "  'Kindle Edition',\n",
       "  '₹\\xa0447.00'],\n",
       " ['10 Ways to Motivate Yourself: Change Your Life Forever',\n",
       "  'Steve Chandler',\n",
       "  '4.3 out of 5 stars',\n",
       "  '1,121',\n",
       "  'Kindle Edition',\n",
       "  '₹\\xa010.50'],\n",
       " ['Elon Musk',\n",
       "  'Ashlee Vance',\n",
       "  '4.5 out of 5 stars',\n",
       "  '7,841',\n",
       "  'Audible Audiobook',\n",
       "  '0'],\n",
       " ['THE SCAM: from Harshad Mehta to Ketan Parekh Also includes JPC FIASCO & Global Trust Bank Scam',\n",
       "  'Debashis Basu',\n",
       "  '3.8 out of 5 stars',\n",
       "  '29',\n",
       "  'Kindle Edition',\n",
       "  '₹\\xa0413.00'],\n",
       " ['The Art of Public Speaking by Dale Carnegie (International Bestseller): Dale Carnegie is a all time 🕛 ‘Time tasted…',\n",
       "  'Dale Carnegie',\n",
       "  '4.1 out of 5 stars',\n",
       "  '705',\n",
       "  'Kindle Edition',\n",
       "  '₹\\xa011.55'],\n",
       " ['The 7 Habits of Highly Effective People: Powerful Lessons in Personal Change',\n",
       "  'Stephen R. Covey',\n",
       "  '4.3 out of 5 stars',\n",
       "  '9,675',\n",
       "  'Kindle Edition with Audio/Video',\n",
       "  '₹\\xa0738.88'],\n",
       " ['A New Idea of India: Individual Rights in a Civilisational State',\n",
       "  'Harsh Madhusudan',\n",
       "  '4.8 out of 5 stars',\n",
       "  '54',\n",
       "  'Kindle Edition',\n",
       "  '₹\\xa0499.00'],\n",
       " ['How to Avoid Loss and Earn Consistently in the Stock Market: An Easy-To-Understand and Practical Guide for Every…',\n",
       "  'Prasenjit Paul',\n",
       "  '4.5 out of 5 stars',\n",
       "  '1,821',\n",
       "  'Paperback',\n",
       "  '₹\\xa0399.00'],\n",
       " ['The Malayala Manorama English Yearbook 2020',\n",
       "  'Mammen Mathew',\n",
       "  '4.6 out of 5 stars',\n",
       "  '1,012',\n",
       "  'Perfect Paperback',\n",
       "  '₹\\xa0211.00'],\n",
       " ['World’s Most Popular Books to Achieve Success and Build a Fortune (Set of 4 Books)',\n",
       "  'Dale Carnegie',\n",
       "  '4.5 out of 5 stars',\n",
       "  '228',\n",
       "  'Paperback',\n",
       "  '₹\\xa0299.00'],\n",
       " ['The Warren Buffett Way: 3rd Edition',\n",
       "  'Robert Hagstrom',\n",
       "  '4.1 out of 5 stars',\n",
       "  '81',\n",
       "  'Audible Audiobook',\n",
       "  '0'],\n",
       " ['You Can Win: A Step-by-Step Tool for Top Achievers',\n",
       "  'Shiv Khera',\n",
       "  '4.6 out of 5 stars',\n",
       "  '1,817',\n",
       "  'Paperback',\n",
       "  '₹\\xa0270.00'],\n",
       " ['Zero to One: Notes on Start Ups, or How to Build the Future',\n",
       "  'Peter Thiel',\n",
       "  '4.4 out of 5 stars',\n",
       "  '6,268',\n",
       "  'Paperback',\n",
       "  '₹\\xa0399.00'],\n",
       " ['Thinking, Fast and Slow (Penguin Press Non-Fiction)',\n",
       "  'Daniel Kahneman',\n",
       "  '4.4 out of 5 stars',\n",
       "  '12,560',\n",
       "  'Paperback',\n",
       "  '₹\\xa0441.00'],\n",
       " ['Eat That Frog!: 21 Great Ways to Stop Procrastinating and Get More Done in Less Time',\n",
       "  'Brian Tracy',\n",
       "  '4.5 out of 5 stars',\n",
       "  '2,706',\n",
       "  'Paperback',\n",
       "  '₹\\xa0188.00'],\n",
       " ['The Psychology of Money',\n",
       "  'Morgan Housel',\n",
       "  '4.5 out of 5 stars',\n",
       "  '1,986',\n",
       "  'Kindle Edition',\n",
       "  '₹\\xa0311.60'],\n",
       " ['The Scam: From Harshad Mehta To Ketan Parekh Also Includes Jpc Fiasco & Global Trust Bank Scam',\n",
       "  'Debashis Basu and Sucheta Dalal',\n",
       "  '4.0 out of 5 stars',\n",
       "  '13',\n",
       "  'Paperback',\n",
       "  '₹\\xa0600.00'],\n",
       " ['The Intelligent Investor (English) Paperback – 2013',\n",
       "  'Anonymous',\n",
       "  '-1',\n",
       "  '0',\n",
       "  '0',\n",
       "  '0'],\n",
       " ['The Anarchy: The East India Company, Corporate Violence, and the Pillage of an Empire',\n",
       "  'William Dalrymple',\n",
       "  '4.6 out of 5 stars',\n",
       "  '2,020',\n",
       "  'Hardcover',\n",
       "  '₹\\xa0478.00'],\n",
       " [\"Let's Build A Company: A Start-up Story Minus the Bullshit\",\n",
       "  'Harpreet Grover',\n",
       "  '4.5 out of 5 stars',\n",
       "  '24',\n",
       "  'Paperback',\n",
       "  '₹\\xa0229.00'],\n",
       " ['Think & Grow Rich',\n",
       "  'Napoleon Hill',\n",
       "  '4.5 out of 5 stars',\n",
       "  '30,574',\n",
       "  'Paperback',\n",
       "  '₹\\xa0105.00'],\n",
       " ['One Up On Wall Street: How to Use What You Already Know to Make Money in the Market',\n",
       "  'Lynch',\n",
       "  '4.3 out of 5 stars',\n",
       "  '2,235',\n",
       "  'Paperback',\n",
       "  '₹\\xa0364.00'],\n",
       " ['Chanakya Neeti with Sutras of Chanakya Included',\n",
       "  'B.K. Chaturvedi',\n",
       "  '4.1 out of 5 stars',\n",
       "  '957',\n",
       "  'Paperback',\n",
       "  '₹\\xa0113.00'],\n",
       " ['University of Berkshire Hathaway: 30 Years of Lessons Learned from Warren Buffett & Charlie Munger at the Annual…',\n",
       "  'Daniel Pecaut',\n",
       "  '4.5 out of 5 stars',\n",
       "  '666',\n",
       "  'Kindle Edition',\n",
       "  '₹\\xa049.00'],\n",
       " ['The Leader In You by Dale Carnegie (International Bestseller): The Success of Dale Carnegie & Associates',\n",
       "  'Dale Carnegie',\n",
       "  '4.3 out of 5 stars',\n",
       "  '484',\n",
       "  'Kindle Edition',\n",
       "  '₹\\xa026.25'],\n",
       " ['Shoe Dog: A Memoir by the Creator of NIKE',\n",
       "  'Phil Knight',\n",
       "  '4.3 out of 5 stars',\n",
       "  '9,632',\n",
       "  'Paperback',\n",
       "  '₹\\xa0318.00'],\n",
       " ['One Up On Wall Street: How To Use What You Already Know To Make Money In',\n",
       "  'Peter Lynch',\n",
       "  '4.3 out of 5 stars',\n",
       "  '2,235',\n",
       "  'Kindle Edition',\n",
       "  '₹\\xa0180.00'],\n",
       " ['Secrets of the Millionaire Mind: Mastering the Inner Game of Wealth',\n",
       "  'T. Harv Eker',\n",
       "  '4.6 out of 5 stars',\n",
       "  '1,201',\n",
       "  'Audible Audiobook',\n",
       "  '0'],\n",
       " ['Think and Grow Rich (DELUXE HARDBOUND EDITION)',\n",
       "  'Napoleon Hill',\n",
       "  '4.5 out of 5 stars',\n",
       "  '30,573',\n",
       "  'Hardcover',\n",
       "  '₹\\xa0399.00'],\n",
       " [\"The Trader's Code: THIS BOOK COULD BE WORTH A FORTUNE TO YOU (Traders Code 2020)\",\n",
       "  'Abhishek Ninaniya',\n",
       "  '4.6 out of 5 stars',\n",
       "  '21',\n",
       "  'Kindle Edition',\n",
       "  '₹\\xa099.00'],\n",
       " ['Pandemonium: The Great Indian Banking Tragedy',\n",
       "  'Tamal Bandyopadhyay',\n",
       "  '5.0 out of 5 stars',\n",
       "  '3',\n",
       "  'Hardcover',\n",
       "  '₹\\xa0585.00'],\n",
       " ['The Power of Habit: Why We Do What We Do, and How to Change',\n",
       "  'Charles Duhigg',\n",
       "  '4.5 out of 5 stars',\n",
       "  '7,733',\n",
       "  'Audible Audiobook',\n",
       "  '0'],\n",
       " ['Rich Dad Poor Dad (Marathi)',\n",
       "  'Robert T. Kiyosaki',\n",
       "  '4.5 out of 5 stars',\n",
       "  '855',\n",
       "  'Paperback',\n",
       "  '₹\\xa0193.00'],\n",
       " [\"Let's Talk Money: You've Worked Hard for It, Now Make It Work for You\",\n",
       "  'Monika Halan',\n",
       "  '4.5 out of 5 stars',\n",
       "  '528',\n",
       "  'Audible Audiobook',\n",
       "  '0'],\n",
       " ['No Rules Rules: Netflix and the Culture of Reinvention',\n",
       "  'Reed Hastings',\n",
       "  '4.6 out of 5 stars',\n",
       "  '931',\n",
       "  'Paperback',\n",
       "  '₹\\xa0650.00'],\n",
       " ['Never Split the Difference: Negotiating as if Your Life Depended on It',\n",
       "  'Chris Voss',\n",
       "  '4.6 out of 5 stars',\n",
       "  '9,606',\n",
       "  'Audible Audiobook',\n",
       "  '0'],\n",
       " ['Coffee Can Investing: The Low Risk Road to Stupendous Wealth',\n",
       "  'Saurabh Mukherjea',\n",
       "  '4.3 out of 5 stars',\n",
       "  '456',\n",
       "  'Hardcover',\n",
       "  '₹\\xa0420.03'],\n",
       " ['The Intelligent Investor, Rev. Ed',\n",
       "  'Benjamin Graham',\n",
       "  '4.4 out of 5 stars',\n",
       "  '13,250',\n",
       "  'Kindle Edition',\n",
       "  '₹\\xa0232.75'],\n",
       " ['Thinking, Fast and Slow',\n",
       "  'Daniel Kahneman',\n",
       "  '4.4 out of 5 stars',\n",
       "  '12,560',\n",
       "  'Kindle Edition',\n",
       "  '₹\\xa0109.00'],\n",
       " ['Joys Of Compounding: The Passionate Pursuit of Lifelong Learning',\n",
       "  'Gautam Baid',\n",
       "  '4.7 out of 5 stars',\n",
       "  '66',\n",
       "  'Kindle Edition',\n",
       "  '₹\\xa0298.78'],\n",
       " ['How to Make Money Trading with Candlestick Charts',\n",
       "  'Balkrishna M Sadekar',\n",
       "  '4.3 out of 5 stars',\n",
       "  '551',\n",
       "  'Paperback',\n",
       "  '₹\\xa0466.00'],\n",
       " ['The Power of Habit: Why We Do What We Do, and How to Change',\n",
       "  'Charles Duhigg',\n",
       "  '4.5 out of 5 stars',\n",
       "  '7,733',\n",
       "  'Paperback',\n",
       "  '₹\\xa0441.00'],\n",
       " ['Elon Musk: Success Secrets',\n",
       "  'George Ilian',\n",
       "  '4.3 out of 5 stars',\n",
       "  '82',\n",
       "  'Kindle Edition',\n",
       "  '₹\\xa092.39'],\n",
       " ['How to Develop Self-Confidence & Influence People By Public Speaking',\n",
       "  'Dale Carnegie',\n",
       "  '4.3 out of 5 stars',\n",
       "  '1,522',\n",
       "  'Paperback',\n",
       "  '₹\\xa0105.00'],\n",
       " [\"Till We Win: India's Fight Against The Covid-19 Pandemic\",\n",
       "  'Dr Chandrakant Lahariya',\n",
       "  '-1',\n",
       "  '0',\n",
       "  'Paperback',\n",
       "  '₹\\xa0298.00'],\n",
       " ['Zero to One',\n",
       "  'Peter Thiel',\n",
       "  '4.4 out of 5 stars',\n",
       "  '6,268',\n",
       "  'Audible Audiobook',\n",
       "  '0'],\n",
       " ['Rich Dad Poor Dad (Telugu)',\n",
       "  'Robert Kiyosaki',\n",
       "  '4.5 out of 5 stars',\n",
       "  '940',\n",
       "  'Paperback',\n",
       "  '₹\\xa0239.00'],\n",
       " ['The 7 Habits of Highly Effective People',\n",
       "  'R. Stephen Covey',\n",
       "  '4.3 out of 5 stars',\n",
       "  '9,675',\n",
       "  'Paperback',\n",
       "  '₹\\xa0407.00'],\n",
       " [\"Let's Talk Money: You've Worked Hard for It, Now Make It Work for You\",\n",
       "  'Monika Halan',\n",
       "  '4.5 out of 5 stars',\n",
       "  '528',\n",
       "  'Paperback',\n",
       "  '₹\\xa0285.00'],\n",
       " ['How to Avoid Loss and Earn Consistently in the Stock Market: An Easy-To-Understand and Practical Guide for Every…',\n",
       "  'Prasenjit Paul',\n",
       "  '4.5 out of 5 stars',\n",
       "  '1,821',\n",
       "  'Kindle Edition',\n",
       "  '₹\\xa0299.00'],\n",
       " ['Stocks to Riches: Insights on Investor Behaviour',\n",
       "  'Parag Parikh',\n",
       "  '4.2 out of 5 stars',\n",
       "  '395',\n",
       "  'Paperback',\n",
       "  '₹\\xa0378.00'],\n",
       " ['Deep Work: Rules for Focused Success in a Distracted World',\n",
       "  'Cal Newport',\n",
       "  '4.4 out of 5 stars',\n",
       "  '3,709',\n",
       "  'Kindle Edition',\n",
       "  '₹\\xa0118.59'],\n",
       " ['Think and Grow Rich',\n",
       "  'Napoleon Hill',\n",
       "  '4.5 out of 5 stars',\n",
       "  '30,573',\n",
       "  'Audible Audiobook',\n",
       "  '0'],\n",
       " ['Achchha Bolne Ki Kala Aur Kamyabi (Hindi)',\n",
       "  'Dale Carnegie',\n",
       "  '4.0 out of 5 stars',\n",
       "  '279',\n",
       "  'Kindle Edition',\n",
       "  '₹\\xa08.92'],\n",
       " ['Positive Thinking (Hindi Edition)',\n",
       "  'Napoleon Hill',\n",
       "  '4.3 out of 5 stars',\n",
       "  '41',\n",
       "  'Kindle Edition',\n",
       "  '₹\\xa051.45'],\n",
       " ['Baniye Network Marketing Millionaire',\n",
       "  'Deepak Bajaj',\n",
       "  '4.6 out of 5 stars',\n",
       "  '538',\n",
       "  'Paperback',\n",
       "  '₹\\xa0157.00'],\n",
       " ['HOW TO MAKE MONEY WITH BREAKOUT TRADING: Analyse Stock Market Through Candlestick Charts - A Simple Stock Market Book…',\n",
       "  'INDRAZITH SHANTHARAJ',\n",
       "  '4.6 out of 5 stars',\n",
       "  '422',\n",
       "  'Kindle Edition',\n",
       "  '₹\\xa099.00'],\n",
       " ['Declutter Your Mind: How to Stop Worrying, Relieve Anxiety, and Eliminate Negative Thinking',\n",
       "  'S.J. Scott',\n",
       "  '4.4 out of 5 stars',\n",
       "  '1,297',\n",
       "  'Kindle Edition',\n",
       "  '₹\\xa0235.00'],\n",
       " ['Rich Dad Poor Dad: What the Rich Teach Their Kids About Money That the Poor and Middle Class Do Not!',\n",
       "  'Robert T. Kiyosaki',\n",
       "  '4.5 out of 5 stars',\n",
       "  '35,703',\n",
       "  'Paperback',\n",
       "  '₹\\xa0499.00'],\n",
       " ['Chanakya in You',\n",
       "  'Radhakrishnan Pillai',\n",
       "  '4.3 out of 5 stars',\n",
       "  '231',\n",
       "  'Kindle Edition',\n",
       "  '₹\\xa0184.17'],\n",
       " [\"Factfulness: Ten Reasons We're Wrong About the World - and Why Things Are Better Than You Think\",\n",
       "  'Hans Rosling',\n",
       "  '4.6 out of 5 stars',\n",
       "  '6,320',\n",
       "  'Hardcover',\n",
       "  '₹\\xa0290.00'],\n",
       " ['Hyperfocus',\n",
       "  'Chris Bailey',\n",
       "  '4.5 out of 5 stars',\n",
       "  '262',\n",
       "  'Audible Audiobook',\n",
       "  '0'],\n",
       " ['Coffee Can Investing: the low risk road to stupendous wealth',\n",
       "  'Saurabh Mukherjea',\n",
       "  '4.3 out of 5 stars',\n",
       "  '456',\n",
       "  'Kindle Edition',\n",
       "  '₹\\xa0134.59'],\n",
       " ['The Secret (English) Paperback – 2019 by By Rhonda Byrne..',\n",
       "  'Rhonda Byrne',\n",
       "  '3.0 out of 5 stars',\n",
       "  '12',\n",
       "  'Paperback',\n",
       "  '₹\\xa0116.00'],\n",
       " ['How to Day Trade for a Living: Tools, Tactics, Money Management, Discipline and Trading Psychology',\n",
       "  'Andrew Aziz',\n",
       "  '4.4 out of 5 stars',\n",
       "  '5,249',\n",
       "  'Kindle Edition',\n",
       "  '₹\\xa0219.00'],\n",
       " ['Steve Jobs: The Exclusive Biography',\n",
       "  'Walter Isaacson',\n",
       "  '4.6 out of 5 stars',\n",
       "  '7,324',\n",
       "  'Paperback',\n",
       "  '₹\\xa0456.00'],\n",
       " [\"Case Study Handbook, Revised Edition: A Student's Guide\",\n",
       "  'William Ellet',\n",
       "  '4.5 out of 5 stars',\n",
       "  '70',\n",
       "  'Paperback',\n",
       "  '₹\\xa0583.00'],\n",
       " ['The Richest Man in Babylon: George S. Clason International Bestseller Book ‘The Richest Man in Babylon’ for How to Grow…',\n",
       "  'George S. Clason',\n",
       "  '4.4 out of 5 stars',\n",
       "  '12,428',\n",
       "  'Kindle Edition',\n",
       "  '₹\\xa017.85'],\n",
       " ['The Wealth of Nations',\n",
       "  'Adam Smith',\n",
       "  '4.5 out of 5 stars',\n",
       "  '150',\n",
       "  'Paperback',\n",
       "  '₹\\xa0299.00'],\n",
       " ['The Design of Everyday Things: Revised and Expanded Edition',\n",
       "  'Don Norman',\n",
       "  '4.2 out of 5 stars',\n",
       "  '1,889',\n",
       "  'Paperback',\n",
       "  '₹\\xa0280.00'],\n",
       " ['The Design of Everyday Things: Revised and Expanded Edition',\n",
       "  'Don Norman',\n",
       "  '4.5 out of 5 stars',\n",
       "  '515',\n",
       "  'Paperback',\n",
       "  '₹\\xa0237.00'],\n",
       " ['Success Through a Positive Mental Attitude',\n",
       "  'Napoleon Hill',\n",
       "  '4.5 out of 5 stars',\n",
       "  '1,017',\n",
       "  'Paperback',\n",
       "  '₹\\xa0110.00'],\n",
       " ['Babylon Ka Sabse Ameer Aadami (The Richest Man in Babylon in Hindi): Hindi Translation of International Bestseller',\n",
       "  'George S. Clason',\n",
       "  '4.3 out of 5 stars',\n",
       "  '76',\n",
       "  'Paperback',\n",
       "  '₹\\xa0143.00'],\n",
       " ['Elon Musk: How the Billionaire CEO of SpaceX and Tesla is Shaping our Future',\n",
       "  'Ashlee Vance',\n",
       "  '4.5 out of 5 stars',\n",
       "  '7,841',\n",
       "  'Paperback',\n",
       "  '₹\\xa0614.00'],\n",
       " ['The 4-Hour Work Week: Escape the 9-5, Live Anywhere and Join the New Rich',\n",
       "  'Timothy Ferriss',\n",
       "  '4.3 out of 5 stars',\n",
       "  '8,699',\n",
       "  'Paperback',\n",
       "  '₹\\xa0524.00'],\n",
       " ['Economics on your tips - Indian economic development + Macro economics session 2020-21',\n",
       "  'Gaurav Jain',\n",
       "  '4.4 out of 5 stars',\n",
       "  '280',\n",
       "  'Hardcover',\n",
       "  '₹\\xa0700.00'],\n",
       " ['The Power of Your Subconscious Mind (DELUXE HARDBOUND EDITION)',\n",
       "  'Dr. Joseph Murphy',\n",
       "  '4.5 out of 5 stars',\n",
       "  '21,229',\n",
       "  'Hardcover',\n",
       "  '₹\\xa0399.00'],\n",
       " ['Seven habbits of highly effective People E books Unbound (powerful lesson) - (In Englisher)',\n",
       "  'by Robert T Kiyoyaski (Author)',\n",
       "  '3.7 out of 5 stars',\n",
       "  '24',\n",
       "  'Paperback',\n",
       "  '₹\\xa0270.00'],\n",
       " ['Business School',\n",
       "  'Robert T. Kiyosaki',\n",
       "  '4.4 out of 5 stars',\n",
       "  '493',\n",
       "  'Paperback',\n",
       "  '₹\\xa0135.00'],\n",
       " ['No Rules Rules: Netflix and the Culture of Reinvention',\n",
       "  'Reed Hastings',\n",
       "  '4.6 out of 5 stars',\n",
       "  '931',\n",
       "  'Audible Audiobook',\n",
       "  '0'],\n",
       " ['Before You Start Up: How to Prepare to Make Your Startup Dream a Reality',\n",
       "  'Pankaj Goyal',\n",
       "  '4.2 out of 5 stars',\n",
       "  '434',\n",
       "  'Paperback',\n",
       "  '₹\\xa0199.00'],\n",
       " ['Definitive Guide to Advanced Options Trading: A quantitative and no-nonsense approach to Option Selling for Income…',\n",
       "  'Rohit Katwal',\n",
       "  '4.6 out of 5 stars',\n",
       "  '49',\n",
       "  'Kindle Edition',\n",
       "  '₹\\xa0449.00'],\n",
       " ['How to Make Money in Intraday Trading: A Master Class By One of India’s Most Famous Traders',\n",
       "  'Ashwani Gujral',\n",
       "  '4.1 out of 5 stars',\n",
       "  '401',\n",
       "  'Paperback',\n",
       "  '₹\\xa0889.00']]"
      ]
     },
     "execution_count": 5,
     "metadata": {},
     "output_type": "execute_result"
    }
   ],
   "source": [
    "flatten=lambda l:[item for sublist in l for item in sublist]\n",
    "flatten(records)"
   ]
  },
  {
   "cell_type": "code",
   "execution_count": 6,
   "metadata": {},
   "outputs": [],
   "source": [
    "df=pd.DataFrame(flatten(records),columns=['Book_Name','Author','Rating','Customer_Rated','Type','Price'])"
   ]
  },
  {
   "cell_type": "code",
   "execution_count": 7,
   "metadata": {},
   "outputs": [
    {
     "data": {
      "text/html": [
       "<div>\n",
       "<style scoped>\n",
       "    .dataframe tbody tr th:only-of-type {\n",
       "        vertical-align: middle;\n",
       "    }\n",
       "\n",
       "    .dataframe tbody tr th {\n",
       "        vertical-align: top;\n",
       "    }\n",
       "\n",
       "    .dataframe thead th {\n",
       "        text-align: right;\n",
       "    }\n",
       "</style>\n",
       "<table border=\"1\" class=\"dataframe\">\n",
       "  <thead>\n",
       "    <tr style=\"text-align: right;\">\n",
       "      <th></th>\n",
       "      <th>Book_Name</th>\n",
       "      <th>Author</th>\n",
       "      <th>Rating</th>\n",
       "      <th>Customer_Rated</th>\n",
       "      <th>Type</th>\n",
       "      <th>Price</th>\n",
       "    </tr>\n",
       "  </thead>\n",
       "  <tbody>\n",
       "    <tr>\n",
       "      <th>0</th>\n",
       "      <td>World’s Greatest Books For Personal Growth &amp; W...</td>\n",
       "      <td>Dale Carnegie</td>\n",
       "      <td>4.5 out of 5 stars</td>\n",
       "      <td>1,564</td>\n",
       "      <td>Paperback</td>\n",
       "      <td>₹ 299.00</td>\n",
       "    </tr>\n",
       "    <tr>\n",
       "      <th>1</th>\n",
       "      <td>The Intelligent Investor (English) Paperback –...</td>\n",
       "      <td>Benjamin Graham</td>\n",
       "      <td>4.4 out of 5 stars</td>\n",
       "      <td>13,250</td>\n",
       "      <td>Paperback</td>\n",
       "      <td>₹ 401.00</td>\n",
       "    </tr>\n",
       "  </tbody>\n",
       "</table>\n",
       "</div>"
      ],
      "text/plain": [
       "                                           Book_Name           Author  \\\n",
       "0  World’s Greatest Books For Personal Growth & W...    Dale Carnegie   \n",
       "1  The Intelligent Investor (English) Paperback –...  Benjamin Graham   \n",
       "\n",
       "               Rating Customer_Rated       Type     Price  \n",
       "0  4.5 out of 5 stars          1,564  Paperback  ₹ 299.00  \n",
       "1  4.4 out of 5 stars         13,250  Paperback  ₹ 401.00  "
      ]
     },
     "execution_count": 7,
     "metadata": {},
     "output_type": "execute_result"
    }
   ],
   "source": [
    "df.head(2)"
   ]
  },
  {
   "cell_type": "code",
   "execution_count": 8,
   "metadata": {},
   "outputs": [],
   "source": [
    "df['Rating']=df['Rating'].apply(lambda x:x.split(' ')[0])"
   ]
  },
  {
   "cell_type": "code",
   "execution_count": 9,
   "metadata": {},
   "outputs": [],
   "source": [
    "df['Rating']=pd.to_numeric(df['Rating'],errors='ignore')"
   ]
  },
  {
   "cell_type": "code",
   "execution_count": 10,
   "metadata": {},
   "outputs": [],
   "source": [
    "df['Customer_Rated']=df['Customer_Rated'].str.replace(',','')"
   ]
  },
  {
   "cell_type": "code",
   "execution_count": 11,
   "metadata": {},
   "outputs": [],
   "source": [
    "df['Price']=df['Price'].apply(lambda x:x.split('₹')[-1])"
   ]
  },
  {
   "cell_type": "code",
   "execution_count": 12,
   "metadata": {},
   "outputs": [],
   "source": [
    "df['Price']=df['Price'].str.replace(',','')"
   ]
  },
  {
   "cell_type": "code",
   "execution_count": 13,
   "metadata": {},
   "outputs": [],
   "source": [
    "df['Price']=df['Price'].apply(lambda x:x.split('.')[0])"
   ]
  },
  {
   "cell_type": "code",
   "execution_count": 14,
   "metadata": {},
   "outputs": [],
   "source": [
    "df['Price']=df['Price'].astype(int)"
   ]
  },
  {
   "cell_type": "code",
   "execution_count": 15,
   "metadata": {},
   "outputs": [],
   "source": [
    "df['Customer_Rated']=pd.to_numeric(df['Customer_Rated'],errors='ignore')"
   ]
  },
  {
   "cell_type": "code",
   "execution_count": 16,
   "metadata": {},
   "outputs": [],
   "source": [
    "df.replace(str(0),np.nan,inplace=True)"
   ]
  },
  {
   "cell_type": "code",
   "execution_count": 17,
   "metadata": {},
   "outputs": [],
   "source": [
    "df.replace(0,np.nan,inplace=True)"
   ]
  },
  {
   "cell_type": "code",
   "execution_count": 18,
   "metadata": {},
   "outputs": [],
   "source": [
    "count_nan=len(df)-df.count()"
   ]
  },
  {
   "cell_type": "code",
   "execution_count": 19,
   "metadata": {},
   "outputs": [
    {
     "data": {
      "text/plain": [
       "Book_Name          0\n",
       "Author             0\n",
       "Rating             0\n",
       "Customer_Rated     2\n",
       "Type               1\n",
       "Price             15\n",
       "dtype: int64"
      ]
     },
     "execution_count": 19,
     "metadata": {},
     "output_type": "execute_result"
    }
   ],
   "source": [
    "count_nan"
   ]
  },
  {
   "cell_type": "code",
   "execution_count": 20,
   "metadata": {},
   "outputs": [],
   "source": [
    "df=df.dropna()"
   ]
  },
  {
   "cell_type": "code",
   "execution_count": 21,
   "metadata": {},
   "outputs": [
    {
     "data": {
      "text/html": [
       "<div>\n",
       "<style scoped>\n",
       "    .dataframe tbody tr th:only-of-type {\n",
       "        vertical-align: middle;\n",
       "    }\n",
       "\n",
       "    .dataframe tbody tr th {\n",
       "        vertical-align: top;\n",
       "    }\n",
       "\n",
       "    .dataframe thead th {\n",
       "        text-align: right;\n",
       "    }\n",
       "</style>\n",
       "<table border=\"1\" class=\"dataframe\">\n",
       "  <thead>\n",
       "    <tr style=\"text-align: right;\">\n",
       "      <th></th>\n",
       "      <th>Book_Name</th>\n",
       "      <th>Author</th>\n",
       "      <th>Rating</th>\n",
       "      <th>Customer_Rated</th>\n",
       "      <th>Type</th>\n",
       "      <th>Price</th>\n",
       "    </tr>\n",
       "  </thead>\n",
       "  <tbody>\n",
       "    <tr>\n",
       "      <th>47</th>\n",
       "      <td>Pandemonium: The Great Indian Banking Tragedy</td>\n",
       "      <td>Tamal Bandyopadhyay</td>\n",
       "      <td>5.0</td>\n",
       "      <td>3.0</td>\n",
       "      <td>Hardcover</td>\n",
       "      <td>585.0</td>\n",
       "    </tr>\n",
       "    <tr>\n",
       "      <th>4</th>\n",
       "      <td>A New Idea of India: Individual Rights in a Ci...</td>\n",
       "      <td>Harsh Madhusudan</td>\n",
       "      <td>4.8</td>\n",
       "      <td>54.0</td>\n",
       "      <td>Hardcover</td>\n",
       "      <td>578.0</td>\n",
       "    </tr>\n",
       "    <tr>\n",
       "      <th>23</th>\n",
       "      <td>A New Idea of India: Individual Rights in a Ci...</td>\n",
       "      <td>Harsh Madhusudan</td>\n",
       "      <td>4.8</td>\n",
       "      <td>54.0</td>\n",
       "      <td>Kindle Edition</td>\n",
       "      <td>499.0</td>\n",
       "    </tr>\n",
       "    <tr>\n",
       "      <th>14</th>\n",
       "      <td>The Joys Of Compounding: The Passionate Pursui...</td>\n",
       "      <td>Gautam Baid</td>\n",
       "      <td>4.7</td>\n",
       "      <td>66.0</td>\n",
       "      <td>Paperback</td>\n",
       "      <td>399.0</td>\n",
       "    </tr>\n",
       "    <tr>\n",
       "      <th>56</th>\n",
       "      <td>Joys Of Compounding: The Passionate Pursuit of...</td>\n",
       "      <td>Gautam Baid</td>\n",
       "      <td>4.7</td>\n",
       "      <td>66.0</td>\n",
       "      <td>Kindle Edition</td>\n",
       "      <td>298.0</td>\n",
       "    </tr>\n",
       "    <tr>\n",
       "      <th>...</th>\n",
       "      <td>...</td>\n",
       "      <td>...</td>\n",
       "      <td>...</td>\n",
       "      <td>...</td>\n",
       "      <td>...</td>\n",
       "      <td>...</td>\n",
       "    </tr>\n",
       "    <tr>\n",
       "      <th>9</th>\n",
       "      <td>Basics of Indian Stock Market: Learn Markets F...</td>\n",
       "      <td>ANGSHUMAN ADHIKARI</td>\n",
       "      <td>3.9</td>\n",
       "      <td>59.0</td>\n",
       "      <td>Kindle Edition</td>\n",
       "      <td>100.0</td>\n",
       "    </tr>\n",
       "    <tr>\n",
       "      <th>20</th>\n",
       "      <td>THE SCAM: from Harshad Mehta to Ketan Parekh A...</td>\n",
       "      <td>Debashis Basu</td>\n",
       "      <td>3.8</td>\n",
       "      <td>29.0</td>\n",
       "      <td>Kindle Edition</td>\n",
       "      <td>413.0</td>\n",
       "    </tr>\n",
       "    <tr>\n",
       "      <th>94</th>\n",
       "      <td>Seven habbits of highly effective People E boo...</td>\n",
       "      <td>by Robert T Kiyoyaski (Author)</td>\n",
       "      <td>3.7</td>\n",
       "      <td>24.0</td>\n",
       "      <td>Paperback</td>\n",
       "      <td>270.0</td>\n",
       "    </tr>\n",
       "    <tr>\n",
       "      <th>80</th>\n",
       "      <td>The Secret (English) Paperback – 2019 by By Rh...</td>\n",
       "      <td>Rhonda Byrne</td>\n",
       "      <td>3.0</td>\n",
       "      <td>12.0</td>\n",
       "      <td>Paperback</td>\n",
       "      <td>116.0</td>\n",
       "    </tr>\n",
       "    <tr>\n",
       "      <th>17</th>\n",
       "      <td>Understanding the Theory and Design of Organiz...</td>\n",
       "      <td>Richard L. Daft</td>\n",
       "      <td>1.0</td>\n",
       "      <td>2.0</td>\n",
       "      <td>Kindle Edition</td>\n",
       "      <td>447.0</td>\n",
       "    </tr>\n",
       "  </tbody>\n",
       "</table>\n",
       "<p>84 rows × 6 columns</p>\n",
       "</div>"
      ],
      "text/plain": [
       "                                            Book_Name  \\\n",
       "47      Pandemonium: The Great Indian Banking Tragedy   \n",
       "4   A New Idea of India: Individual Rights in a Ci...   \n",
       "23  A New Idea of India: Individual Rights in a Ci...   \n",
       "14  The Joys Of Compounding: The Passionate Pursui...   \n",
       "56  Joys Of Compounding: The Passionate Pursuit of...   \n",
       "..                                                ...   \n",
       "9   Basics of Indian Stock Market: Learn Markets F...   \n",
       "20  THE SCAM: from Harshad Mehta to Ketan Parekh A...   \n",
       "94  Seven habbits of highly effective People E boo...   \n",
       "80  The Secret (English) Paperback – 2019 by By Rh...   \n",
       "17  Understanding the Theory and Design of Organiz...   \n",
       "\n",
       "                            Author  Rating  Customer_Rated            Type  \\\n",
       "47             Tamal Bandyopadhyay     5.0             3.0       Hardcover   \n",
       "4                 Harsh Madhusudan     4.8            54.0       Hardcover   \n",
       "23                Harsh Madhusudan     4.8            54.0  Kindle Edition   \n",
       "14                     Gautam Baid     4.7            66.0       Paperback   \n",
       "56                     Gautam Baid     4.7            66.0  Kindle Edition   \n",
       "..                             ...     ...             ...             ...   \n",
       "9               ANGSHUMAN ADHIKARI     3.9            59.0  Kindle Edition   \n",
       "20                   Debashis Basu     3.8            29.0  Kindle Edition   \n",
       "94  by Robert T Kiyoyaski (Author)     3.7            24.0       Paperback   \n",
       "80                    Rhonda Byrne     3.0            12.0       Paperback   \n",
       "17                 Richard L. Daft     1.0             2.0  Kindle Edition   \n",
       "\n",
       "    Price  \n",
       "47  585.0  \n",
       "4   578.0  \n",
       "23  499.0  \n",
       "14  399.0  \n",
       "56  298.0  \n",
       "..    ...  \n",
       "9   100.0  \n",
       "20  413.0  \n",
       "94  270.0  \n",
       "80  116.0  \n",
       "17  447.0  \n",
       "\n",
       "[84 rows x 6 columns]"
      ]
     },
     "execution_count": 21,
     "metadata": {},
     "output_type": "execute_result"
    }
   ],
   "source": [
    "df.sort_values(by='Rating',ascending=False)"
   ]
  },
  {
   "cell_type": "code",
   "execution_count": 22,
   "metadata": {},
   "outputs": [
    {
     "data": {
      "text/html": [
       "<div>\n",
       "<style scoped>\n",
       "    .dataframe tbody tr th:only-of-type {\n",
       "        vertical-align: middle;\n",
       "    }\n",
       "\n",
       "    .dataframe tbody tr th {\n",
       "        vertical-align: top;\n",
       "    }\n",
       "\n",
       "    .dataframe thead th {\n",
       "        text-align: right;\n",
       "    }\n",
       "</style>\n",
       "<table border=\"1\" class=\"dataframe\">\n",
       "  <thead>\n",
       "    <tr style=\"text-align: right;\">\n",
       "      <th></th>\n",
       "      <th>Book_Name</th>\n",
       "      <th>Author</th>\n",
       "      <th>Rating</th>\n",
       "      <th>Customer_Rated</th>\n",
       "      <th>Type</th>\n",
       "      <th>Price</th>\n",
       "    </tr>\n",
       "  </thead>\n",
       "  <tbody>\n",
       "    <tr>\n",
       "      <th>99</th>\n",
       "      <td>How to Make Money in Intraday Trading: A Maste...</td>\n",
       "      <td>Ashwani Gujral</td>\n",
       "      <td>4.1</td>\n",
       "      <td>401.0</td>\n",
       "      <td>Paperback</td>\n",
       "      <td>889.0</td>\n",
       "    </tr>\n",
       "    <tr>\n",
       "      <th>22</th>\n",
       "      <td>The 7 Habits of Highly Effective People: Power...</td>\n",
       "      <td>Stephen R. Covey</td>\n",
       "      <td>4.3</td>\n",
       "      <td>9675.0</td>\n",
       "      <td>Kindle Edition with Audio/Video</td>\n",
       "      <td>738.0</td>\n",
       "    </tr>\n",
       "    <tr>\n",
       "      <th>92</th>\n",
       "      <td>Economics on your tips - Indian economic devel...</td>\n",
       "      <td>Gaurav Jain</td>\n",
       "      <td>4.4</td>\n",
       "      <td>280.0</td>\n",
       "      <td>Hardcover</td>\n",
       "      <td>700.0</td>\n",
       "    </tr>\n",
       "    <tr>\n",
       "      <th>51</th>\n",
       "      <td>No Rules Rules: Netflix and the Culture of Rei...</td>\n",
       "      <td>Reed Hastings</td>\n",
       "      <td>4.6</td>\n",
       "      <td>931.0</td>\n",
       "      <td>Paperback</td>\n",
       "      <td>650.0</td>\n",
       "    </tr>\n",
       "    <tr>\n",
       "      <th>90</th>\n",
       "      <td>Elon Musk: How the Billionaire CEO of SpaceX a...</td>\n",
       "      <td>Ashlee Vance</td>\n",
       "      <td>4.5</td>\n",
       "      <td>7841.0</td>\n",
       "      <td>Paperback</td>\n",
       "      <td>614.0</td>\n",
       "    </tr>\n",
       "    <tr>\n",
       "      <th>...</th>\n",
       "      <td>...</td>\n",
       "      <td>...</td>\n",
       "      <td>...</td>\n",
       "      <td>...</td>\n",
       "      <td>...</td>\n",
       "      <td>...</td>\n",
       "    </tr>\n",
       "    <tr>\n",
       "      <th>84</th>\n",
       "      <td>The Richest Man in Babylon: George S. Clason I...</td>\n",
       "      <td>George S. Clason</td>\n",
       "      <td>4.4</td>\n",
       "      <td>12428.0</td>\n",
       "      <td>Kindle Edition</td>\n",
       "      <td>17.0</td>\n",
       "    </tr>\n",
       "    <tr>\n",
       "      <th>21</th>\n",
       "      <td>The Art of Public Speaking by Dale Carnegie (I...</td>\n",
       "      <td>Dale Carnegie</td>\n",
       "      <td>4.1</td>\n",
       "      <td>705.0</td>\n",
       "      <td>Kindle Edition</td>\n",
       "      <td>11.0</td>\n",
       "    </tr>\n",
       "    <tr>\n",
       "      <th>11</th>\n",
       "      <td>How to take decisions (Management Sutras Book 5)</td>\n",
       "      <td>Devdutt Pattanaik</td>\n",
       "      <td>4.2</td>\n",
       "      <td>800.0</td>\n",
       "      <td>Kindle Edition</td>\n",
       "      <td>10.0</td>\n",
       "    </tr>\n",
       "    <tr>\n",
       "      <th>18</th>\n",
       "      <td>10 Ways to Motivate Yourself: Change Your Life...</td>\n",
       "      <td>Steve Chandler</td>\n",
       "      <td>4.3</td>\n",
       "      <td>1121.0</td>\n",
       "      <td>Kindle Edition</td>\n",
       "      <td>10.0</td>\n",
       "    </tr>\n",
       "    <tr>\n",
       "      <th>70</th>\n",
       "      <td>Achchha Bolne Ki Kala Aur Kamyabi (Hindi)</td>\n",
       "      <td>Dale Carnegie</td>\n",
       "      <td>4.0</td>\n",
       "      <td>279.0</td>\n",
       "      <td>Kindle Edition</td>\n",
       "      <td>8.0</td>\n",
       "    </tr>\n",
       "  </tbody>\n",
       "</table>\n",
       "<p>84 rows × 6 columns</p>\n",
       "</div>"
      ],
      "text/plain": [
       "                                            Book_Name             Author  \\\n",
       "99  How to Make Money in Intraday Trading: A Maste...     Ashwani Gujral   \n",
       "22  The 7 Habits of Highly Effective People: Power...   Stephen R. Covey   \n",
       "92  Economics on your tips - Indian economic devel...        Gaurav Jain   \n",
       "51  No Rules Rules: Netflix and the Culture of Rei...      Reed Hastings   \n",
       "90  Elon Musk: How the Billionaire CEO of SpaceX a...       Ashlee Vance   \n",
       "..                                                ...                ...   \n",
       "84  The Richest Man in Babylon: George S. Clason I...   George S. Clason   \n",
       "21  The Art of Public Speaking by Dale Carnegie (I...      Dale Carnegie   \n",
       "11   How to take decisions (Management Sutras Book 5)  Devdutt Pattanaik   \n",
       "18  10 Ways to Motivate Yourself: Change Your Life...     Steve Chandler   \n",
       "70          Achchha Bolne Ki Kala Aur Kamyabi (Hindi)      Dale Carnegie   \n",
       "\n",
       "    Rating  Customer_Rated                             Type  Price  \n",
       "99     4.1           401.0                        Paperback  889.0  \n",
       "22     4.3          9675.0  Kindle Edition with Audio/Video  738.0  \n",
       "92     4.4           280.0                        Hardcover  700.0  \n",
       "51     4.6           931.0                        Paperback  650.0  \n",
       "90     4.5          7841.0                        Paperback  614.0  \n",
       "..     ...             ...                              ...    ...  \n",
       "84     4.4         12428.0                   Kindle Edition   17.0  \n",
       "21     4.1           705.0                   Kindle Edition   11.0  \n",
       "11     4.2           800.0                   Kindle Edition   10.0  \n",
       "18     4.3          1121.0                   Kindle Edition   10.0  \n",
       "70     4.0           279.0                   Kindle Edition    8.0  \n",
       "\n",
       "[84 rows x 6 columns]"
      ]
     },
     "execution_count": 22,
     "metadata": {},
     "output_type": "execute_result"
    }
   ],
   "source": [
    "df.sort_values(by='Price',ascending=False)"
   ]
  },
  {
   "cell_type": "code",
   "execution_count": 23,
   "metadata": {},
   "outputs": [
    {
     "data": {
      "text/plain": [
       "4.5    24\n",
       "4.3    16\n",
       "4.4    15\n",
       "4.6    10\n",
       "4.2     4\n",
       "4.1     3\n",
       "4.7     2\n",
       "4.8     2\n",
       "4.0     2\n",
       "3.7     1\n",
       "3.8     1\n",
       "3.9     1\n",
       "3.0     1\n",
       "5.0     1\n",
       "1.0     1\n",
       "Name: Rating, dtype: int64"
      ]
     },
     "execution_count": 23,
     "metadata": {},
     "output_type": "execute_result"
    }
   ],
   "source": [
    "df['Rating'].value_counts()"
   ]
  },
  {
   "cell_type": "code",
   "execution_count": 24,
   "metadata": {},
   "outputs": [
    {
     "data": {
      "text/plain": [
       "Paperback                          45\n",
       "Kindle Edition                     28\n",
       "Hardcover                           8\n",
       "Kindle Edition with Audio/Video     1\n",
       "Perfect Paperback                   1\n",
       "Mass Market Paperback               1\n",
       "Name: Type, dtype: int64"
      ]
     },
     "execution_count": 24,
     "metadata": {},
     "output_type": "execute_result"
    }
   ],
   "source": [
    "df['Type'].value_counts()"
   ]
  },
  {
   "cell_type": "code",
   "execution_count": 25,
   "metadata": {},
   "outputs": [],
   "source": [
    "df['Type'].replace({'Paperback Bunko':'Paperback','Mass Market Paperback':'Paperback','Perfect Paperback':'Paperback'},inplace=True)"
   ]
  },
  {
   "cell_type": "code",
   "execution_count": 26,
   "metadata": {},
   "outputs": [
    {
     "data": {
      "text/plain": [
       "Paperback                          47\n",
       "Kindle Edition                     28\n",
       "Hardcover                           8\n",
       "Kindle Edition with Audio/Video     1\n",
       "Name: Type, dtype: int64"
      ]
     },
     "execution_count": 26,
     "metadata": {},
     "output_type": "execute_result"
    }
   ],
   "source": [
    "df['Type'].value_counts()"
   ]
  },
  {
   "cell_type": "code",
   "execution_count": 27,
   "metadata": {},
   "outputs": [
    {
     "data": {
      "text/html": [
       "<div>\n",
       "<style scoped>\n",
       "    .dataframe tbody tr th:only-of-type {\n",
       "        vertical-align: middle;\n",
       "    }\n",
       "\n",
       "    .dataframe tbody tr th {\n",
       "        vertical-align: top;\n",
       "    }\n",
       "\n",
       "    .dataframe thead th {\n",
       "        text-align: right;\n",
       "    }\n",
       "</style>\n",
       "<table border=\"1\" class=\"dataframe\">\n",
       "  <thead>\n",
       "    <tr style=\"text-align: right;\">\n",
       "      <th></th>\n",
       "      <th>Book_Name</th>\n",
       "      <th>Author</th>\n",
       "      <th>Rating</th>\n",
       "      <th>Customer_Rated</th>\n",
       "      <th>Type</th>\n",
       "      <th>Price</th>\n",
       "    </tr>\n",
       "  </thead>\n",
       "  <tbody>\n",
       "    <tr>\n",
       "      <th>99</th>\n",
       "      <td>How to Make Money in Intraday Trading: A Maste...</td>\n",
       "      <td>Ashwani Gujral</td>\n",
       "      <td>4.1</td>\n",
       "      <td>401.0</td>\n",
       "      <td>Paperback</td>\n",
       "      <td>889.0</td>\n",
       "    </tr>\n",
       "    <tr>\n",
       "      <th>22</th>\n",
       "      <td>The 7 Habits of Highly Effective People: Power...</td>\n",
       "      <td>Stephen R. Covey</td>\n",
       "      <td>4.3</td>\n",
       "      <td>9675.0</td>\n",
       "      <td>Kindle Edition with Audio/Video</td>\n",
       "      <td>738.0</td>\n",
       "    </tr>\n",
       "    <tr>\n",
       "      <th>92</th>\n",
       "      <td>Economics on your tips - Indian economic devel...</td>\n",
       "      <td>Gaurav Jain</td>\n",
       "      <td>4.4</td>\n",
       "      <td>280.0</td>\n",
       "      <td>Hardcover</td>\n",
       "      <td>700.0</td>\n",
       "    </tr>\n",
       "    <tr>\n",
       "      <th>51</th>\n",
       "      <td>No Rules Rules: Netflix and the Culture of Rei...</td>\n",
       "      <td>Reed Hastings</td>\n",
       "      <td>4.6</td>\n",
       "      <td>931.0</td>\n",
       "      <td>Paperback</td>\n",
       "      <td>650.0</td>\n",
       "    </tr>\n",
       "    <tr>\n",
       "      <th>90</th>\n",
       "      <td>Elon Musk: How the Billionaire CEO of SpaceX a...</td>\n",
       "      <td>Ashlee Vance</td>\n",
       "      <td>4.5</td>\n",
       "      <td>7841.0</td>\n",
       "      <td>Paperback</td>\n",
       "      <td>614.0</td>\n",
       "    </tr>\n",
       "    <tr>\n",
       "      <th>33</th>\n",
       "      <td>The Scam: From Harshad Mehta To Ketan Parekh A...</td>\n",
       "      <td>Debashis Basu and Sucheta Dalal</td>\n",
       "      <td>4.0</td>\n",
       "      <td>13.0</td>\n",
       "      <td>Paperback</td>\n",
       "      <td>600.0</td>\n",
       "    </tr>\n",
       "    <tr>\n",
       "      <th>47</th>\n",
       "      <td>Pandemonium: The Great Indian Banking Tragedy</td>\n",
       "      <td>Tamal Bandyopadhyay</td>\n",
       "      <td>5.0</td>\n",
       "      <td>3.0</td>\n",
       "      <td>Hardcover</td>\n",
       "      <td>585.0</td>\n",
       "    </tr>\n",
       "    <tr>\n",
       "      <th>83</th>\n",
       "      <td>Case Study Handbook, Revised Edition: A Studen...</td>\n",
       "      <td>William Ellet</td>\n",
       "      <td>4.5</td>\n",
       "      <td>70.0</td>\n",
       "      <td>Paperback</td>\n",
       "      <td>583.0</td>\n",
       "    </tr>\n",
       "    <tr>\n",
       "      <th>4</th>\n",
       "      <td>A New Idea of India: Individual Rights in a Ci...</td>\n",
       "      <td>Harsh Madhusudan</td>\n",
       "      <td>4.8</td>\n",
       "      <td>54.0</td>\n",
       "      <td>Hardcover</td>\n",
       "      <td>578.0</td>\n",
       "    </tr>\n",
       "    <tr>\n",
       "      <th>91</th>\n",
       "      <td>The 4-Hour Work Week: Escape the 9-5, Live Any...</td>\n",
       "      <td>Timothy Ferriss</td>\n",
       "      <td>4.3</td>\n",
       "      <td>8699.0</td>\n",
       "      <td>Paperback</td>\n",
       "      <td>524.0</td>\n",
       "    </tr>\n",
       "  </tbody>\n",
       "</table>\n",
       "</div>"
      ],
      "text/plain": [
       "                                            Book_Name  \\\n",
       "99  How to Make Money in Intraday Trading: A Maste...   \n",
       "22  The 7 Habits of Highly Effective People: Power...   \n",
       "92  Economics on your tips - Indian economic devel...   \n",
       "51  No Rules Rules: Netflix and the Culture of Rei...   \n",
       "90  Elon Musk: How the Billionaire CEO of SpaceX a...   \n",
       "33  The Scam: From Harshad Mehta To Ketan Parekh A...   \n",
       "47      Pandemonium: The Great Indian Banking Tragedy   \n",
       "83  Case Study Handbook, Revised Edition: A Studen...   \n",
       "4   A New Idea of India: Individual Rights in a Ci...   \n",
       "91  The 4-Hour Work Week: Escape the 9-5, Live Any...   \n",
       "\n",
       "                             Author  Rating  Customer_Rated  \\\n",
       "99                   Ashwani Gujral     4.1           401.0   \n",
       "22                 Stephen R. Covey     4.3          9675.0   \n",
       "92                      Gaurav Jain     4.4           280.0   \n",
       "51                    Reed Hastings     4.6           931.0   \n",
       "90                     Ashlee Vance     4.5          7841.0   \n",
       "33  Debashis Basu and Sucheta Dalal     4.0            13.0   \n",
       "47              Tamal Bandyopadhyay     5.0             3.0   \n",
       "83                    William Ellet     4.5            70.0   \n",
       "4                  Harsh Madhusudan     4.8            54.0   \n",
       "91                  Timothy Ferriss     4.3          8699.0   \n",
       "\n",
       "                               Type  Price  \n",
       "99                        Paperback  889.0  \n",
       "22  Kindle Edition with Audio/Video  738.0  \n",
       "92                        Hardcover  700.0  \n",
       "51                        Paperback  650.0  \n",
       "90                        Paperback  614.0  \n",
       "33                        Paperback  600.0  \n",
       "47                        Hardcover  585.0  \n",
       "83                        Paperback  583.0  \n",
       "4                         Hardcover  578.0  \n",
       "91                        Paperback  524.0  "
      ]
     },
     "execution_count": 27,
     "metadata": {},
     "output_type": "execute_result"
    }
   ],
   "source": [
    "top_10_price=df.sort_values(by='Price',ascending=False).head(10)\n",
    "top_10_price"
   ]
  },
  {
   "cell_type": "code",
   "execution_count": 28,
   "metadata": {},
   "outputs": [
    {
     "data": {
      "text/html": [
       "<div>\n",
       "<style scoped>\n",
       "    .dataframe tbody tr th:only-of-type {\n",
       "        vertical-align: middle;\n",
       "    }\n",
       "\n",
       "    .dataframe tbody tr th {\n",
       "        vertical-align: top;\n",
       "    }\n",
       "\n",
       "    .dataframe thead th {\n",
       "        text-align: right;\n",
       "    }\n",
       "</style>\n",
       "<table border=\"1\" class=\"dataframe\">\n",
       "  <thead>\n",
       "    <tr style=\"text-align: right;\">\n",
       "      <th></th>\n",
       "      <th>Book_Name</th>\n",
       "      <th>Author</th>\n",
       "      <th>Rating</th>\n",
       "      <th>Customer_Rated</th>\n",
       "      <th>Type</th>\n",
       "      <th>Price</th>\n",
       "    </tr>\n",
       "  </thead>\n",
       "  <tbody>\n",
       "    <tr>\n",
       "      <th>99</th>\n",
       "      <td>How to Make Money in Intraday Trading: A Maste...</td>\n",
       "      <td>Ashwani Gujral</td>\n",
       "      <td>4.1</td>\n",
       "      <td>401.0</td>\n",
       "      <td>Paperback</td>\n",
       "      <td>889.0</td>\n",
       "    </tr>\n",
       "    <tr>\n",
       "      <th>22</th>\n",
       "      <td>The 7 Habits of Highly Effective People: Power...</td>\n",
       "      <td>Stephen R. Covey</td>\n",
       "      <td>4.3</td>\n",
       "      <td>9675.0</td>\n",
       "      <td>Kindle Edition with Audio/Video</td>\n",
       "      <td>738.0</td>\n",
       "    </tr>\n",
       "    <tr>\n",
       "      <th>92</th>\n",
       "      <td>Economics on your tips - Indian economic devel...</td>\n",
       "      <td>Gaurav Jain</td>\n",
       "      <td>4.4</td>\n",
       "      <td>280.0</td>\n",
       "      <td>Hardcover</td>\n",
       "      <td>700.0</td>\n",
       "    </tr>\n",
       "    <tr>\n",
       "      <th>51</th>\n",
       "      <td>No Rules Rules: Netflix and the Culture of Rei...</td>\n",
       "      <td>Reed Hastings</td>\n",
       "      <td>4.6</td>\n",
       "      <td>931.0</td>\n",
       "      <td>Paperback</td>\n",
       "      <td>650.0</td>\n",
       "    </tr>\n",
       "    <tr>\n",
       "      <th>90</th>\n",
       "      <td>Elon Musk: How the Billionaire CEO of SpaceX a...</td>\n",
       "      <td>Ashlee Vance</td>\n",
       "      <td>4.5</td>\n",
       "      <td>7841.0</td>\n",
       "      <td>Paperback</td>\n",
       "      <td>614.0</td>\n",
       "    </tr>\n",
       "    <tr>\n",
       "      <th>33</th>\n",
       "      <td>The Scam: From Harshad Mehta To Ketan Parekh A...</td>\n",
       "      <td>Debashis Basu and Sucheta Dalal</td>\n",
       "      <td>4.0</td>\n",
       "      <td>13.0</td>\n",
       "      <td>Paperback</td>\n",
       "      <td>600.0</td>\n",
       "    </tr>\n",
       "    <tr>\n",
       "      <th>47</th>\n",
       "      <td>Pandemonium: The Great Indian Banking Tragedy</td>\n",
       "      <td>Tamal Bandyopadhyay</td>\n",
       "      <td>5.0</td>\n",
       "      <td>3.0</td>\n",
       "      <td>Hardcover</td>\n",
       "      <td>585.0</td>\n",
       "    </tr>\n",
       "    <tr>\n",
       "      <th>83</th>\n",
       "      <td>Case Study Handbook, Revised Edition: A Studen...</td>\n",
       "      <td>William Ellet</td>\n",
       "      <td>4.5</td>\n",
       "      <td>70.0</td>\n",
       "      <td>Paperback</td>\n",
       "      <td>583.0</td>\n",
       "    </tr>\n",
       "    <tr>\n",
       "      <th>4</th>\n",
       "      <td>A New Idea of India: Individual Rights in a Ci...</td>\n",
       "      <td>Harsh Madhusudan</td>\n",
       "      <td>4.8</td>\n",
       "      <td>54.0</td>\n",
       "      <td>Hardcover</td>\n",
       "      <td>578.0</td>\n",
       "    </tr>\n",
       "    <tr>\n",
       "      <th>91</th>\n",
       "      <td>The 4-Hour Work Week: Escape the 9-5, Live Any...</td>\n",
       "      <td>Timothy Ferriss</td>\n",
       "      <td>4.3</td>\n",
       "      <td>8699.0</td>\n",
       "      <td>Paperback</td>\n",
       "      <td>524.0</td>\n",
       "    </tr>\n",
       "    <tr>\n",
       "      <th>75</th>\n",
       "      <td>Rich Dad Poor Dad: What the Rich Teach Their K...</td>\n",
       "      <td>Robert T. Kiyosaki</td>\n",
       "      <td>4.5</td>\n",
       "      <td>35703.0</td>\n",
       "      <td>Paperback</td>\n",
       "      <td>499.0</td>\n",
       "    </tr>\n",
       "    <tr>\n",
       "      <th>23</th>\n",
       "      <td>A New Idea of India: Individual Rights in a Ci...</td>\n",
       "      <td>Harsh Madhusudan</td>\n",
       "      <td>4.8</td>\n",
       "      <td>54.0</td>\n",
       "      <td>Kindle Edition</td>\n",
       "      <td>499.0</td>\n",
       "    </tr>\n",
       "    <tr>\n",
       "      <th>35</th>\n",
       "      <td>The Anarchy: The East India Company, Corporate...</td>\n",
       "      <td>William Dalrymple</td>\n",
       "      <td>4.6</td>\n",
       "      <td>2020.0</td>\n",
       "      <td>Hardcover</td>\n",
       "      <td>478.0</td>\n",
       "    </tr>\n",
       "    <tr>\n",
       "      <th>57</th>\n",
       "      <td>How to Make Money Trading with Candlestick Charts</td>\n",
       "      <td>Balkrishna M Sadekar</td>\n",
       "      <td>4.3</td>\n",
       "      <td>551.0</td>\n",
       "      <td>Paperback</td>\n",
       "      <td>466.0</td>\n",
       "    </tr>\n",
       "    <tr>\n",
       "      <th>82</th>\n",
       "      <td>Steve Jobs: The Exclusive Biography</td>\n",
       "      <td>Walter Isaacson</td>\n",
       "      <td>4.6</td>\n",
       "      <td>7324.0</td>\n",
       "      <td>Paperback</td>\n",
       "      <td>456.0</td>\n",
       "    </tr>\n",
       "  </tbody>\n",
       "</table>\n",
       "</div>"
      ],
      "text/plain": [
       "                                            Book_Name  \\\n",
       "99  How to Make Money in Intraday Trading: A Maste...   \n",
       "22  The 7 Habits of Highly Effective People: Power...   \n",
       "92  Economics on your tips - Indian economic devel...   \n",
       "51  No Rules Rules: Netflix and the Culture of Rei...   \n",
       "90  Elon Musk: How the Billionaire CEO of SpaceX a...   \n",
       "33  The Scam: From Harshad Mehta To Ketan Parekh A...   \n",
       "47      Pandemonium: The Great Indian Banking Tragedy   \n",
       "83  Case Study Handbook, Revised Edition: A Studen...   \n",
       "4   A New Idea of India: Individual Rights in a Ci...   \n",
       "91  The 4-Hour Work Week: Escape the 9-5, Live Any...   \n",
       "75  Rich Dad Poor Dad: What the Rich Teach Their K...   \n",
       "23  A New Idea of India: Individual Rights in a Ci...   \n",
       "35  The Anarchy: The East India Company, Corporate...   \n",
       "57  How to Make Money Trading with Candlestick Charts   \n",
       "82                Steve Jobs: The Exclusive Biography   \n",
       "\n",
       "                             Author  Rating  Customer_Rated  \\\n",
       "99                   Ashwani Gujral     4.1           401.0   \n",
       "22                 Stephen R. Covey     4.3          9675.0   \n",
       "92                      Gaurav Jain     4.4           280.0   \n",
       "51                    Reed Hastings     4.6           931.0   \n",
       "90                     Ashlee Vance     4.5          7841.0   \n",
       "33  Debashis Basu and Sucheta Dalal     4.0            13.0   \n",
       "47              Tamal Bandyopadhyay     5.0             3.0   \n",
       "83                    William Ellet     4.5            70.0   \n",
       "4                  Harsh Madhusudan     4.8            54.0   \n",
       "91                  Timothy Ferriss     4.3          8699.0   \n",
       "75               Robert T. Kiyosaki     4.5         35703.0   \n",
       "23                 Harsh Madhusudan     4.8            54.0   \n",
       "35                William Dalrymple     4.6          2020.0   \n",
       "57             Balkrishna M Sadekar     4.3           551.0   \n",
       "82                  Walter Isaacson     4.6          7324.0   \n",
       "\n",
       "                               Type  Price  \n",
       "99                        Paperback  889.0  \n",
       "22  Kindle Edition with Audio/Video  738.0  \n",
       "92                        Hardcover  700.0  \n",
       "51                        Paperback  650.0  \n",
       "90                        Paperback  614.0  \n",
       "33                        Paperback  600.0  \n",
       "47                        Hardcover  585.0  \n",
       "83                        Paperback  583.0  \n",
       "4                         Hardcover  578.0  \n",
       "91                        Paperback  524.0  \n",
       "75                        Paperback  499.0  \n",
       "23                   Kindle Edition  499.0  \n",
       "35                        Hardcover  478.0  \n",
       "57                        Paperback  466.0  \n",
       "82                        Paperback  456.0  "
      ]
     },
     "execution_count": 28,
     "metadata": {},
     "output_type": "execute_result"
    }
   ],
   "source": [
    "top_15_price=df.sort_values(by='Price',ascending=False).head(15)\n",
    "top_15_price"
   ]
  },
  {
   "cell_type": "code",
   "execution_count": 29,
   "metadata": {},
   "outputs": [],
   "source": [
    "import plotly.express as px"
   ]
  },
  {
   "cell_type": "code",
   "execution_count": 30,
   "metadata": {},
   "outputs": [
    {
     "data": {
      "application/vnd.plotly.v1+json": {
       "config": {
        "plotlyServerURL": "https://plot.ly"
       },
       "data": [
        {
         "customdata": [
          [
           "How to Make Money in Intraday Trading: A Master Class By One of India’s Most Famous Traders"
          ],
          [
           "No Rules Rules: Netflix and the Culture of Reinvention"
          ],
          [
           "Elon Musk: How the Billionaire CEO of SpaceX and Tesla is Shaping our Future"
          ],
          [
           "The Scam: From Harshad Mehta To Ketan Parekh Also Includes Jpc Fiasco & Global Trust Bank Scam"
          ],
          [
           "Case Study Handbook, Revised Edition: A Student's Guide"
          ],
          [
           "The 4-Hour Work Week: Escape the 9-5, Live Anywhere and Join the New Rich"
          ]
         ],
         "hovertemplate": "Type=Paperback<br>Price=%{x}<br>Author=%{y}<br>Rating=%{marker.size}<br>Book_Name=%{customdata[0]}<extra></extra>",
         "legendgroup": "Paperback",
         "marker": {
          "color": "#636efa",
          "size": [
           4.1,
           4.6,
           4.5,
           4,
           4.5,
           4.3
          ],
          "sizemode": "area",
          "sizeref": 0.0125,
          "symbol": "circle"
         },
         "mode": "markers",
         "name": "Paperback",
         "orientation": "h",
         "showlegend": true,
         "type": "scatter",
         "x": [
          889,
          650,
          614,
          600,
          583,
          524
         ],
         "xaxis": "x",
         "y": [
          "Ashwani Gujral",
          "Reed Hastings",
          "Ashlee Vance",
          "Debashis Basu and Sucheta Dalal",
          "William Ellet",
          "Timothy Ferriss"
         ],
         "yaxis": "y"
        },
        {
         "customdata": [
          [
           "The 7 Habits of Highly Effective People: Powerful Lessons in Personal Change"
          ]
         ],
         "hovertemplate": "Type=Kindle Edition with Audio/Video<br>Price=%{x}<br>Author=%{y}<br>Rating=%{marker.size}<br>Book_Name=%{customdata[0]}<extra></extra>",
         "legendgroup": "Kindle Edition with Audio/Video",
         "marker": {
          "color": "#EF553B",
          "size": [
           4.3
          ],
          "sizemode": "area",
          "sizeref": 0.0125,
          "symbol": "circle"
         },
         "mode": "markers",
         "name": "Kindle Edition with Audio/Video",
         "orientation": "h",
         "showlegend": true,
         "type": "scatter",
         "x": [
          738
         ],
         "xaxis": "x",
         "y": [
          "Stephen R. Covey"
         ],
         "yaxis": "y"
        },
        {
         "customdata": [
          [
           "Economics on your tips - Indian economic development + Macro economics session 2020-21"
          ],
          [
           "Pandemonium: The Great Indian Banking Tragedy"
          ],
          [
           "A New Idea of India: Individual Rights in a Civilisational State"
          ]
         ],
         "hovertemplate": "Type=Hardcover<br>Price=%{x}<br>Author=%{y}<br>Rating=%{marker.size}<br>Book_Name=%{customdata[0]}<extra></extra>",
         "legendgroup": "Hardcover",
         "marker": {
          "color": "#00cc96",
          "size": [
           4.4,
           5,
           4.8
          ],
          "sizemode": "area",
          "sizeref": 0.0125,
          "symbol": "circle"
         },
         "mode": "markers",
         "name": "Hardcover",
         "orientation": "h",
         "showlegend": true,
         "type": "scatter",
         "x": [
          700,
          585,
          578
         ],
         "xaxis": "x",
         "y": [
          "Gaurav Jain",
          "Tamal Bandyopadhyay",
          "Harsh Madhusudan"
         ],
         "yaxis": "y"
        }
       ],
       "layout": {
        "legend": {
         "itemsizing": "constant",
         "title": {
          "text": "Type"
         },
         "tracegroupgap": 0
        },
        "margin": {
         "t": 60
        },
        "template": {
         "data": {
          "bar": [
           {
            "error_x": {
             "color": "#2a3f5f"
            },
            "error_y": {
             "color": "#2a3f5f"
            },
            "marker": {
             "line": {
              "color": "#E5ECF6",
              "width": 0.5
             }
            },
            "type": "bar"
           }
          ],
          "barpolar": [
           {
            "marker": {
             "line": {
              "color": "#E5ECF6",
              "width": 0.5
             }
            },
            "type": "barpolar"
           }
          ],
          "carpet": [
           {
            "aaxis": {
             "endlinecolor": "#2a3f5f",
             "gridcolor": "white",
             "linecolor": "white",
             "minorgridcolor": "white",
             "startlinecolor": "#2a3f5f"
            },
            "baxis": {
             "endlinecolor": "#2a3f5f",
             "gridcolor": "white",
             "linecolor": "white",
             "minorgridcolor": "white",
             "startlinecolor": "#2a3f5f"
            },
            "type": "carpet"
           }
          ],
          "choropleth": [
           {
            "colorbar": {
             "outlinewidth": 0,
             "ticks": ""
            },
            "type": "choropleth"
           }
          ],
          "contour": [
           {
            "colorbar": {
             "outlinewidth": 0,
             "ticks": ""
            },
            "colorscale": [
             [
              0,
              "#0d0887"
             ],
             [
              0.1111111111111111,
              "#46039f"
             ],
             [
              0.2222222222222222,
              "#7201a8"
             ],
             [
              0.3333333333333333,
              "#9c179e"
             ],
             [
              0.4444444444444444,
              "#bd3786"
             ],
             [
              0.5555555555555556,
              "#d8576b"
             ],
             [
              0.6666666666666666,
              "#ed7953"
             ],
             [
              0.7777777777777778,
              "#fb9f3a"
             ],
             [
              0.8888888888888888,
              "#fdca26"
             ],
             [
              1,
              "#f0f921"
             ]
            ],
            "type": "contour"
           }
          ],
          "contourcarpet": [
           {
            "colorbar": {
             "outlinewidth": 0,
             "ticks": ""
            },
            "type": "contourcarpet"
           }
          ],
          "heatmap": [
           {
            "colorbar": {
             "outlinewidth": 0,
             "ticks": ""
            },
            "colorscale": [
             [
              0,
              "#0d0887"
             ],
             [
              0.1111111111111111,
              "#46039f"
             ],
             [
              0.2222222222222222,
              "#7201a8"
             ],
             [
              0.3333333333333333,
              "#9c179e"
             ],
             [
              0.4444444444444444,
              "#bd3786"
             ],
             [
              0.5555555555555556,
              "#d8576b"
             ],
             [
              0.6666666666666666,
              "#ed7953"
             ],
             [
              0.7777777777777778,
              "#fb9f3a"
             ],
             [
              0.8888888888888888,
              "#fdca26"
             ],
             [
              1,
              "#f0f921"
             ]
            ],
            "type": "heatmap"
           }
          ],
          "heatmapgl": [
           {
            "colorbar": {
             "outlinewidth": 0,
             "ticks": ""
            },
            "colorscale": [
             [
              0,
              "#0d0887"
             ],
             [
              0.1111111111111111,
              "#46039f"
             ],
             [
              0.2222222222222222,
              "#7201a8"
             ],
             [
              0.3333333333333333,
              "#9c179e"
             ],
             [
              0.4444444444444444,
              "#bd3786"
             ],
             [
              0.5555555555555556,
              "#d8576b"
             ],
             [
              0.6666666666666666,
              "#ed7953"
             ],
             [
              0.7777777777777778,
              "#fb9f3a"
             ],
             [
              0.8888888888888888,
              "#fdca26"
             ],
             [
              1,
              "#f0f921"
             ]
            ],
            "type": "heatmapgl"
           }
          ],
          "histogram": [
           {
            "marker": {
             "colorbar": {
              "outlinewidth": 0,
              "ticks": ""
             }
            },
            "type": "histogram"
           }
          ],
          "histogram2d": [
           {
            "colorbar": {
             "outlinewidth": 0,
             "ticks": ""
            },
            "colorscale": [
             [
              0,
              "#0d0887"
             ],
             [
              0.1111111111111111,
              "#46039f"
             ],
             [
              0.2222222222222222,
              "#7201a8"
             ],
             [
              0.3333333333333333,
              "#9c179e"
             ],
             [
              0.4444444444444444,
              "#bd3786"
             ],
             [
              0.5555555555555556,
              "#d8576b"
             ],
             [
              0.6666666666666666,
              "#ed7953"
             ],
             [
              0.7777777777777778,
              "#fb9f3a"
             ],
             [
              0.8888888888888888,
              "#fdca26"
             ],
             [
              1,
              "#f0f921"
             ]
            ],
            "type": "histogram2d"
           }
          ],
          "histogram2dcontour": [
           {
            "colorbar": {
             "outlinewidth": 0,
             "ticks": ""
            },
            "colorscale": [
             [
              0,
              "#0d0887"
             ],
             [
              0.1111111111111111,
              "#46039f"
             ],
             [
              0.2222222222222222,
              "#7201a8"
             ],
             [
              0.3333333333333333,
              "#9c179e"
             ],
             [
              0.4444444444444444,
              "#bd3786"
             ],
             [
              0.5555555555555556,
              "#d8576b"
             ],
             [
              0.6666666666666666,
              "#ed7953"
             ],
             [
              0.7777777777777778,
              "#fb9f3a"
             ],
             [
              0.8888888888888888,
              "#fdca26"
             ],
             [
              1,
              "#f0f921"
             ]
            ],
            "type": "histogram2dcontour"
           }
          ],
          "mesh3d": [
           {
            "colorbar": {
             "outlinewidth": 0,
             "ticks": ""
            },
            "type": "mesh3d"
           }
          ],
          "parcoords": [
           {
            "line": {
             "colorbar": {
              "outlinewidth": 0,
              "ticks": ""
             }
            },
            "type": "parcoords"
           }
          ],
          "pie": [
           {
            "automargin": true,
            "type": "pie"
           }
          ],
          "scatter": [
           {
            "marker": {
             "colorbar": {
              "outlinewidth": 0,
              "ticks": ""
             }
            },
            "type": "scatter"
           }
          ],
          "scatter3d": [
           {
            "line": {
             "colorbar": {
              "outlinewidth": 0,
              "ticks": ""
             }
            },
            "marker": {
             "colorbar": {
              "outlinewidth": 0,
              "ticks": ""
             }
            },
            "type": "scatter3d"
           }
          ],
          "scattercarpet": [
           {
            "marker": {
             "colorbar": {
              "outlinewidth": 0,
              "ticks": ""
             }
            },
            "type": "scattercarpet"
           }
          ],
          "scattergeo": [
           {
            "marker": {
             "colorbar": {
              "outlinewidth": 0,
              "ticks": ""
             }
            },
            "type": "scattergeo"
           }
          ],
          "scattergl": [
           {
            "marker": {
             "colorbar": {
              "outlinewidth": 0,
              "ticks": ""
             }
            },
            "type": "scattergl"
           }
          ],
          "scattermapbox": [
           {
            "marker": {
             "colorbar": {
              "outlinewidth": 0,
              "ticks": ""
             }
            },
            "type": "scattermapbox"
           }
          ],
          "scatterpolar": [
           {
            "marker": {
             "colorbar": {
              "outlinewidth": 0,
              "ticks": ""
             }
            },
            "type": "scatterpolar"
           }
          ],
          "scatterpolargl": [
           {
            "marker": {
             "colorbar": {
              "outlinewidth": 0,
              "ticks": ""
             }
            },
            "type": "scatterpolargl"
           }
          ],
          "scatterternary": [
           {
            "marker": {
             "colorbar": {
              "outlinewidth": 0,
              "ticks": ""
             }
            },
            "type": "scatterternary"
           }
          ],
          "surface": [
           {
            "colorbar": {
             "outlinewidth": 0,
             "ticks": ""
            },
            "colorscale": [
             [
              0,
              "#0d0887"
             ],
             [
              0.1111111111111111,
              "#46039f"
             ],
             [
              0.2222222222222222,
              "#7201a8"
             ],
             [
              0.3333333333333333,
              "#9c179e"
             ],
             [
              0.4444444444444444,
              "#bd3786"
             ],
             [
              0.5555555555555556,
              "#d8576b"
             ],
             [
              0.6666666666666666,
              "#ed7953"
             ],
             [
              0.7777777777777778,
              "#fb9f3a"
             ],
             [
              0.8888888888888888,
              "#fdca26"
             ],
             [
              1,
              "#f0f921"
             ]
            ],
            "type": "surface"
           }
          ],
          "table": [
           {
            "cells": {
             "fill": {
              "color": "#EBF0F8"
             },
             "line": {
              "color": "white"
             }
            },
            "header": {
             "fill": {
              "color": "#C8D4E3"
             },
             "line": {
              "color": "white"
             }
            },
            "type": "table"
           }
          ]
         },
         "layout": {
          "annotationdefaults": {
           "arrowcolor": "#2a3f5f",
           "arrowhead": 0,
           "arrowwidth": 1
          },
          "coloraxis": {
           "colorbar": {
            "outlinewidth": 0,
            "ticks": ""
           }
          },
          "colorscale": {
           "diverging": [
            [
             0,
             "#8e0152"
            ],
            [
             0.1,
             "#c51b7d"
            ],
            [
             0.2,
             "#de77ae"
            ],
            [
             0.3,
             "#f1b6da"
            ],
            [
             0.4,
             "#fde0ef"
            ],
            [
             0.5,
             "#f7f7f7"
            ],
            [
             0.6,
             "#e6f5d0"
            ],
            [
             0.7,
             "#b8e186"
            ],
            [
             0.8,
             "#7fbc41"
            ],
            [
             0.9,
             "#4d9221"
            ],
            [
             1,
             "#276419"
            ]
           ],
           "sequential": [
            [
             0,
             "#0d0887"
            ],
            [
             0.1111111111111111,
             "#46039f"
            ],
            [
             0.2222222222222222,
             "#7201a8"
            ],
            [
             0.3333333333333333,
             "#9c179e"
            ],
            [
             0.4444444444444444,
             "#bd3786"
            ],
            [
             0.5555555555555556,
             "#d8576b"
            ],
            [
             0.6666666666666666,
             "#ed7953"
            ],
            [
             0.7777777777777778,
             "#fb9f3a"
            ],
            [
             0.8888888888888888,
             "#fdca26"
            ],
            [
             1,
             "#f0f921"
            ]
           ],
           "sequentialminus": [
            [
             0,
             "#0d0887"
            ],
            [
             0.1111111111111111,
             "#46039f"
            ],
            [
             0.2222222222222222,
             "#7201a8"
            ],
            [
             0.3333333333333333,
             "#9c179e"
            ],
            [
             0.4444444444444444,
             "#bd3786"
            ],
            [
             0.5555555555555556,
             "#d8576b"
            ],
            [
             0.6666666666666666,
             "#ed7953"
            ],
            [
             0.7777777777777778,
             "#fb9f3a"
            ],
            [
             0.8888888888888888,
             "#fdca26"
            ],
            [
             1,
             "#f0f921"
            ]
           ]
          },
          "colorway": [
           "#636efa",
           "#EF553B",
           "#00cc96",
           "#ab63fa",
           "#FFA15A",
           "#19d3f3",
           "#FF6692",
           "#B6E880",
           "#FF97FF",
           "#FECB52"
          ],
          "font": {
           "color": "#2a3f5f"
          },
          "geo": {
           "bgcolor": "white",
           "lakecolor": "white",
           "landcolor": "#E5ECF6",
           "showlakes": true,
           "showland": true,
           "subunitcolor": "white"
          },
          "hoverlabel": {
           "align": "left"
          },
          "hovermode": "closest",
          "mapbox": {
           "style": "light"
          },
          "paper_bgcolor": "white",
          "plot_bgcolor": "#E5ECF6",
          "polar": {
           "angularaxis": {
            "gridcolor": "white",
            "linecolor": "white",
            "ticks": ""
           },
           "bgcolor": "#E5ECF6",
           "radialaxis": {
            "gridcolor": "white",
            "linecolor": "white",
            "ticks": ""
           }
          },
          "scene": {
           "xaxis": {
            "backgroundcolor": "#E5ECF6",
            "gridcolor": "white",
            "gridwidth": 2,
            "linecolor": "white",
            "showbackground": true,
            "ticks": "",
            "zerolinecolor": "white"
           },
           "yaxis": {
            "backgroundcolor": "#E5ECF6",
            "gridcolor": "white",
            "gridwidth": 2,
            "linecolor": "white",
            "showbackground": true,
            "ticks": "",
            "zerolinecolor": "white"
           },
           "zaxis": {
            "backgroundcolor": "#E5ECF6",
            "gridcolor": "white",
            "gridwidth": 2,
            "linecolor": "white",
            "showbackground": true,
            "ticks": "",
            "zerolinecolor": "white"
           }
          },
          "shapedefaults": {
           "line": {
            "color": "#2a3f5f"
           }
          },
          "ternary": {
           "aaxis": {
            "gridcolor": "white",
            "linecolor": "white",
            "ticks": ""
           },
           "baxis": {
            "gridcolor": "white",
            "linecolor": "white",
            "ticks": ""
           },
           "bgcolor": "#E5ECF6",
           "caxis": {
            "gridcolor": "white",
            "linecolor": "white",
            "ticks": ""
           }
          },
          "title": {
           "x": 0.05
          },
          "xaxis": {
           "automargin": true,
           "gridcolor": "white",
           "linecolor": "white",
           "ticks": "",
           "title": {
            "standoff": 15
           },
           "zerolinecolor": "white",
           "zerolinewidth": 2
          },
          "yaxis": {
           "automargin": true,
           "gridcolor": "white",
           "linecolor": "white",
           "ticks": "",
           "title": {
            "standoff": 15
           },
           "zerolinecolor": "white",
           "zerolinewidth": 2
          }
         }
        },
        "xaxis": {
         "anchor": "y",
         "domain": [
          0,
          1
         ],
         "title": {
          "text": "Price"
         }
        },
        "yaxis": {
         "anchor": "x",
         "domain": [
          0,
          1
         ],
         "title": {
          "text": "Author"
         }
        }
       }
      },
      "text/html": [
       "<div>\n",
       "        \n",
       "        \n",
       "            <div id=\"297167a9-d513-40f8-bb40-bab76be02f41\" class=\"plotly-graph-div\" style=\"height:525px; width:100%;\"></div>\n",
       "            <script type=\"text/javascript\">\n",
       "                require([\"plotly\"], function(Plotly) {\n",
       "                    window.PLOTLYENV=window.PLOTLYENV || {};\n",
       "                    \n",
       "                if (document.getElementById(\"297167a9-d513-40f8-bb40-bab76be02f41\")) {\n",
       "                    Plotly.newPlot(\n",
       "                        '297167a9-d513-40f8-bb40-bab76be02f41',\n",
       "                        [{\"customdata\": [[\"How to Make Money in Intraday Trading: A Master Class By One of India\\u2019s Most Famous Traders\"], [\"No Rules Rules: Netflix and the Culture of Reinvention\"], [\"Elon Musk: How the Billionaire CEO of SpaceX and Tesla is Shaping our Future\"], [\"The Scam: From Harshad Mehta To Ketan Parekh Also Includes Jpc Fiasco & Global Trust Bank Scam\"], [\"Case Study Handbook, Revised Edition: A Student's Guide\"], [\"The 4-Hour Work Week: Escape the 9-5, Live Anywhere and Join the New Rich\"]], \"hovertemplate\": \"Type=Paperback<br>Price=%{x}<br>Author=%{y}<br>Rating=%{marker.size}<br>Book_Name=%{customdata[0]}<extra></extra>\", \"legendgroup\": \"Paperback\", \"marker\": {\"color\": \"#636efa\", \"size\": [4.1, 4.6, 4.5, 4.0, 4.5, 4.3], \"sizemode\": \"area\", \"sizeref\": 0.0125, \"symbol\": \"circle\"}, \"mode\": \"markers\", \"name\": \"Paperback\", \"orientation\": \"h\", \"showlegend\": true, \"type\": \"scatter\", \"x\": [889.0, 650.0, 614.0, 600.0, 583.0, 524.0], \"xaxis\": \"x\", \"y\": [\"Ashwani Gujral\", \"Reed Hastings\", \"Ashlee Vance\", \"Debashis Basu and Sucheta Dalal\", \"William Ellet\", \"Timothy Ferriss\"], \"yaxis\": \"y\"}, {\"customdata\": [[\"The 7 Habits of Highly Effective People: Powerful Lessons in Personal Change\"]], \"hovertemplate\": \"Type=Kindle Edition with Audio/Video<br>Price=%{x}<br>Author=%{y}<br>Rating=%{marker.size}<br>Book_Name=%{customdata[0]}<extra></extra>\", \"legendgroup\": \"Kindle Edition with Audio/Video\", \"marker\": {\"color\": \"#EF553B\", \"size\": [4.3], \"sizemode\": \"area\", \"sizeref\": 0.0125, \"symbol\": \"circle\"}, \"mode\": \"markers\", \"name\": \"Kindle Edition with Audio/Video\", \"orientation\": \"h\", \"showlegend\": true, \"type\": \"scatter\", \"x\": [738.0], \"xaxis\": \"x\", \"y\": [\"Stephen R. Covey\"], \"yaxis\": \"y\"}, {\"customdata\": [[\"Economics on your tips - Indian economic development + Macro economics session 2020-21\"], [\"Pandemonium: The Great Indian Banking Tragedy\"], [\"A New Idea of India: Individual Rights in a Civilisational State\"]], \"hovertemplate\": \"Type=Hardcover<br>Price=%{x}<br>Author=%{y}<br>Rating=%{marker.size}<br>Book_Name=%{customdata[0]}<extra></extra>\", \"legendgroup\": \"Hardcover\", \"marker\": {\"color\": \"#00cc96\", \"size\": [4.4, 5.0, 4.8], \"sizemode\": \"area\", \"sizeref\": 0.0125, \"symbol\": \"circle\"}, \"mode\": \"markers\", \"name\": \"Hardcover\", \"orientation\": \"h\", \"showlegend\": true, \"type\": \"scatter\", \"x\": [700.0, 585.0, 578.0], \"xaxis\": \"x\", \"y\": [\"Gaurav Jain\", \"Tamal Bandyopadhyay\", \"Harsh Madhusudan\"], \"yaxis\": \"y\"}],\n",
       "                        {\"legend\": {\"itemsizing\": \"constant\", \"title\": {\"text\": \"Type\"}, \"tracegroupgap\": 0}, \"margin\": {\"t\": 60}, \"template\": {\"data\": {\"bar\": [{\"error_x\": {\"color\": \"#2a3f5f\"}, \"error_y\": {\"color\": \"#2a3f5f\"}, \"marker\": {\"line\": {\"color\": \"#E5ECF6\", \"width\": 0.5}}, \"type\": \"bar\"}], \"barpolar\": [{\"marker\": {\"line\": {\"color\": \"#E5ECF6\", \"width\": 0.5}}, \"type\": \"barpolar\"}], \"carpet\": [{\"aaxis\": {\"endlinecolor\": \"#2a3f5f\", \"gridcolor\": \"white\", \"linecolor\": \"white\", \"minorgridcolor\": \"white\", \"startlinecolor\": \"#2a3f5f\"}, \"baxis\": {\"endlinecolor\": \"#2a3f5f\", \"gridcolor\": \"white\", \"linecolor\": \"white\", \"minorgridcolor\": \"white\", \"startlinecolor\": \"#2a3f5f\"}, \"type\": \"carpet\"}], \"choropleth\": [{\"colorbar\": {\"outlinewidth\": 0, \"ticks\": \"\"}, \"type\": \"choropleth\"}], \"contour\": [{\"colorbar\": {\"outlinewidth\": 0, \"ticks\": \"\"}, \"colorscale\": [[0.0, \"#0d0887\"], [0.1111111111111111, \"#46039f\"], [0.2222222222222222, \"#7201a8\"], [0.3333333333333333, \"#9c179e\"], [0.4444444444444444, \"#bd3786\"], [0.5555555555555556, \"#d8576b\"], [0.6666666666666666, \"#ed7953\"], [0.7777777777777778, \"#fb9f3a\"], [0.8888888888888888, \"#fdca26\"], [1.0, \"#f0f921\"]], \"type\": \"contour\"}], \"contourcarpet\": [{\"colorbar\": {\"outlinewidth\": 0, \"ticks\": \"\"}, \"type\": \"contourcarpet\"}], \"heatmap\": [{\"colorbar\": {\"outlinewidth\": 0, \"ticks\": \"\"}, \"colorscale\": [[0.0, \"#0d0887\"], [0.1111111111111111, \"#46039f\"], [0.2222222222222222, \"#7201a8\"], [0.3333333333333333, \"#9c179e\"], [0.4444444444444444, \"#bd3786\"], [0.5555555555555556, \"#d8576b\"], [0.6666666666666666, \"#ed7953\"], [0.7777777777777778, \"#fb9f3a\"], [0.8888888888888888, \"#fdca26\"], [1.0, \"#f0f921\"]], \"type\": \"heatmap\"}], \"heatmapgl\": [{\"colorbar\": {\"outlinewidth\": 0, \"ticks\": \"\"}, \"colorscale\": [[0.0, \"#0d0887\"], [0.1111111111111111, \"#46039f\"], [0.2222222222222222, \"#7201a8\"], [0.3333333333333333, \"#9c179e\"], [0.4444444444444444, \"#bd3786\"], [0.5555555555555556, \"#d8576b\"], [0.6666666666666666, \"#ed7953\"], [0.7777777777777778, \"#fb9f3a\"], [0.8888888888888888, \"#fdca26\"], [1.0, \"#f0f921\"]], \"type\": \"heatmapgl\"}], \"histogram\": [{\"marker\": {\"colorbar\": {\"outlinewidth\": 0, \"ticks\": \"\"}}, \"type\": \"histogram\"}], \"histogram2d\": [{\"colorbar\": {\"outlinewidth\": 0, \"ticks\": \"\"}, \"colorscale\": [[0.0, \"#0d0887\"], [0.1111111111111111, \"#46039f\"], [0.2222222222222222, \"#7201a8\"], [0.3333333333333333, \"#9c179e\"], [0.4444444444444444, \"#bd3786\"], [0.5555555555555556, \"#d8576b\"], [0.6666666666666666, \"#ed7953\"], [0.7777777777777778, \"#fb9f3a\"], [0.8888888888888888, \"#fdca26\"], [1.0, \"#f0f921\"]], \"type\": \"histogram2d\"}], \"histogram2dcontour\": [{\"colorbar\": {\"outlinewidth\": 0, \"ticks\": \"\"}, \"colorscale\": [[0.0, \"#0d0887\"], [0.1111111111111111, \"#46039f\"], [0.2222222222222222, \"#7201a8\"], [0.3333333333333333, \"#9c179e\"], [0.4444444444444444, \"#bd3786\"], [0.5555555555555556, \"#d8576b\"], [0.6666666666666666, \"#ed7953\"], [0.7777777777777778, \"#fb9f3a\"], [0.8888888888888888, \"#fdca26\"], [1.0, \"#f0f921\"]], \"type\": \"histogram2dcontour\"}], \"mesh3d\": [{\"colorbar\": {\"outlinewidth\": 0, \"ticks\": \"\"}, \"type\": \"mesh3d\"}], \"parcoords\": [{\"line\": {\"colorbar\": {\"outlinewidth\": 0, \"ticks\": \"\"}}, \"type\": \"parcoords\"}], \"pie\": [{\"automargin\": true, \"type\": \"pie\"}], \"scatter\": [{\"marker\": {\"colorbar\": {\"outlinewidth\": 0, \"ticks\": \"\"}}, \"type\": \"scatter\"}], \"scatter3d\": [{\"line\": {\"colorbar\": {\"outlinewidth\": 0, \"ticks\": \"\"}}, \"marker\": {\"colorbar\": {\"outlinewidth\": 0, \"ticks\": \"\"}}, \"type\": \"scatter3d\"}], \"scattercarpet\": [{\"marker\": {\"colorbar\": {\"outlinewidth\": 0, \"ticks\": \"\"}}, \"type\": \"scattercarpet\"}], \"scattergeo\": [{\"marker\": {\"colorbar\": {\"outlinewidth\": 0, \"ticks\": \"\"}}, \"type\": \"scattergeo\"}], \"scattergl\": [{\"marker\": {\"colorbar\": {\"outlinewidth\": 0, \"ticks\": \"\"}}, \"type\": \"scattergl\"}], \"scattermapbox\": [{\"marker\": {\"colorbar\": {\"outlinewidth\": 0, \"ticks\": \"\"}}, \"type\": \"scattermapbox\"}], \"scatterpolar\": [{\"marker\": {\"colorbar\": {\"outlinewidth\": 0, \"ticks\": \"\"}}, \"type\": \"scatterpolar\"}], \"scatterpolargl\": [{\"marker\": {\"colorbar\": {\"outlinewidth\": 0, \"ticks\": \"\"}}, \"type\": \"scatterpolargl\"}], \"scatterternary\": [{\"marker\": {\"colorbar\": {\"outlinewidth\": 0, \"ticks\": \"\"}}, \"type\": \"scatterternary\"}], \"surface\": [{\"colorbar\": {\"outlinewidth\": 0, \"ticks\": \"\"}, \"colorscale\": [[0.0, \"#0d0887\"], [0.1111111111111111, \"#46039f\"], [0.2222222222222222, \"#7201a8\"], [0.3333333333333333, \"#9c179e\"], [0.4444444444444444, \"#bd3786\"], [0.5555555555555556, \"#d8576b\"], [0.6666666666666666, \"#ed7953\"], [0.7777777777777778, \"#fb9f3a\"], [0.8888888888888888, \"#fdca26\"], [1.0, \"#f0f921\"]], \"type\": \"surface\"}], \"table\": [{\"cells\": {\"fill\": {\"color\": \"#EBF0F8\"}, \"line\": {\"color\": \"white\"}}, \"header\": {\"fill\": {\"color\": \"#C8D4E3\"}, \"line\": {\"color\": \"white\"}}, \"type\": \"table\"}]}, \"layout\": {\"annotationdefaults\": {\"arrowcolor\": \"#2a3f5f\", \"arrowhead\": 0, \"arrowwidth\": 1}, \"coloraxis\": {\"colorbar\": {\"outlinewidth\": 0, \"ticks\": \"\"}}, \"colorscale\": {\"diverging\": [[0, \"#8e0152\"], [0.1, \"#c51b7d\"], [0.2, \"#de77ae\"], [0.3, \"#f1b6da\"], [0.4, \"#fde0ef\"], [0.5, \"#f7f7f7\"], [0.6, \"#e6f5d0\"], [0.7, \"#b8e186\"], [0.8, \"#7fbc41\"], [0.9, \"#4d9221\"], [1, \"#276419\"]], \"sequential\": [[0.0, \"#0d0887\"], [0.1111111111111111, \"#46039f\"], [0.2222222222222222, \"#7201a8\"], [0.3333333333333333, \"#9c179e\"], [0.4444444444444444, \"#bd3786\"], [0.5555555555555556, \"#d8576b\"], [0.6666666666666666, \"#ed7953\"], [0.7777777777777778, \"#fb9f3a\"], [0.8888888888888888, \"#fdca26\"], [1.0, \"#f0f921\"]], \"sequentialminus\": [[0.0, \"#0d0887\"], [0.1111111111111111, \"#46039f\"], [0.2222222222222222, \"#7201a8\"], [0.3333333333333333, \"#9c179e\"], [0.4444444444444444, \"#bd3786\"], [0.5555555555555556, \"#d8576b\"], [0.6666666666666666, \"#ed7953\"], [0.7777777777777778, \"#fb9f3a\"], [0.8888888888888888, \"#fdca26\"], [1.0, \"#f0f921\"]]}, \"colorway\": [\"#636efa\", \"#EF553B\", \"#00cc96\", \"#ab63fa\", \"#FFA15A\", \"#19d3f3\", \"#FF6692\", \"#B6E880\", \"#FF97FF\", \"#FECB52\"], \"font\": {\"color\": \"#2a3f5f\"}, \"geo\": {\"bgcolor\": \"white\", \"lakecolor\": \"white\", \"landcolor\": \"#E5ECF6\", \"showlakes\": true, \"showland\": true, \"subunitcolor\": \"white\"}, \"hoverlabel\": {\"align\": \"left\"}, \"hovermode\": \"closest\", \"mapbox\": {\"style\": \"light\"}, \"paper_bgcolor\": \"white\", \"plot_bgcolor\": \"#E5ECF6\", \"polar\": {\"angularaxis\": {\"gridcolor\": \"white\", \"linecolor\": \"white\", \"ticks\": \"\"}, \"bgcolor\": \"#E5ECF6\", \"radialaxis\": {\"gridcolor\": \"white\", \"linecolor\": \"white\", \"ticks\": \"\"}}, \"scene\": {\"xaxis\": {\"backgroundcolor\": \"#E5ECF6\", \"gridcolor\": \"white\", \"gridwidth\": 2, \"linecolor\": \"white\", \"showbackground\": true, \"ticks\": \"\", \"zerolinecolor\": \"white\"}, \"yaxis\": {\"backgroundcolor\": \"#E5ECF6\", \"gridcolor\": \"white\", \"gridwidth\": 2, \"linecolor\": \"white\", \"showbackground\": true, \"ticks\": \"\", \"zerolinecolor\": \"white\"}, \"zaxis\": {\"backgroundcolor\": \"#E5ECF6\", \"gridcolor\": \"white\", \"gridwidth\": 2, \"linecolor\": \"white\", \"showbackground\": true, \"ticks\": \"\", \"zerolinecolor\": \"white\"}}, \"shapedefaults\": {\"line\": {\"color\": \"#2a3f5f\"}}, \"ternary\": {\"aaxis\": {\"gridcolor\": \"white\", \"linecolor\": \"white\", \"ticks\": \"\"}, \"baxis\": {\"gridcolor\": \"white\", \"linecolor\": \"white\", \"ticks\": \"\"}, \"bgcolor\": \"#E5ECF6\", \"caxis\": {\"gridcolor\": \"white\", \"linecolor\": \"white\", \"ticks\": \"\"}}, \"title\": {\"x\": 0.05}, \"xaxis\": {\"automargin\": true, \"gridcolor\": \"white\", \"linecolor\": \"white\", \"ticks\": \"\", \"title\": {\"standoff\": 15}, \"zerolinecolor\": \"white\", \"zerolinewidth\": 2}, \"yaxis\": {\"automargin\": true, \"gridcolor\": \"white\", \"linecolor\": \"white\", \"ticks\": \"\", \"title\": {\"standoff\": 15}, \"zerolinecolor\": \"white\", \"zerolinewidth\": 2}}}, \"xaxis\": {\"anchor\": \"y\", \"domain\": [0.0, 1.0], \"title\": {\"text\": \"Price\"}}, \"yaxis\": {\"anchor\": \"x\", \"domain\": [0.0, 1.0], \"title\": {\"text\": \"Author\"}}},\n",
       "                        {\"responsive\": true}\n",
       "                    ).then(function(){\n",
       "                            \n",
       "var gd = document.getElementById('297167a9-d513-40f8-bb40-bab76be02f41');\n",
       "var x = new MutationObserver(function (mutations, observer) {{\n",
       "        var display = window.getComputedStyle(gd).display;\n",
       "        if (!display || display === 'none') {{\n",
       "            console.log([gd, 'removed!']);\n",
       "            Plotly.purge(gd);\n",
       "            observer.disconnect();\n",
       "        }}\n",
       "}});\n",
       "\n",
       "// Listen for the removal of the full notebook cells\n",
       "var notebookContainer = gd.closest('#notebook-container');\n",
       "if (notebookContainer) {{\n",
       "    x.observe(notebookContainer, {childList: true});\n",
       "}}\n",
       "\n",
       "// Listen for the clearing of the current output cell\n",
       "var outputEl = gd.closest('.output');\n",
       "if (outputEl) {{\n",
       "    x.observe(outputEl, {childList: true});\n",
       "}}\n",
       "\n",
       "                        })\n",
       "                };\n",
       "                });\n",
       "            </script>\n",
       "        </div>"
      ]
     },
     "metadata": {},
     "output_type": "display_data"
    }
   ],
   "source": [
    "fig = px.scatter(top_10_price, x=\"Price\", y=\"Author\", color=\"Type\",\n",
    "                 size='Rating', hover_data=['Book_Name'])\n",
    "fig.show()"
   ]
  },
  {
   "cell_type": "code",
   "execution_count": 31,
   "metadata": {},
   "outputs": [
    {
     "data": {
      "application/vnd.plotly.v1+json": {
       "config": {
        "plotlyServerURL": "https://plot.ly"
       },
       "data": [
        {
         "customdata": [
          [
           "How to Make Money in Intraday Trading: A Master Class By One of India’s Most Famous Traders"
          ],
          [
           "The 7 Habits of Highly Effective People: Powerful Lessons in Personal Change"
          ],
          [
           "Economics on your tips - Indian economic development + Macro economics session 2020-21"
          ],
          [
           "No Rules Rules: Netflix and the Culture of Reinvention"
          ],
          [
           "Elon Musk: How the Billionaire CEO of SpaceX and Tesla is Shaping our Future"
          ],
          [
           "The Scam: From Harshad Mehta To Ketan Parekh Also Includes Jpc Fiasco & Global Trust Bank Scam"
          ],
          [
           "Pandemonium: The Great Indian Banking Tragedy"
          ],
          [
           "Case Study Handbook, Revised Edition: A Student's Guide"
          ],
          [
           "A New Idea of India: Individual Rights in a Civilisational State"
          ],
          [
           "The 4-Hour Work Week: Escape the 9-5, Live Anywhere and Join the New Rich"
          ],
          [
           "Rich Dad Poor Dad: What the Rich Teach Their Kids About Money That the Poor and Middle Class Do Not!"
          ],
          [
           "A New Idea of India: Individual Rights in a Civilisational State"
          ],
          [
           "The Anarchy: The East India Company, Corporate Violence, and the Pillage of an Empire"
          ],
          [
           "How to Make Money Trading with Candlestick Charts"
          ],
          [
           "Steve Jobs: The Exclusive Biography"
          ]
         ],
         "hovertemplate": "Price=%{x}<br>Author=%{y}<br>Book_Name=%{customdata[0]}<br>Rating=%{marker.color}<extra></extra>",
         "legendgroup": "",
         "marker": {
          "color": [
           4.1,
           4.3,
           4.4,
           4.6,
           4.5,
           4,
           5,
           4.5,
           4.8,
           4.3,
           4.5,
           4.8,
           4.6,
           4.3,
           4.6
          ],
          "coloraxis": "coloraxis",
          "line": {
           "color": "DarkSlateGrey",
           "width": 2
          },
          "size": 12,
          "symbol": "circle"
         },
         "mode": "markers",
         "name": "",
         "orientation": "h",
         "showlegend": false,
         "type": "scatter",
         "x": [
          889,
          738,
          700,
          650,
          614,
          600,
          585,
          583,
          578,
          524,
          499,
          499,
          478,
          466,
          456
         ],
         "xaxis": "x",
         "y": [
          "Ashwani Gujral",
          "Stephen R. Covey",
          "Gaurav Jain",
          "Reed Hastings",
          "Ashlee Vance",
          "Debashis Basu and Sucheta Dalal",
          "Tamal Bandyopadhyay",
          "William Ellet",
          "Harsh Madhusudan",
          "Timothy Ferriss",
          "Robert T. Kiyosaki",
          "Harsh Madhusudan",
          "William Dalrymple",
          "Balkrishna M Sadekar",
          "Walter Isaacson"
         ],
         "yaxis": "y"
        }
       ],
       "layout": {
        "coloraxis": {
         "colorbar": {
          "title": {
           "text": "Rating"
          }
         },
         "colorscale": [
          [
           0,
           "#0d0887"
          ],
          [
           0.1111111111111111,
           "#46039f"
          ],
          [
           0.2222222222222222,
           "#7201a8"
          ],
          [
           0.3333333333333333,
           "#9c179e"
          ],
          [
           0.4444444444444444,
           "#bd3786"
          ],
          [
           0.5555555555555556,
           "#d8576b"
          ],
          [
           0.6666666666666666,
           "#ed7953"
          ],
          [
           0.7777777777777778,
           "#fb9f3a"
          ],
          [
           0.8888888888888888,
           "#fdca26"
          ],
          [
           1,
           "#f0f921"
          ]
         ]
        },
        "legend": {
         "tracegroupgap": 0
        },
        "margin": {
         "t": 60
        },
        "template": {
         "data": {
          "bar": [
           {
            "error_x": {
             "color": "#2a3f5f"
            },
            "error_y": {
             "color": "#2a3f5f"
            },
            "marker": {
             "line": {
              "color": "#E5ECF6",
              "width": 0.5
             }
            },
            "type": "bar"
           }
          ],
          "barpolar": [
           {
            "marker": {
             "line": {
              "color": "#E5ECF6",
              "width": 0.5
             }
            },
            "type": "barpolar"
           }
          ],
          "carpet": [
           {
            "aaxis": {
             "endlinecolor": "#2a3f5f",
             "gridcolor": "white",
             "linecolor": "white",
             "minorgridcolor": "white",
             "startlinecolor": "#2a3f5f"
            },
            "baxis": {
             "endlinecolor": "#2a3f5f",
             "gridcolor": "white",
             "linecolor": "white",
             "minorgridcolor": "white",
             "startlinecolor": "#2a3f5f"
            },
            "type": "carpet"
           }
          ],
          "choropleth": [
           {
            "colorbar": {
             "outlinewidth": 0,
             "ticks": ""
            },
            "type": "choropleth"
           }
          ],
          "contour": [
           {
            "colorbar": {
             "outlinewidth": 0,
             "ticks": ""
            },
            "colorscale": [
             [
              0,
              "#0d0887"
             ],
             [
              0.1111111111111111,
              "#46039f"
             ],
             [
              0.2222222222222222,
              "#7201a8"
             ],
             [
              0.3333333333333333,
              "#9c179e"
             ],
             [
              0.4444444444444444,
              "#bd3786"
             ],
             [
              0.5555555555555556,
              "#d8576b"
             ],
             [
              0.6666666666666666,
              "#ed7953"
             ],
             [
              0.7777777777777778,
              "#fb9f3a"
             ],
             [
              0.8888888888888888,
              "#fdca26"
             ],
             [
              1,
              "#f0f921"
             ]
            ],
            "type": "contour"
           }
          ],
          "contourcarpet": [
           {
            "colorbar": {
             "outlinewidth": 0,
             "ticks": ""
            },
            "type": "contourcarpet"
           }
          ],
          "heatmap": [
           {
            "colorbar": {
             "outlinewidth": 0,
             "ticks": ""
            },
            "colorscale": [
             [
              0,
              "#0d0887"
             ],
             [
              0.1111111111111111,
              "#46039f"
             ],
             [
              0.2222222222222222,
              "#7201a8"
             ],
             [
              0.3333333333333333,
              "#9c179e"
             ],
             [
              0.4444444444444444,
              "#bd3786"
             ],
             [
              0.5555555555555556,
              "#d8576b"
             ],
             [
              0.6666666666666666,
              "#ed7953"
             ],
             [
              0.7777777777777778,
              "#fb9f3a"
             ],
             [
              0.8888888888888888,
              "#fdca26"
             ],
             [
              1,
              "#f0f921"
             ]
            ],
            "type": "heatmap"
           }
          ],
          "heatmapgl": [
           {
            "colorbar": {
             "outlinewidth": 0,
             "ticks": ""
            },
            "colorscale": [
             [
              0,
              "#0d0887"
             ],
             [
              0.1111111111111111,
              "#46039f"
             ],
             [
              0.2222222222222222,
              "#7201a8"
             ],
             [
              0.3333333333333333,
              "#9c179e"
             ],
             [
              0.4444444444444444,
              "#bd3786"
             ],
             [
              0.5555555555555556,
              "#d8576b"
             ],
             [
              0.6666666666666666,
              "#ed7953"
             ],
             [
              0.7777777777777778,
              "#fb9f3a"
             ],
             [
              0.8888888888888888,
              "#fdca26"
             ],
             [
              1,
              "#f0f921"
             ]
            ],
            "type": "heatmapgl"
           }
          ],
          "histogram": [
           {
            "marker": {
             "colorbar": {
              "outlinewidth": 0,
              "ticks": ""
             }
            },
            "type": "histogram"
           }
          ],
          "histogram2d": [
           {
            "colorbar": {
             "outlinewidth": 0,
             "ticks": ""
            },
            "colorscale": [
             [
              0,
              "#0d0887"
             ],
             [
              0.1111111111111111,
              "#46039f"
             ],
             [
              0.2222222222222222,
              "#7201a8"
             ],
             [
              0.3333333333333333,
              "#9c179e"
             ],
             [
              0.4444444444444444,
              "#bd3786"
             ],
             [
              0.5555555555555556,
              "#d8576b"
             ],
             [
              0.6666666666666666,
              "#ed7953"
             ],
             [
              0.7777777777777778,
              "#fb9f3a"
             ],
             [
              0.8888888888888888,
              "#fdca26"
             ],
             [
              1,
              "#f0f921"
             ]
            ],
            "type": "histogram2d"
           }
          ],
          "histogram2dcontour": [
           {
            "colorbar": {
             "outlinewidth": 0,
             "ticks": ""
            },
            "colorscale": [
             [
              0,
              "#0d0887"
             ],
             [
              0.1111111111111111,
              "#46039f"
             ],
             [
              0.2222222222222222,
              "#7201a8"
             ],
             [
              0.3333333333333333,
              "#9c179e"
             ],
             [
              0.4444444444444444,
              "#bd3786"
             ],
             [
              0.5555555555555556,
              "#d8576b"
             ],
             [
              0.6666666666666666,
              "#ed7953"
             ],
             [
              0.7777777777777778,
              "#fb9f3a"
             ],
             [
              0.8888888888888888,
              "#fdca26"
             ],
             [
              1,
              "#f0f921"
             ]
            ],
            "type": "histogram2dcontour"
           }
          ],
          "mesh3d": [
           {
            "colorbar": {
             "outlinewidth": 0,
             "ticks": ""
            },
            "type": "mesh3d"
           }
          ],
          "parcoords": [
           {
            "line": {
             "colorbar": {
              "outlinewidth": 0,
              "ticks": ""
             }
            },
            "type": "parcoords"
           }
          ],
          "pie": [
           {
            "automargin": true,
            "type": "pie"
           }
          ],
          "scatter": [
           {
            "marker": {
             "colorbar": {
              "outlinewidth": 0,
              "ticks": ""
             }
            },
            "type": "scatter"
           }
          ],
          "scatter3d": [
           {
            "line": {
             "colorbar": {
              "outlinewidth": 0,
              "ticks": ""
             }
            },
            "marker": {
             "colorbar": {
              "outlinewidth": 0,
              "ticks": ""
             }
            },
            "type": "scatter3d"
           }
          ],
          "scattercarpet": [
           {
            "marker": {
             "colorbar": {
              "outlinewidth": 0,
              "ticks": ""
             }
            },
            "type": "scattercarpet"
           }
          ],
          "scattergeo": [
           {
            "marker": {
             "colorbar": {
              "outlinewidth": 0,
              "ticks": ""
             }
            },
            "type": "scattergeo"
           }
          ],
          "scattergl": [
           {
            "marker": {
             "colorbar": {
              "outlinewidth": 0,
              "ticks": ""
             }
            },
            "type": "scattergl"
           }
          ],
          "scattermapbox": [
           {
            "marker": {
             "colorbar": {
              "outlinewidth": 0,
              "ticks": ""
             }
            },
            "type": "scattermapbox"
           }
          ],
          "scatterpolar": [
           {
            "marker": {
             "colorbar": {
              "outlinewidth": 0,
              "ticks": ""
             }
            },
            "type": "scatterpolar"
           }
          ],
          "scatterpolargl": [
           {
            "marker": {
             "colorbar": {
              "outlinewidth": 0,
              "ticks": ""
             }
            },
            "type": "scatterpolargl"
           }
          ],
          "scatterternary": [
           {
            "marker": {
             "colorbar": {
              "outlinewidth": 0,
              "ticks": ""
             }
            },
            "type": "scatterternary"
           }
          ],
          "surface": [
           {
            "colorbar": {
             "outlinewidth": 0,
             "ticks": ""
            },
            "colorscale": [
             [
              0,
              "#0d0887"
             ],
             [
              0.1111111111111111,
              "#46039f"
             ],
             [
              0.2222222222222222,
              "#7201a8"
             ],
             [
              0.3333333333333333,
              "#9c179e"
             ],
             [
              0.4444444444444444,
              "#bd3786"
             ],
             [
              0.5555555555555556,
              "#d8576b"
             ],
             [
              0.6666666666666666,
              "#ed7953"
             ],
             [
              0.7777777777777778,
              "#fb9f3a"
             ],
             [
              0.8888888888888888,
              "#fdca26"
             ],
             [
              1,
              "#f0f921"
             ]
            ],
            "type": "surface"
           }
          ],
          "table": [
           {
            "cells": {
             "fill": {
              "color": "#EBF0F8"
             },
             "line": {
              "color": "white"
             }
            },
            "header": {
             "fill": {
              "color": "#C8D4E3"
             },
             "line": {
              "color": "white"
             }
            },
            "type": "table"
           }
          ]
         },
         "layout": {
          "annotationdefaults": {
           "arrowcolor": "#2a3f5f",
           "arrowhead": 0,
           "arrowwidth": 1
          },
          "coloraxis": {
           "colorbar": {
            "outlinewidth": 0,
            "ticks": ""
           }
          },
          "colorscale": {
           "diverging": [
            [
             0,
             "#8e0152"
            ],
            [
             0.1,
             "#c51b7d"
            ],
            [
             0.2,
             "#de77ae"
            ],
            [
             0.3,
             "#f1b6da"
            ],
            [
             0.4,
             "#fde0ef"
            ],
            [
             0.5,
             "#f7f7f7"
            ],
            [
             0.6,
             "#e6f5d0"
            ],
            [
             0.7,
             "#b8e186"
            ],
            [
             0.8,
             "#7fbc41"
            ],
            [
             0.9,
             "#4d9221"
            ],
            [
             1,
             "#276419"
            ]
           ],
           "sequential": [
            [
             0,
             "#0d0887"
            ],
            [
             0.1111111111111111,
             "#46039f"
            ],
            [
             0.2222222222222222,
             "#7201a8"
            ],
            [
             0.3333333333333333,
             "#9c179e"
            ],
            [
             0.4444444444444444,
             "#bd3786"
            ],
            [
             0.5555555555555556,
             "#d8576b"
            ],
            [
             0.6666666666666666,
             "#ed7953"
            ],
            [
             0.7777777777777778,
             "#fb9f3a"
            ],
            [
             0.8888888888888888,
             "#fdca26"
            ],
            [
             1,
             "#f0f921"
            ]
           ],
           "sequentialminus": [
            [
             0,
             "#0d0887"
            ],
            [
             0.1111111111111111,
             "#46039f"
            ],
            [
             0.2222222222222222,
             "#7201a8"
            ],
            [
             0.3333333333333333,
             "#9c179e"
            ],
            [
             0.4444444444444444,
             "#bd3786"
            ],
            [
             0.5555555555555556,
             "#d8576b"
            ],
            [
             0.6666666666666666,
             "#ed7953"
            ],
            [
             0.7777777777777778,
             "#fb9f3a"
            ],
            [
             0.8888888888888888,
             "#fdca26"
            ],
            [
             1,
             "#f0f921"
            ]
           ]
          },
          "colorway": [
           "#636efa",
           "#EF553B",
           "#00cc96",
           "#ab63fa",
           "#FFA15A",
           "#19d3f3",
           "#FF6692",
           "#B6E880",
           "#FF97FF",
           "#FECB52"
          ],
          "font": {
           "color": "#2a3f5f"
          },
          "geo": {
           "bgcolor": "white",
           "lakecolor": "white",
           "landcolor": "#E5ECF6",
           "showlakes": true,
           "showland": true,
           "subunitcolor": "white"
          },
          "hoverlabel": {
           "align": "left"
          },
          "hovermode": "closest",
          "mapbox": {
           "style": "light"
          },
          "paper_bgcolor": "white",
          "plot_bgcolor": "#E5ECF6",
          "polar": {
           "angularaxis": {
            "gridcolor": "white",
            "linecolor": "white",
            "ticks": ""
           },
           "bgcolor": "#E5ECF6",
           "radialaxis": {
            "gridcolor": "white",
            "linecolor": "white",
            "ticks": ""
           }
          },
          "scene": {
           "xaxis": {
            "backgroundcolor": "#E5ECF6",
            "gridcolor": "white",
            "gridwidth": 2,
            "linecolor": "white",
            "showbackground": true,
            "ticks": "",
            "zerolinecolor": "white"
           },
           "yaxis": {
            "backgroundcolor": "#E5ECF6",
            "gridcolor": "white",
            "gridwidth": 2,
            "linecolor": "white",
            "showbackground": true,
            "ticks": "",
            "zerolinecolor": "white"
           },
           "zaxis": {
            "backgroundcolor": "#E5ECF6",
            "gridcolor": "white",
            "gridwidth": 2,
            "linecolor": "white",
            "showbackground": true,
            "ticks": "",
            "zerolinecolor": "white"
           }
          },
          "shapedefaults": {
           "line": {
            "color": "#2a3f5f"
           }
          },
          "ternary": {
           "aaxis": {
            "gridcolor": "white",
            "linecolor": "white",
            "ticks": ""
           },
           "baxis": {
            "gridcolor": "white",
            "linecolor": "white",
            "ticks": ""
           },
           "bgcolor": "#E5ECF6",
           "caxis": {
            "gridcolor": "white",
            "linecolor": "white",
            "ticks": ""
           }
          },
          "title": {
           "x": 0.05
          },
          "xaxis": {
           "automargin": true,
           "gridcolor": "white",
           "linecolor": "white",
           "ticks": "",
           "title": {
            "standoff": 15
           },
           "zerolinecolor": "white",
           "zerolinewidth": 2
          },
          "yaxis": {
           "automargin": true,
           "gridcolor": "white",
           "linecolor": "white",
           "ticks": "",
           "title": {
            "standoff": 15
           },
           "zerolinecolor": "white",
           "zerolinewidth": 2
          }
         }
        },
        "xaxis": {
         "anchor": "y",
         "domain": [
          0,
          1
         ],
         "title": {
          "text": "Price"
         }
        },
        "yaxis": {
         "anchor": "x",
         "domain": [
          0,
          1
         ],
         "title": {
          "text": "Author"
         }
        }
       }
      },
      "text/html": [
       "<div>\n",
       "        \n",
       "        \n",
       "            <div id=\"aea82f09-46d3-4172-aae0-42b7fb11a835\" class=\"plotly-graph-div\" style=\"height:525px; width:100%;\"></div>\n",
       "            <script type=\"text/javascript\">\n",
       "                require([\"plotly\"], function(Plotly) {\n",
       "                    window.PLOTLYENV=window.PLOTLYENV || {};\n",
       "                    \n",
       "                if (document.getElementById(\"aea82f09-46d3-4172-aae0-42b7fb11a835\")) {\n",
       "                    Plotly.newPlot(\n",
       "                        'aea82f09-46d3-4172-aae0-42b7fb11a835',\n",
       "                        [{\"customdata\": [[\"How to Make Money in Intraday Trading: A Master Class By One of India\\u2019s Most Famous Traders\"], [\"The 7 Habits of Highly Effective People: Powerful Lessons in Personal Change\"], [\"Economics on your tips - Indian economic development + Macro economics session 2020-21\"], [\"No Rules Rules: Netflix and the Culture of Reinvention\"], [\"Elon Musk: How the Billionaire CEO of SpaceX and Tesla is Shaping our Future\"], [\"The Scam: From Harshad Mehta To Ketan Parekh Also Includes Jpc Fiasco & Global Trust Bank Scam\"], [\"Pandemonium: The Great Indian Banking Tragedy\"], [\"Case Study Handbook, Revised Edition: A Student's Guide\"], [\"A New Idea of India: Individual Rights in a Civilisational State\"], [\"The 4-Hour Work Week: Escape the 9-5, Live Anywhere and Join the New Rich\"], [\"Rich Dad Poor Dad: What the Rich Teach Their Kids About Money That the Poor and Middle Class Do Not!\"], [\"A New Idea of India: Individual Rights in a Civilisational State\"], [\"The Anarchy: The East India Company, Corporate Violence, and the Pillage of an Empire\"], [\"How to Make Money Trading with Candlestick Charts\"], [\"Steve Jobs: The Exclusive Biography\"]], \"hovertemplate\": \"Price=%{x}<br>Author=%{y}<br>Book_Name=%{customdata[0]}<br>Rating=%{marker.color}<extra></extra>\", \"legendgroup\": \"\", \"marker\": {\"color\": [4.1, 4.3, 4.4, 4.6, 4.5, 4.0, 5.0, 4.5, 4.8, 4.3, 4.5, 4.8, 4.6, 4.3, 4.6], \"coloraxis\": \"coloraxis\", \"line\": {\"color\": \"DarkSlateGrey\", \"width\": 2}, \"size\": 12, \"symbol\": \"circle\"}, \"mode\": \"markers\", \"name\": \"\", \"orientation\": \"h\", \"showlegend\": false, \"type\": \"scatter\", \"x\": [889.0, 738.0, 700.0, 650.0, 614.0, 600.0, 585.0, 583.0, 578.0, 524.0, 499.0, 499.0, 478.0, 466.0, 456.0], \"xaxis\": \"x\", \"y\": [\"Ashwani Gujral\", \"Stephen R. Covey\", \"Gaurav Jain\", \"Reed Hastings\", \"Ashlee Vance\", \"Debashis Basu and Sucheta Dalal\", \"Tamal Bandyopadhyay\", \"William Ellet\", \"Harsh Madhusudan\", \"Timothy Ferriss\", \"Robert T. Kiyosaki\", \"Harsh Madhusudan\", \"William Dalrymple\", \"Balkrishna M Sadekar\", \"Walter Isaacson\"], \"yaxis\": \"y\"}],\n",
       "                        {\"coloraxis\": {\"colorbar\": {\"title\": {\"text\": \"Rating\"}}, \"colorscale\": [[0.0, \"#0d0887\"], [0.1111111111111111, \"#46039f\"], [0.2222222222222222, \"#7201a8\"], [0.3333333333333333, \"#9c179e\"], [0.4444444444444444, \"#bd3786\"], [0.5555555555555556, \"#d8576b\"], [0.6666666666666666, \"#ed7953\"], [0.7777777777777778, \"#fb9f3a\"], [0.8888888888888888, \"#fdca26\"], [1.0, \"#f0f921\"]]}, \"legend\": {\"tracegroupgap\": 0}, \"margin\": {\"t\": 60}, \"template\": {\"data\": {\"bar\": [{\"error_x\": {\"color\": \"#2a3f5f\"}, \"error_y\": {\"color\": \"#2a3f5f\"}, \"marker\": {\"line\": {\"color\": \"#E5ECF6\", \"width\": 0.5}}, \"type\": \"bar\"}], \"barpolar\": [{\"marker\": {\"line\": {\"color\": \"#E5ECF6\", \"width\": 0.5}}, \"type\": \"barpolar\"}], \"carpet\": [{\"aaxis\": {\"endlinecolor\": \"#2a3f5f\", \"gridcolor\": \"white\", \"linecolor\": \"white\", \"minorgridcolor\": \"white\", \"startlinecolor\": \"#2a3f5f\"}, \"baxis\": {\"endlinecolor\": \"#2a3f5f\", \"gridcolor\": \"white\", \"linecolor\": \"white\", \"minorgridcolor\": \"white\", \"startlinecolor\": \"#2a3f5f\"}, \"type\": \"carpet\"}], \"choropleth\": [{\"colorbar\": {\"outlinewidth\": 0, \"ticks\": \"\"}, \"type\": \"choropleth\"}], \"contour\": [{\"colorbar\": {\"outlinewidth\": 0, \"ticks\": \"\"}, \"colorscale\": [[0.0, \"#0d0887\"], [0.1111111111111111, \"#46039f\"], [0.2222222222222222, \"#7201a8\"], [0.3333333333333333, \"#9c179e\"], [0.4444444444444444, \"#bd3786\"], [0.5555555555555556, \"#d8576b\"], [0.6666666666666666, \"#ed7953\"], [0.7777777777777778, \"#fb9f3a\"], [0.8888888888888888, \"#fdca26\"], [1.0, \"#f0f921\"]], \"type\": \"contour\"}], \"contourcarpet\": [{\"colorbar\": {\"outlinewidth\": 0, \"ticks\": \"\"}, \"type\": \"contourcarpet\"}], \"heatmap\": [{\"colorbar\": {\"outlinewidth\": 0, \"ticks\": \"\"}, \"colorscale\": [[0.0, \"#0d0887\"], [0.1111111111111111, \"#46039f\"], [0.2222222222222222, \"#7201a8\"], [0.3333333333333333, \"#9c179e\"], [0.4444444444444444, \"#bd3786\"], [0.5555555555555556, \"#d8576b\"], [0.6666666666666666, \"#ed7953\"], [0.7777777777777778, \"#fb9f3a\"], [0.8888888888888888, \"#fdca26\"], [1.0, \"#f0f921\"]], \"type\": \"heatmap\"}], \"heatmapgl\": [{\"colorbar\": {\"outlinewidth\": 0, \"ticks\": \"\"}, \"colorscale\": [[0.0, \"#0d0887\"], [0.1111111111111111, \"#46039f\"], [0.2222222222222222, \"#7201a8\"], [0.3333333333333333, \"#9c179e\"], [0.4444444444444444, \"#bd3786\"], [0.5555555555555556, \"#d8576b\"], [0.6666666666666666, \"#ed7953\"], [0.7777777777777778, \"#fb9f3a\"], [0.8888888888888888, \"#fdca26\"], [1.0, \"#f0f921\"]], \"type\": \"heatmapgl\"}], \"histogram\": [{\"marker\": {\"colorbar\": {\"outlinewidth\": 0, \"ticks\": \"\"}}, \"type\": \"histogram\"}], \"histogram2d\": [{\"colorbar\": {\"outlinewidth\": 0, \"ticks\": \"\"}, \"colorscale\": [[0.0, \"#0d0887\"], [0.1111111111111111, \"#46039f\"], [0.2222222222222222, \"#7201a8\"], [0.3333333333333333, \"#9c179e\"], [0.4444444444444444, \"#bd3786\"], [0.5555555555555556, \"#d8576b\"], [0.6666666666666666, \"#ed7953\"], [0.7777777777777778, \"#fb9f3a\"], [0.8888888888888888, \"#fdca26\"], [1.0, \"#f0f921\"]], \"type\": \"histogram2d\"}], \"histogram2dcontour\": [{\"colorbar\": {\"outlinewidth\": 0, \"ticks\": \"\"}, \"colorscale\": [[0.0, \"#0d0887\"], [0.1111111111111111, \"#46039f\"], [0.2222222222222222, \"#7201a8\"], [0.3333333333333333, \"#9c179e\"], [0.4444444444444444, \"#bd3786\"], [0.5555555555555556, \"#d8576b\"], [0.6666666666666666, \"#ed7953\"], [0.7777777777777778, \"#fb9f3a\"], [0.8888888888888888, \"#fdca26\"], [1.0, \"#f0f921\"]], \"type\": \"histogram2dcontour\"}], \"mesh3d\": [{\"colorbar\": {\"outlinewidth\": 0, \"ticks\": \"\"}, \"type\": \"mesh3d\"}], \"parcoords\": [{\"line\": {\"colorbar\": {\"outlinewidth\": 0, \"ticks\": \"\"}}, \"type\": \"parcoords\"}], \"pie\": [{\"automargin\": true, \"type\": \"pie\"}], \"scatter\": [{\"marker\": {\"colorbar\": {\"outlinewidth\": 0, \"ticks\": \"\"}}, \"type\": \"scatter\"}], \"scatter3d\": [{\"line\": {\"colorbar\": {\"outlinewidth\": 0, \"ticks\": \"\"}}, \"marker\": {\"colorbar\": {\"outlinewidth\": 0, \"ticks\": \"\"}}, \"type\": \"scatter3d\"}], \"scattercarpet\": [{\"marker\": {\"colorbar\": {\"outlinewidth\": 0, \"ticks\": \"\"}}, \"type\": \"scattercarpet\"}], \"scattergeo\": [{\"marker\": {\"colorbar\": {\"outlinewidth\": 0, \"ticks\": \"\"}}, \"type\": \"scattergeo\"}], \"scattergl\": [{\"marker\": {\"colorbar\": {\"outlinewidth\": 0, \"ticks\": \"\"}}, \"type\": \"scattergl\"}], \"scattermapbox\": [{\"marker\": {\"colorbar\": {\"outlinewidth\": 0, \"ticks\": \"\"}}, \"type\": \"scattermapbox\"}], \"scatterpolar\": [{\"marker\": {\"colorbar\": {\"outlinewidth\": 0, \"ticks\": \"\"}}, \"type\": \"scatterpolar\"}], \"scatterpolargl\": [{\"marker\": {\"colorbar\": {\"outlinewidth\": 0, \"ticks\": \"\"}}, \"type\": \"scatterpolargl\"}], \"scatterternary\": [{\"marker\": {\"colorbar\": {\"outlinewidth\": 0, \"ticks\": \"\"}}, \"type\": \"scatterternary\"}], \"surface\": [{\"colorbar\": {\"outlinewidth\": 0, \"ticks\": \"\"}, \"colorscale\": [[0.0, \"#0d0887\"], [0.1111111111111111, \"#46039f\"], [0.2222222222222222, \"#7201a8\"], [0.3333333333333333, \"#9c179e\"], [0.4444444444444444, \"#bd3786\"], [0.5555555555555556, \"#d8576b\"], [0.6666666666666666, \"#ed7953\"], [0.7777777777777778, \"#fb9f3a\"], [0.8888888888888888, \"#fdca26\"], [1.0, \"#f0f921\"]], \"type\": \"surface\"}], \"table\": [{\"cells\": {\"fill\": {\"color\": \"#EBF0F8\"}, \"line\": {\"color\": \"white\"}}, \"header\": {\"fill\": {\"color\": \"#C8D4E3\"}, \"line\": {\"color\": \"white\"}}, \"type\": \"table\"}]}, \"layout\": {\"annotationdefaults\": {\"arrowcolor\": \"#2a3f5f\", \"arrowhead\": 0, \"arrowwidth\": 1}, \"coloraxis\": {\"colorbar\": {\"outlinewidth\": 0, \"ticks\": \"\"}}, \"colorscale\": {\"diverging\": [[0, \"#8e0152\"], [0.1, \"#c51b7d\"], [0.2, \"#de77ae\"], [0.3, \"#f1b6da\"], [0.4, \"#fde0ef\"], [0.5, \"#f7f7f7\"], [0.6, \"#e6f5d0\"], [0.7, \"#b8e186\"], [0.8, \"#7fbc41\"], [0.9, \"#4d9221\"], [1, \"#276419\"]], \"sequential\": [[0.0, \"#0d0887\"], [0.1111111111111111, \"#46039f\"], [0.2222222222222222, \"#7201a8\"], [0.3333333333333333, \"#9c179e\"], [0.4444444444444444, \"#bd3786\"], [0.5555555555555556, \"#d8576b\"], [0.6666666666666666, \"#ed7953\"], [0.7777777777777778, \"#fb9f3a\"], [0.8888888888888888, \"#fdca26\"], [1.0, \"#f0f921\"]], \"sequentialminus\": [[0.0, \"#0d0887\"], [0.1111111111111111, \"#46039f\"], [0.2222222222222222, \"#7201a8\"], [0.3333333333333333, \"#9c179e\"], [0.4444444444444444, \"#bd3786\"], [0.5555555555555556, \"#d8576b\"], [0.6666666666666666, \"#ed7953\"], [0.7777777777777778, \"#fb9f3a\"], [0.8888888888888888, \"#fdca26\"], [1.0, \"#f0f921\"]]}, \"colorway\": [\"#636efa\", \"#EF553B\", \"#00cc96\", \"#ab63fa\", \"#FFA15A\", \"#19d3f3\", \"#FF6692\", \"#B6E880\", \"#FF97FF\", \"#FECB52\"], \"font\": {\"color\": \"#2a3f5f\"}, \"geo\": {\"bgcolor\": \"white\", \"lakecolor\": \"white\", \"landcolor\": \"#E5ECF6\", \"showlakes\": true, \"showland\": true, \"subunitcolor\": \"white\"}, \"hoverlabel\": {\"align\": \"left\"}, \"hovermode\": \"closest\", \"mapbox\": {\"style\": \"light\"}, \"paper_bgcolor\": \"white\", \"plot_bgcolor\": \"#E5ECF6\", \"polar\": {\"angularaxis\": {\"gridcolor\": \"white\", \"linecolor\": \"white\", \"ticks\": \"\"}, \"bgcolor\": \"#E5ECF6\", \"radialaxis\": {\"gridcolor\": \"white\", \"linecolor\": \"white\", \"ticks\": \"\"}}, \"scene\": {\"xaxis\": {\"backgroundcolor\": \"#E5ECF6\", \"gridcolor\": \"white\", \"gridwidth\": 2, \"linecolor\": \"white\", \"showbackground\": true, \"ticks\": \"\", \"zerolinecolor\": \"white\"}, \"yaxis\": {\"backgroundcolor\": \"#E5ECF6\", \"gridcolor\": \"white\", \"gridwidth\": 2, \"linecolor\": \"white\", \"showbackground\": true, \"ticks\": \"\", \"zerolinecolor\": \"white\"}, \"zaxis\": {\"backgroundcolor\": \"#E5ECF6\", \"gridcolor\": \"white\", \"gridwidth\": 2, \"linecolor\": \"white\", \"showbackground\": true, \"ticks\": \"\", \"zerolinecolor\": \"white\"}}, \"shapedefaults\": {\"line\": {\"color\": \"#2a3f5f\"}}, \"ternary\": {\"aaxis\": {\"gridcolor\": \"white\", \"linecolor\": \"white\", \"ticks\": \"\"}, \"baxis\": {\"gridcolor\": \"white\", \"linecolor\": \"white\", \"ticks\": \"\"}, \"bgcolor\": \"#E5ECF6\", \"caxis\": {\"gridcolor\": \"white\", \"linecolor\": \"white\", \"ticks\": \"\"}}, \"title\": {\"x\": 0.05}, \"xaxis\": {\"automargin\": true, \"gridcolor\": \"white\", \"linecolor\": \"white\", \"ticks\": \"\", \"title\": {\"standoff\": 15}, \"zerolinecolor\": \"white\", \"zerolinewidth\": 2}, \"yaxis\": {\"automargin\": true, \"gridcolor\": \"white\", \"linecolor\": \"white\", \"ticks\": \"\", \"title\": {\"standoff\": 15}, \"zerolinecolor\": \"white\", \"zerolinewidth\": 2}}}, \"xaxis\": {\"anchor\": \"y\", \"domain\": [0.0, 1.0], \"title\": {\"text\": \"Price\"}}, \"yaxis\": {\"anchor\": \"x\", \"domain\": [0.0, 1.0], \"title\": {\"text\": \"Author\"}}},\n",
       "                        {\"responsive\": true}\n",
       "                    ).then(function(){\n",
       "                            \n",
       "var gd = document.getElementById('aea82f09-46d3-4172-aae0-42b7fb11a835');\n",
       "var x = new MutationObserver(function (mutations, observer) {{\n",
       "        var display = window.getComputedStyle(gd).display;\n",
       "        if (!display || display === 'none') {{\n",
       "            console.log([gd, 'removed!']);\n",
       "            Plotly.purge(gd);\n",
       "            observer.disconnect();\n",
       "        }}\n",
       "}});\n",
       "\n",
       "// Listen for the removal of the full notebook cells\n",
       "var notebookContainer = gd.closest('#notebook-container');\n",
       "if (notebookContainer) {{\n",
       "    x.observe(notebookContainer, {childList: true});\n",
       "}}\n",
       "\n",
       "// Listen for the clearing of the current output cell\n",
       "var outputEl = gd.closest('.output');\n",
       "if (outputEl) {{\n",
       "    x.observe(outputEl, {childList: true});\n",
       "}}\n",
       "\n",
       "                        })\n",
       "                };\n",
       "                });\n",
       "            </script>\n",
       "        </div>"
      ]
     },
     "metadata": {},
     "output_type": "display_data"
    }
   ],
   "source": [
    "fig = px.scatter(top_15_price, x=\"Price\", y=\"Author\",color=\"Rating\", hover_data=['Book_Name'])\n",
    "fig.update_traces(marker=dict(size=12,\n",
    "                              line=dict(width=2,\n",
    "                                        color='DarkSlateGrey')),\n",
    "                  selector=dict(mode='markers'))\n",
    "fig.show()"
   ]
  },
  {
   "cell_type": "code",
   "execution_count": 32,
   "metadata": {},
   "outputs": [
    {
     "data": {
      "application/vnd.plotly.v1+json": {
       "config": {
        "plotlyServerURL": "https://plot.ly"
       },
       "data": [
        {
         "customdata": [
          [
           "How to Make Money in Intraday Trading: A Master Class By One of India’s Most Famous Traders"
          ],
          [
           "No Rules Rules: Netflix and the Culture of Reinvention"
          ],
          [
           "Elon Musk: How the Billionaire CEO of SpaceX and Tesla is Shaping our Future"
          ],
          [
           "The Scam: From Harshad Mehta To Ketan Parekh Also Includes Jpc Fiasco & Global Trust Bank Scam"
          ],
          [
           "Case Study Handbook, Revised Edition: A Student's Guide"
          ],
          [
           "The 4-Hour Work Week: Escape the 9-5, Live Anywhere and Join the New Rich"
          ],
          [
           "Rich Dad Poor Dad: What the Rich Teach Their Kids About Money That the Poor and Middle Class Do Not!"
          ],
          [
           "How to Make Money Trading with Candlestick Charts"
          ],
          [
           "Steve Jobs: The Exclusive Biography"
          ]
         ],
         "hovertemplate": "Type=Paperback<br>Price=%{x}<br>Author=%{y}<br>Book_Name=%{customdata[0]}<extra></extra>",
         "legendgroup": "Paperback",
         "marker": {
          "color": "#636efa",
          "line": {
           "color": "DarkSlateGrey",
           "width": 2
          },
          "size": 12,
          "symbol": "circle"
         },
         "mode": "markers",
         "name": "Paperback",
         "orientation": "h",
         "showlegend": true,
         "type": "scatter",
         "x": [
          889,
          650,
          614,
          600,
          583,
          524,
          499,
          466,
          456
         ],
         "xaxis": "x",
         "y": [
          "Ashwani Gujral",
          "Reed Hastings",
          "Ashlee Vance",
          "Debashis Basu and Sucheta Dalal",
          "William Ellet",
          "Timothy Ferriss",
          "Robert T. Kiyosaki",
          "Balkrishna M Sadekar",
          "Walter Isaacson"
         ],
         "yaxis": "y"
        },
        {
         "customdata": [
          [
           "The 7 Habits of Highly Effective People: Powerful Lessons in Personal Change"
          ]
         ],
         "hovertemplate": "Type=Kindle Edition with Audio/Video<br>Price=%{x}<br>Author=%{y}<br>Book_Name=%{customdata[0]}<extra></extra>",
         "legendgroup": "Kindle Edition with Audio/Video",
         "marker": {
          "color": "#EF553B",
          "line": {
           "color": "DarkSlateGrey",
           "width": 2
          },
          "size": 12,
          "symbol": "circle"
         },
         "mode": "markers",
         "name": "Kindle Edition with Audio/Video",
         "orientation": "h",
         "showlegend": true,
         "type": "scatter",
         "x": [
          738
         ],
         "xaxis": "x",
         "y": [
          "Stephen R. Covey"
         ],
         "yaxis": "y"
        },
        {
         "customdata": [
          [
           "Economics on your tips - Indian economic development + Macro economics session 2020-21"
          ],
          [
           "Pandemonium: The Great Indian Banking Tragedy"
          ],
          [
           "A New Idea of India: Individual Rights in a Civilisational State"
          ],
          [
           "The Anarchy: The East India Company, Corporate Violence, and the Pillage of an Empire"
          ]
         ],
         "hovertemplate": "Type=Hardcover<br>Price=%{x}<br>Author=%{y}<br>Book_Name=%{customdata[0]}<extra></extra>",
         "legendgroup": "Hardcover",
         "marker": {
          "color": "#00cc96",
          "line": {
           "color": "DarkSlateGrey",
           "width": 2
          },
          "size": 12,
          "symbol": "circle"
         },
         "mode": "markers",
         "name": "Hardcover",
         "orientation": "h",
         "showlegend": true,
         "type": "scatter",
         "x": [
          700,
          585,
          578,
          478
         ],
         "xaxis": "x",
         "y": [
          "Gaurav Jain",
          "Tamal Bandyopadhyay",
          "Harsh Madhusudan",
          "William Dalrymple"
         ],
         "yaxis": "y"
        },
        {
         "customdata": [
          [
           "A New Idea of India: Individual Rights in a Civilisational State"
          ]
         ],
         "hovertemplate": "Type=Kindle Edition<br>Price=%{x}<br>Author=%{y}<br>Book_Name=%{customdata[0]}<extra></extra>",
         "legendgroup": "Kindle Edition",
         "marker": {
          "color": "#ab63fa",
          "line": {
           "color": "DarkSlateGrey",
           "width": 2
          },
          "size": 12,
          "symbol": "circle"
         },
         "mode": "markers",
         "name": "Kindle Edition",
         "orientation": "h",
         "showlegend": true,
         "type": "scatter",
         "x": [
          499
         ],
         "xaxis": "x",
         "y": [
          "Harsh Madhusudan"
         ],
         "yaxis": "y"
        }
       ],
       "layout": {
        "legend": {
         "title": {
          "text": "Type"
         },
         "tracegroupgap": 0
        },
        "margin": {
         "t": 60
        },
        "template": {
         "data": {
          "bar": [
           {
            "error_x": {
             "color": "#2a3f5f"
            },
            "error_y": {
             "color": "#2a3f5f"
            },
            "marker": {
             "line": {
              "color": "#E5ECF6",
              "width": 0.5
             }
            },
            "type": "bar"
           }
          ],
          "barpolar": [
           {
            "marker": {
             "line": {
              "color": "#E5ECF6",
              "width": 0.5
             }
            },
            "type": "barpolar"
           }
          ],
          "carpet": [
           {
            "aaxis": {
             "endlinecolor": "#2a3f5f",
             "gridcolor": "white",
             "linecolor": "white",
             "minorgridcolor": "white",
             "startlinecolor": "#2a3f5f"
            },
            "baxis": {
             "endlinecolor": "#2a3f5f",
             "gridcolor": "white",
             "linecolor": "white",
             "minorgridcolor": "white",
             "startlinecolor": "#2a3f5f"
            },
            "type": "carpet"
           }
          ],
          "choropleth": [
           {
            "colorbar": {
             "outlinewidth": 0,
             "ticks": ""
            },
            "type": "choropleth"
           }
          ],
          "contour": [
           {
            "colorbar": {
             "outlinewidth": 0,
             "ticks": ""
            },
            "colorscale": [
             [
              0,
              "#0d0887"
             ],
             [
              0.1111111111111111,
              "#46039f"
             ],
             [
              0.2222222222222222,
              "#7201a8"
             ],
             [
              0.3333333333333333,
              "#9c179e"
             ],
             [
              0.4444444444444444,
              "#bd3786"
             ],
             [
              0.5555555555555556,
              "#d8576b"
             ],
             [
              0.6666666666666666,
              "#ed7953"
             ],
             [
              0.7777777777777778,
              "#fb9f3a"
             ],
             [
              0.8888888888888888,
              "#fdca26"
             ],
             [
              1,
              "#f0f921"
             ]
            ],
            "type": "contour"
           }
          ],
          "contourcarpet": [
           {
            "colorbar": {
             "outlinewidth": 0,
             "ticks": ""
            },
            "type": "contourcarpet"
           }
          ],
          "heatmap": [
           {
            "colorbar": {
             "outlinewidth": 0,
             "ticks": ""
            },
            "colorscale": [
             [
              0,
              "#0d0887"
             ],
             [
              0.1111111111111111,
              "#46039f"
             ],
             [
              0.2222222222222222,
              "#7201a8"
             ],
             [
              0.3333333333333333,
              "#9c179e"
             ],
             [
              0.4444444444444444,
              "#bd3786"
             ],
             [
              0.5555555555555556,
              "#d8576b"
             ],
             [
              0.6666666666666666,
              "#ed7953"
             ],
             [
              0.7777777777777778,
              "#fb9f3a"
             ],
             [
              0.8888888888888888,
              "#fdca26"
             ],
             [
              1,
              "#f0f921"
             ]
            ],
            "type": "heatmap"
           }
          ],
          "heatmapgl": [
           {
            "colorbar": {
             "outlinewidth": 0,
             "ticks": ""
            },
            "colorscale": [
             [
              0,
              "#0d0887"
             ],
             [
              0.1111111111111111,
              "#46039f"
             ],
             [
              0.2222222222222222,
              "#7201a8"
             ],
             [
              0.3333333333333333,
              "#9c179e"
             ],
             [
              0.4444444444444444,
              "#bd3786"
             ],
             [
              0.5555555555555556,
              "#d8576b"
             ],
             [
              0.6666666666666666,
              "#ed7953"
             ],
             [
              0.7777777777777778,
              "#fb9f3a"
             ],
             [
              0.8888888888888888,
              "#fdca26"
             ],
             [
              1,
              "#f0f921"
             ]
            ],
            "type": "heatmapgl"
           }
          ],
          "histogram": [
           {
            "marker": {
             "colorbar": {
              "outlinewidth": 0,
              "ticks": ""
             }
            },
            "type": "histogram"
           }
          ],
          "histogram2d": [
           {
            "colorbar": {
             "outlinewidth": 0,
             "ticks": ""
            },
            "colorscale": [
             [
              0,
              "#0d0887"
             ],
             [
              0.1111111111111111,
              "#46039f"
             ],
             [
              0.2222222222222222,
              "#7201a8"
             ],
             [
              0.3333333333333333,
              "#9c179e"
             ],
             [
              0.4444444444444444,
              "#bd3786"
             ],
             [
              0.5555555555555556,
              "#d8576b"
             ],
             [
              0.6666666666666666,
              "#ed7953"
             ],
             [
              0.7777777777777778,
              "#fb9f3a"
             ],
             [
              0.8888888888888888,
              "#fdca26"
             ],
             [
              1,
              "#f0f921"
             ]
            ],
            "type": "histogram2d"
           }
          ],
          "histogram2dcontour": [
           {
            "colorbar": {
             "outlinewidth": 0,
             "ticks": ""
            },
            "colorscale": [
             [
              0,
              "#0d0887"
             ],
             [
              0.1111111111111111,
              "#46039f"
             ],
             [
              0.2222222222222222,
              "#7201a8"
             ],
             [
              0.3333333333333333,
              "#9c179e"
             ],
             [
              0.4444444444444444,
              "#bd3786"
             ],
             [
              0.5555555555555556,
              "#d8576b"
             ],
             [
              0.6666666666666666,
              "#ed7953"
             ],
             [
              0.7777777777777778,
              "#fb9f3a"
             ],
             [
              0.8888888888888888,
              "#fdca26"
             ],
             [
              1,
              "#f0f921"
             ]
            ],
            "type": "histogram2dcontour"
           }
          ],
          "mesh3d": [
           {
            "colorbar": {
             "outlinewidth": 0,
             "ticks": ""
            },
            "type": "mesh3d"
           }
          ],
          "parcoords": [
           {
            "line": {
             "colorbar": {
              "outlinewidth": 0,
              "ticks": ""
             }
            },
            "type": "parcoords"
           }
          ],
          "pie": [
           {
            "automargin": true,
            "type": "pie"
           }
          ],
          "scatter": [
           {
            "marker": {
             "colorbar": {
              "outlinewidth": 0,
              "ticks": ""
             }
            },
            "type": "scatter"
           }
          ],
          "scatter3d": [
           {
            "line": {
             "colorbar": {
              "outlinewidth": 0,
              "ticks": ""
             }
            },
            "marker": {
             "colorbar": {
              "outlinewidth": 0,
              "ticks": ""
             }
            },
            "type": "scatter3d"
           }
          ],
          "scattercarpet": [
           {
            "marker": {
             "colorbar": {
              "outlinewidth": 0,
              "ticks": ""
             }
            },
            "type": "scattercarpet"
           }
          ],
          "scattergeo": [
           {
            "marker": {
             "colorbar": {
              "outlinewidth": 0,
              "ticks": ""
             }
            },
            "type": "scattergeo"
           }
          ],
          "scattergl": [
           {
            "marker": {
             "colorbar": {
              "outlinewidth": 0,
              "ticks": ""
             }
            },
            "type": "scattergl"
           }
          ],
          "scattermapbox": [
           {
            "marker": {
             "colorbar": {
              "outlinewidth": 0,
              "ticks": ""
             }
            },
            "type": "scattermapbox"
           }
          ],
          "scatterpolar": [
           {
            "marker": {
             "colorbar": {
              "outlinewidth": 0,
              "ticks": ""
             }
            },
            "type": "scatterpolar"
           }
          ],
          "scatterpolargl": [
           {
            "marker": {
             "colorbar": {
              "outlinewidth": 0,
              "ticks": ""
             }
            },
            "type": "scatterpolargl"
           }
          ],
          "scatterternary": [
           {
            "marker": {
             "colorbar": {
              "outlinewidth": 0,
              "ticks": ""
             }
            },
            "type": "scatterternary"
           }
          ],
          "surface": [
           {
            "colorbar": {
             "outlinewidth": 0,
             "ticks": ""
            },
            "colorscale": [
             [
              0,
              "#0d0887"
             ],
             [
              0.1111111111111111,
              "#46039f"
             ],
             [
              0.2222222222222222,
              "#7201a8"
             ],
             [
              0.3333333333333333,
              "#9c179e"
             ],
             [
              0.4444444444444444,
              "#bd3786"
             ],
             [
              0.5555555555555556,
              "#d8576b"
             ],
             [
              0.6666666666666666,
              "#ed7953"
             ],
             [
              0.7777777777777778,
              "#fb9f3a"
             ],
             [
              0.8888888888888888,
              "#fdca26"
             ],
             [
              1,
              "#f0f921"
             ]
            ],
            "type": "surface"
           }
          ],
          "table": [
           {
            "cells": {
             "fill": {
              "color": "#EBF0F8"
             },
             "line": {
              "color": "white"
             }
            },
            "header": {
             "fill": {
              "color": "#C8D4E3"
             },
             "line": {
              "color": "white"
             }
            },
            "type": "table"
           }
          ]
         },
         "layout": {
          "annotationdefaults": {
           "arrowcolor": "#2a3f5f",
           "arrowhead": 0,
           "arrowwidth": 1
          },
          "coloraxis": {
           "colorbar": {
            "outlinewidth": 0,
            "ticks": ""
           }
          },
          "colorscale": {
           "diverging": [
            [
             0,
             "#8e0152"
            ],
            [
             0.1,
             "#c51b7d"
            ],
            [
             0.2,
             "#de77ae"
            ],
            [
             0.3,
             "#f1b6da"
            ],
            [
             0.4,
             "#fde0ef"
            ],
            [
             0.5,
             "#f7f7f7"
            ],
            [
             0.6,
             "#e6f5d0"
            ],
            [
             0.7,
             "#b8e186"
            ],
            [
             0.8,
             "#7fbc41"
            ],
            [
             0.9,
             "#4d9221"
            ],
            [
             1,
             "#276419"
            ]
           ],
           "sequential": [
            [
             0,
             "#0d0887"
            ],
            [
             0.1111111111111111,
             "#46039f"
            ],
            [
             0.2222222222222222,
             "#7201a8"
            ],
            [
             0.3333333333333333,
             "#9c179e"
            ],
            [
             0.4444444444444444,
             "#bd3786"
            ],
            [
             0.5555555555555556,
             "#d8576b"
            ],
            [
             0.6666666666666666,
             "#ed7953"
            ],
            [
             0.7777777777777778,
             "#fb9f3a"
            ],
            [
             0.8888888888888888,
             "#fdca26"
            ],
            [
             1,
             "#f0f921"
            ]
           ],
           "sequentialminus": [
            [
             0,
             "#0d0887"
            ],
            [
             0.1111111111111111,
             "#46039f"
            ],
            [
             0.2222222222222222,
             "#7201a8"
            ],
            [
             0.3333333333333333,
             "#9c179e"
            ],
            [
             0.4444444444444444,
             "#bd3786"
            ],
            [
             0.5555555555555556,
             "#d8576b"
            ],
            [
             0.6666666666666666,
             "#ed7953"
            ],
            [
             0.7777777777777778,
             "#fb9f3a"
            ],
            [
             0.8888888888888888,
             "#fdca26"
            ],
            [
             1,
             "#f0f921"
            ]
           ]
          },
          "colorway": [
           "#636efa",
           "#EF553B",
           "#00cc96",
           "#ab63fa",
           "#FFA15A",
           "#19d3f3",
           "#FF6692",
           "#B6E880",
           "#FF97FF",
           "#FECB52"
          ],
          "font": {
           "color": "#2a3f5f"
          },
          "geo": {
           "bgcolor": "white",
           "lakecolor": "white",
           "landcolor": "#E5ECF6",
           "showlakes": true,
           "showland": true,
           "subunitcolor": "white"
          },
          "hoverlabel": {
           "align": "left"
          },
          "hovermode": "closest",
          "mapbox": {
           "style": "light"
          },
          "paper_bgcolor": "white",
          "plot_bgcolor": "#E5ECF6",
          "polar": {
           "angularaxis": {
            "gridcolor": "white",
            "linecolor": "white",
            "ticks": ""
           },
           "bgcolor": "#E5ECF6",
           "radialaxis": {
            "gridcolor": "white",
            "linecolor": "white",
            "ticks": ""
           }
          },
          "scene": {
           "xaxis": {
            "backgroundcolor": "#E5ECF6",
            "gridcolor": "white",
            "gridwidth": 2,
            "linecolor": "white",
            "showbackground": true,
            "ticks": "",
            "zerolinecolor": "white"
           },
           "yaxis": {
            "backgroundcolor": "#E5ECF6",
            "gridcolor": "white",
            "gridwidth": 2,
            "linecolor": "white",
            "showbackground": true,
            "ticks": "",
            "zerolinecolor": "white"
           },
           "zaxis": {
            "backgroundcolor": "#E5ECF6",
            "gridcolor": "white",
            "gridwidth": 2,
            "linecolor": "white",
            "showbackground": true,
            "ticks": "",
            "zerolinecolor": "white"
           }
          },
          "shapedefaults": {
           "line": {
            "color": "#2a3f5f"
           }
          },
          "ternary": {
           "aaxis": {
            "gridcolor": "white",
            "linecolor": "white",
            "ticks": ""
           },
           "baxis": {
            "gridcolor": "white",
            "linecolor": "white",
            "ticks": ""
           },
           "bgcolor": "#E5ECF6",
           "caxis": {
            "gridcolor": "white",
            "linecolor": "white",
            "ticks": ""
           }
          },
          "title": {
           "x": 0.05
          },
          "xaxis": {
           "automargin": true,
           "gridcolor": "white",
           "linecolor": "white",
           "ticks": "",
           "title": {
            "standoff": 15
           },
           "zerolinecolor": "white",
           "zerolinewidth": 2
          },
          "yaxis": {
           "automargin": true,
           "gridcolor": "white",
           "linecolor": "white",
           "ticks": "",
           "title": {
            "standoff": 15
           },
           "zerolinecolor": "white",
           "zerolinewidth": 2
          }
         }
        },
        "xaxis": {
         "anchor": "y",
         "domain": [
          0,
          1
         ],
         "title": {
          "text": "Price"
         }
        },
        "yaxis": {
         "anchor": "x",
         "domain": [
          0,
          1
         ],
         "title": {
          "text": "Author"
         }
        }
       }
      },
      "text/html": [
       "<div>\n",
       "        \n",
       "        \n",
       "            <div id=\"7cfe5809-52a2-4564-b026-e561d9af6495\" class=\"plotly-graph-div\" style=\"height:525px; width:100%;\"></div>\n",
       "            <script type=\"text/javascript\">\n",
       "                require([\"plotly\"], function(Plotly) {\n",
       "                    window.PLOTLYENV=window.PLOTLYENV || {};\n",
       "                    \n",
       "                if (document.getElementById(\"7cfe5809-52a2-4564-b026-e561d9af6495\")) {\n",
       "                    Plotly.newPlot(\n",
       "                        '7cfe5809-52a2-4564-b026-e561d9af6495',\n",
       "                        [{\"customdata\": [[\"How to Make Money in Intraday Trading: A Master Class By One of India\\u2019s Most Famous Traders\"], [\"No Rules Rules: Netflix and the Culture of Reinvention\"], [\"Elon Musk: How the Billionaire CEO of SpaceX and Tesla is Shaping our Future\"], [\"The Scam: From Harshad Mehta To Ketan Parekh Also Includes Jpc Fiasco & Global Trust Bank Scam\"], [\"Case Study Handbook, Revised Edition: A Student's Guide\"], [\"The 4-Hour Work Week: Escape the 9-5, Live Anywhere and Join the New Rich\"], [\"Rich Dad Poor Dad: What the Rich Teach Their Kids About Money That the Poor and Middle Class Do Not!\"], [\"How to Make Money Trading with Candlestick Charts\"], [\"Steve Jobs: The Exclusive Biography\"]], \"hovertemplate\": \"Type=Paperback<br>Price=%{x}<br>Author=%{y}<br>Book_Name=%{customdata[0]}<extra></extra>\", \"legendgroup\": \"Paperback\", \"marker\": {\"color\": \"#636efa\", \"line\": {\"color\": \"DarkSlateGrey\", \"width\": 2}, \"size\": 12, \"symbol\": \"circle\"}, \"mode\": \"markers\", \"name\": \"Paperback\", \"orientation\": \"h\", \"showlegend\": true, \"type\": \"scatter\", \"x\": [889.0, 650.0, 614.0, 600.0, 583.0, 524.0, 499.0, 466.0, 456.0], \"xaxis\": \"x\", \"y\": [\"Ashwani Gujral\", \"Reed Hastings\", \"Ashlee Vance\", \"Debashis Basu and Sucheta Dalal\", \"William Ellet\", \"Timothy Ferriss\", \"Robert T. Kiyosaki\", \"Balkrishna M Sadekar\", \"Walter Isaacson\"], \"yaxis\": \"y\"}, {\"customdata\": [[\"The 7 Habits of Highly Effective People: Powerful Lessons in Personal Change\"]], \"hovertemplate\": \"Type=Kindle Edition with Audio/Video<br>Price=%{x}<br>Author=%{y}<br>Book_Name=%{customdata[0]}<extra></extra>\", \"legendgroup\": \"Kindle Edition with Audio/Video\", \"marker\": {\"color\": \"#EF553B\", \"line\": {\"color\": \"DarkSlateGrey\", \"width\": 2}, \"size\": 12, \"symbol\": \"circle\"}, \"mode\": \"markers\", \"name\": \"Kindle Edition with Audio/Video\", \"orientation\": \"h\", \"showlegend\": true, \"type\": \"scatter\", \"x\": [738.0], \"xaxis\": \"x\", \"y\": [\"Stephen R. Covey\"], \"yaxis\": \"y\"}, {\"customdata\": [[\"Economics on your tips - Indian economic development + Macro economics session 2020-21\"], [\"Pandemonium: The Great Indian Banking Tragedy\"], [\"A New Idea of India: Individual Rights in a Civilisational State\"], [\"The Anarchy: The East India Company, Corporate Violence, and the Pillage of an Empire\"]], \"hovertemplate\": \"Type=Hardcover<br>Price=%{x}<br>Author=%{y}<br>Book_Name=%{customdata[0]}<extra></extra>\", \"legendgroup\": \"Hardcover\", \"marker\": {\"color\": \"#00cc96\", \"line\": {\"color\": \"DarkSlateGrey\", \"width\": 2}, \"size\": 12, \"symbol\": \"circle\"}, \"mode\": \"markers\", \"name\": \"Hardcover\", \"orientation\": \"h\", \"showlegend\": true, \"type\": \"scatter\", \"x\": [700.0, 585.0, 578.0, 478.0], \"xaxis\": \"x\", \"y\": [\"Gaurav Jain\", \"Tamal Bandyopadhyay\", \"Harsh Madhusudan\", \"William Dalrymple\"], \"yaxis\": \"y\"}, {\"customdata\": [[\"A New Idea of India: Individual Rights in a Civilisational State\"]], \"hovertemplate\": \"Type=Kindle Edition<br>Price=%{x}<br>Author=%{y}<br>Book_Name=%{customdata[0]}<extra></extra>\", \"legendgroup\": \"Kindle Edition\", \"marker\": {\"color\": \"#ab63fa\", \"line\": {\"color\": \"DarkSlateGrey\", \"width\": 2}, \"size\": 12, \"symbol\": \"circle\"}, \"mode\": \"markers\", \"name\": \"Kindle Edition\", \"orientation\": \"h\", \"showlegend\": true, \"type\": \"scatter\", \"x\": [499.0], \"xaxis\": \"x\", \"y\": [\"Harsh Madhusudan\"], \"yaxis\": \"y\"}],\n",
       "                        {\"legend\": {\"title\": {\"text\": \"Type\"}, \"tracegroupgap\": 0}, \"margin\": {\"t\": 60}, \"template\": {\"data\": {\"bar\": [{\"error_x\": {\"color\": \"#2a3f5f\"}, \"error_y\": {\"color\": \"#2a3f5f\"}, \"marker\": {\"line\": {\"color\": \"#E5ECF6\", \"width\": 0.5}}, \"type\": \"bar\"}], \"barpolar\": [{\"marker\": {\"line\": {\"color\": \"#E5ECF6\", \"width\": 0.5}}, \"type\": \"barpolar\"}], \"carpet\": [{\"aaxis\": {\"endlinecolor\": \"#2a3f5f\", \"gridcolor\": \"white\", \"linecolor\": \"white\", \"minorgridcolor\": \"white\", \"startlinecolor\": \"#2a3f5f\"}, \"baxis\": {\"endlinecolor\": \"#2a3f5f\", \"gridcolor\": \"white\", \"linecolor\": \"white\", \"minorgridcolor\": \"white\", \"startlinecolor\": \"#2a3f5f\"}, \"type\": \"carpet\"}], \"choropleth\": [{\"colorbar\": {\"outlinewidth\": 0, \"ticks\": \"\"}, \"type\": \"choropleth\"}], \"contour\": [{\"colorbar\": {\"outlinewidth\": 0, \"ticks\": \"\"}, \"colorscale\": [[0.0, \"#0d0887\"], [0.1111111111111111, \"#46039f\"], [0.2222222222222222, \"#7201a8\"], [0.3333333333333333, \"#9c179e\"], [0.4444444444444444, \"#bd3786\"], [0.5555555555555556, \"#d8576b\"], [0.6666666666666666, \"#ed7953\"], [0.7777777777777778, \"#fb9f3a\"], [0.8888888888888888, \"#fdca26\"], [1.0, \"#f0f921\"]], \"type\": \"contour\"}], \"contourcarpet\": [{\"colorbar\": {\"outlinewidth\": 0, \"ticks\": \"\"}, \"type\": \"contourcarpet\"}], \"heatmap\": [{\"colorbar\": {\"outlinewidth\": 0, \"ticks\": \"\"}, \"colorscale\": [[0.0, \"#0d0887\"], [0.1111111111111111, \"#46039f\"], [0.2222222222222222, \"#7201a8\"], [0.3333333333333333, \"#9c179e\"], [0.4444444444444444, \"#bd3786\"], [0.5555555555555556, \"#d8576b\"], [0.6666666666666666, \"#ed7953\"], [0.7777777777777778, \"#fb9f3a\"], [0.8888888888888888, \"#fdca26\"], [1.0, \"#f0f921\"]], \"type\": \"heatmap\"}], \"heatmapgl\": [{\"colorbar\": {\"outlinewidth\": 0, \"ticks\": \"\"}, \"colorscale\": [[0.0, \"#0d0887\"], [0.1111111111111111, \"#46039f\"], [0.2222222222222222, \"#7201a8\"], [0.3333333333333333, \"#9c179e\"], [0.4444444444444444, \"#bd3786\"], [0.5555555555555556, \"#d8576b\"], [0.6666666666666666, \"#ed7953\"], [0.7777777777777778, \"#fb9f3a\"], [0.8888888888888888, \"#fdca26\"], [1.0, \"#f0f921\"]], \"type\": \"heatmapgl\"}], \"histogram\": [{\"marker\": {\"colorbar\": {\"outlinewidth\": 0, \"ticks\": \"\"}}, \"type\": \"histogram\"}], \"histogram2d\": [{\"colorbar\": {\"outlinewidth\": 0, \"ticks\": \"\"}, \"colorscale\": [[0.0, \"#0d0887\"], [0.1111111111111111, \"#46039f\"], [0.2222222222222222, \"#7201a8\"], [0.3333333333333333, \"#9c179e\"], [0.4444444444444444, \"#bd3786\"], [0.5555555555555556, \"#d8576b\"], [0.6666666666666666, \"#ed7953\"], [0.7777777777777778, \"#fb9f3a\"], [0.8888888888888888, \"#fdca26\"], [1.0, \"#f0f921\"]], \"type\": \"histogram2d\"}], \"histogram2dcontour\": [{\"colorbar\": {\"outlinewidth\": 0, \"ticks\": \"\"}, \"colorscale\": [[0.0, \"#0d0887\"], [0.1111111111111111, \"#46039f\"], [0.2222222222222222, \"#7201a8\"], [0.3333333333333333, \"#9c179e\"], [0.4444444444444444, \"#bd3786\"], [0.5555555555555556, \"#d8576b\"], [0.6666666666666666, \"#ed7953\"], [0.7777777777777778, \"#fb9f3a\"], [0.8888888888888888, \"#fdca26\"], [1.0, \"#f0f921\"]], \"type\": \"histogram2dcontour\"}], \"mesh3d\": [{\"colorbar\": {\"outlinewidth\": 0, \"ticks\": \"\"}, \"type\": \"mesh3d\"}], \"parcoords\": [{\"line\": {\"colorbar\": {\"outlinewidth\": 0, \"ticks\": \"\"}}, \"type\": \"parcoords\"}], \"pie\": [{\"automargin\": true, \"type\": \"pie\"}], \"scatter\": [{\"marker\": {\"colorbar\": {\"outlinewidth\": 0, \"ticks\": \"\"}}, \"type\": \"scatter\"}], \"scatter3d\": [{\"line\": {\"colorbar\": {\"outlinewidth\": 0, \"ticks\": \"\"}}, \"marker\": {\"colorbar\": {\"outlinewidth\": 0, \"ticks\": \"\"}}, \"type\": \"scatter3d\"}], \"scattercarpet\": [{\"marker\": {\"colorbar\": {\"outlinewidth\": 0, \"ticks\": \"\"}}, \"type\": \"scattercarpet\"}], \"scattergeo\": [{\"marker\": {\"colorbar\": {\"outlinewidth\": 0, \"ticks\": \"\"}}, \"type\": \"scattergeo\"}], \"scattergl\": [{\"marker\": {\"colorbar\": {\"outlinewidth\": 0, \"ticks\": \"\"}}, \"type\": \"scattergl\"}], \"scattermapbox\": [{\"marker\": {\"colorbar\": {\"outlinewidth\": 0, \"ticks\": \"\"}}, \"type\": \"scattermapbox\"}], \"scatterpolar\": [{\"marker\": {\"colorbar\": {\"outlinewidth\": 0, \"ticks\": \"\"}}, \"type\": \"scatterpolar\"}], \"scatterpolargl\": [{\"marker\": {\"colorbar\": {\"outlinewidth\": 0, \"ticks\": \"\"}}, \"type\": \"scatterpolargl\"}], \"scatterternary\": [{\"marker\": {\"colorbar\": {\"outlinewidth\": 0, \"ticks\": \"\"}}, \"type\": \"scatterternary\"}], \"surface\": [{\"colorbar\": {\"outlinewidth\": 0, \"ticks\": \"\"}, \"colorscale\": [[0.0, \"#0d0887\"], [0.1111111111111111, \"#46039f\"], [0.2222222222222222, \"#7201a8\"], [0.3333333333333333, \"#9c179e\"], [0.4444444444444444, \"#bd3786\"], [0.5555555555555556, \"#d8576b\"], [0.6666666666666666, \"#ed7953\"], [0.7777777777777778, \"#fb9f3a\"], [0.8888888888888888, \"#fdca26\"], [1.0, \"#f0f921\"]], \"type\": \"surface\"}], \"table\": [{\"cells\": {\"fill\": {\"color\": \"#EBF0F8\"}, \"line\": {\"color\": \"white\"}}, \"header\": {\"fill\": {\"color\": \"#C8D4E3\"}, \"line\": {\"color\": \"white\"}}, \"type\": \"table\"}]}, \"layout\": {\"annotationdefaults\": {\"arrowcolor\": \"#2a3f5f\", \"arrowhead\": 0, \"arrowwidth\": 1}, \"coloraxis\": {\"colorbar\": {\"outlinewidth\": 0, \"ticks\": \"\"}}, \"colorscale\": {\"diverging\": [[0, \"#8e0152\"], [0.1, \"#c51b7d\"], [0.2, \"#de77ae\"], [0.3, \"#f1b6da\"], [0.4, \"#fde0ef\"], [0.5, \"#f7f7f7\"], [0.6, \"#e6f5d0\"], [0.7, \"#b8e186\"], [0.8, \"#7fbc41\"], [0.9, \"#4d9221\"], [1, \"#276419\"]], \"sequential\": [[0.0, \"#0d0887\"], [0.1111111111111111, \"#46039f\"], [0.2222222222222222, \"#7201a8\"], [0.3333333333333333, \"#9c179e\"], [0.4444444444444444, \"#bd3786\"], [0.5555555555555556, \"#d8576b\"], [0.6666666666666666, \"#ed7953\"], [0.7777777777777778, \"#fb9f3a\"], [0.8888888888888888, \"#fdca26\"], [1.0, \"#f0f921\"]], \"sequentialminus\": [[0.0, \"#0d0887\"], [0.1111111111111111, \"#46039f\"], [0.2222222222222222, \"#7201a8\"], [0.3333333333333333, \"#9c179e\"], [0.4444444444444444, \"#bd3786\"], [0.5555555555555556, \"#d8576b\"], [0.6666666666666666, \"#ed7953\"], [0.7777777777777778, \"#fb9f3a\"], [0.8888888888888888, \"#fdca26\"], [1.0, \"#f0f921\"]]}, \"colorway\": [\"#636efa\", \"#EF553B\", \"#00cc96\", \"#ab63fa\", \"#FFA15A\", \"#19d3f3\", \"#FF6692\", \"#B6E880\", \"#FF97FF\", \"#FECB52\"], \"font\": {\"color\": \"#2a3f5f\"}, \"geo\": {\"bgcolor\": \"white\", \"lakecolor\": \"white\", \"landcolor\": \"#E5ECF6\", \"showlakes\": true, \"showland\": true, \"subunitcolor\": \"white\"}, \"hoverlabel\": {\"align\": \"left\"}, \"hovermode\": \"closest\", \"mapbox\": {\"style\": \"light\"}, \"paper_bgcolor\": \"white\", \"plot_bgcolor\": \"#E5ECF6\", \"polar\": {\"angularaxis\": {\"gridcolor\": \"white\", \"linecolor\": \"white\", \"ticks\": \"\"}, \"bgcolor\": \"#E5ECF6\", \"radialaxis\": {\"gridcolor\": \"white\", \"linecolor\": \"white\", \"ticks\": \"\"}}, \"scene\": {\"xaxis\": {\"backgroundcolor\": \"#E5ECF6\", \"gridcolor\": \"white\", \"gridwidth\": 2, \"linecolor\": \"white\", \"showbackground\": true, \"ticks\": \"\", \"zerolinecolor\": \"white\"}, \"yaxis\": {\"backgroundcolor\": \"#E5ECF6\", \"gridcolor\": \"white\", \"gridwidth\": 2, \"linecolor\": \"white\", \"showbackground\": true, \"ticks\": \"\", \"zerolinecolor\": \"white\"}, \"zaxis\": {\"backgroundcolor\": \"#E5ECF6\", \"gridcolor\": \"white\", \"gridwidth\": 2, \"linecolor\": \"white\", \"showbackground\": true, \"ticks\": \"\", \"zerolinecolor\": \"white\"}}, \"shapedefaults\": {\"line\": {\"color\": \"#2a3f5f\"}}, \"ternary\": {\"aaxis\": {\"gridcolor\": \"white\", \"linecolor\": \"white\", \"ticks\": \"\"}, \"baxis\": {\"gridcolor\": \"white\", \"linecolor\": \"white\", \"ticks\": \"\"}, \"bgcolor\": \"#E5ECF6\", \"caxis\": {\"gridcolor\": \"white\", \"linecolor\": \"white\", \"ticks\": \"\"}}, \"title\": {\"x\": 0.05}, \"xaxis\": {\"automargin\": true, \"gridcolor\": \"white\", \"linecolor\": \"white\", \"ticks\": \"\", \"title\": {\"standoff\": 15}, \"zerolinecolor\": \"white\", \"zerolinewidth\": 2}, \"yaxis\": {\"automargin\": true, \"gridcolor\": \"white\", \"linecolor\": \"white\", \"ticks\": \"\", \"title\": {\"standoff\": 15}, \"zerolinecolor\": \"white\", \"zerolinewidth\": 2}}}, \"xaxis\": {\"anchor\": \"y\", \"domain\": [0.0, 1.0], \"title\": {\"text\": \"Price\"}}, \"yaxis\": {\"anchor\": \"x\", \"domain\": [0.0, 1.0], \"title\": {\"text\": \"Author\"}}},\n",
       "                        {\"responsive\": true}\n",
       "                    ).then(function(){\n",
       "                            \n",
       "var gd = document.getElementById('7cfe5809-52a2-4564-b026-e561d9af6495');\n",
       "var x = new MutationObserver(function (mutations, observer) {{\n",
       "        var display = window.getComputedStyle(gd).display;\n",
       "        if (!display || display === 'none') {{\n",
       "            console.log([gd, 'removed!']);\n",
       "            Plotly.purge(gd);\n",
       "            observer.disconnect();\n",
       "        }}\n",
       "}});\n",
       "\n",
       "// Listen for the removal of the full notebook cells\n",
       "var notebookContainer = gd.closest('#notebook-container');\n",
       "if (notebookContainer) {{\n",
       "    x.observe(notebookContainer, {childList: true});\n",
       "}}\n",
       "\n",
       "// Listen for the clearing of the current output cell\n",
       "var outputEl = gd.closest('.output');\n",
       "if (outputEl) {{\n",
       "    x.observe(outputEl, {childList: true});\n",
       "}}\n",
       "\n",
       "                        })\n",
       "                };\n",
       "                });\n",
       "            </script>\n",
       "        </div>"
      ]
     },
     "metadata": {},
     "output_type": "display_data"
    }
   ],
   "source": [
    "fig = px.scatter(top_15_price, x=\"Price\", y=\"Author\",color=\"Type\", hover_data=['Book_Name'])\n",
    "fig.update_traces(marker=dict(size=12,\n",
    "                              line=dict(width=2,\n",
    "                                        color='DarkSlateGrey')),\n",
    "                  selector=dict(mode='markers'))\n",
    "fig.show()"
   ]
  },
  {
   "cell_type": "raw",
   "metadata": {},
   "source": [
    "We can see from the graph above that price for the majority of top 15 books lies between Rs.500-650."
   ]
  },
  {
   "cell_type": "code",
   "execution_count": 45,
   "metadata": {},
   "outputs": [],
   "source": [
    "data=pd.DataFrame(flatten(records),columns=['Book_Name','Author','Rating','Customer_Rated','Type','Price'])"
   ]
  },
  {
   "cell_type": "code",
   "execution_count": 46,
   "metadata": {},
   "outputs": [],
   "source": [
    "data['Rating']=data['Rating'].apply(lambda x:x.split(' ')[0])\n",
    "data['Rating']=pd.to_numeric(data['Rating'],errors='ignore')\n",
    "data['Customer_Rated']=data['Customer_Rated'].str.replace(',','')\n",
    "data['Price']=data['Price'].apply(lambda x:x.split('₹')[-1])\n",
    "data['Price']=data['Price'].str.replace(',','')\n",
    "data['Price']=data['Price'].apply(lambda x:x.split('.')[0])\n",
    "data['Price']=data['Price'].astype(int)\n",
    "data['Customer_Rated']=pd.to_numeric(data['Customer_Rated'],errors='ignore')"
   ]
  },
  {
   "cell_type": "code",
   "execution_count": 47,
   "metadata": {},
   "outputs": [
    {
     "data": {
      "text/plain": [
       "Paperback                          46\n",
       "Kindle Edition                     28\n",
       "Audible Audiobook                  14\n",
       "Hardcover                           8\n",
       "Perfect Paperback                   1\n",
       "Kindle Edition with Audio/Video     1\n",
       "Mass Market Paperback               1\n",
       "0                                   1\n",
       "Name: Type, dtype: int64"
      ]
     },
     "execution_count": 47,
     "metadata": {},
     "output_type": "execute_result"
    }
   ],
   "source": [
    "data['Type'].value_counts()"
   ]
  },
  {
   "cell_type": "code",
   "execution_count": 48,
   "metadata": {},
   "outputs": [],
   "source": [
    "data['Type'].replace({'Paperback Bunko':'Paperback','Mass Market Paperback':'Paperback','Perfect Paperback':'Paperback'},inplace=True)"
   ]
  },
  {
   "cell_type": "code",
   "execution_count": 49,
   "metadata": {},
   "outputs": [],
   "source": [
    "type_book=data['Type'].value_counts()"
   ]
  },
  {
   "cell_type": "code",
   "execution_count": 50,
   "metadata": {},
   "outputs": [],
   "source": [
    "type_book=pd.DataFrame(type_book).reset_index()"
   ]
  },
  {
   "cell_type": "code",
   "execution_count": 51,
   "metadata": {},
   "outputs": [],
   "source": [
    "type_book.columns=['Type','Total']"
   ]
  },
  {
   "cell_type": "code",
   "execution_count": 52,
   "metadata": {},
   "outputs": [
    {
     "data": {
      "text/html": [
       "<div>\n",
       "<style scoped>\n",
       "    .dataframe tbody tr th:only-of-type {\n",
       "        vertical-align: middle;\n",
       "    }\n",
       "\n",
       "    .dataframe tbody tr th {\n",
       "        vertical-align: top;\n",
       "    }\n",
       "\n",
       "    .dataframe thead th {\n",
       "        text-align: right;\n",
       "    }\n",
       "</style>\n",
       "<table border=\"1\" class=\"dataframe\">\n",
       "  <thead>\n",
       "    <tr style=\"text-align: right;\">\n",
       "      <th></th>\n",
       "      <th>Type</th>\n",
       "      <th>Total</th>\n",
       "    </tr>\n",
       "  </thead>\n",
       "  <tbody>\n",
       "    <tr>\n",
       "      <th>0</th>\n",
       "      <td>Paperback</td>\n",
       "      <td>48</td>\n",
       "    </tr>\n",
       "    <tr>\n",
       "      <th>1</th>\n",
       "      <td>Kindle Edition</td>\n",
       "      <td>28</td>\n",
       "    </tr>\n",
       "    <tr>\n",
       "      <th>2</th>\n",
       "      <td>Audible Audiobook</td>\n",
       "      <td>14</td>\n",
       "    </tr>\n",
       "    <tr>\n",
       "      <th>3</th>\n",
       "      <td>Hardcover</td>\n",
       "      <td>8</td>\n",
       "    </tr>\n",
       "    <tr>\n",
       "      <th>4</th>\n",
       "      <td>Kindle Edition with Audio/Video</td>\n",
       "      <td>1</td>\n",
       "    </tr>\n",
       "    <tr>\n",
       "      <th>5</th>\n",
       "      <td>0</td>\n",
       "      <td>1</td>\n",
       "    </tr>\n",
       "  </tbody>\n",
       "</table>\n",
       "</div>"
      ],
      "text/plain": [
       "                              Type  Total\n",
       "0                        Paperback     48\n",
       "1                   Kindle Edition     28\n",
       "2                Audible Audiobook     14\n",
       "3                        Hardcover      8\n",
       "4  Kindle Edition with Audio/Video      1\n",
       "5                                0      1"
      ]
     },
     "execution_count": 52,
     "metadata": {},
     "output_type": "execute_result"
    }
   ],
   "source": [
    "type_book"
   ]
  },
  {
   "cell_type": "code",
   "execution_count": 53,
   "metadata": {},
   "outputs": [],
   "source": [
    "type_book.drop(5,axis=0,inplace=True)"
   ]
  },
  {
   "cell_type": "code",
   "execution_count": 54,
   "metadata": {},
   "outputs": [
    {
     "data": {
      "text/html": [
       "<div>\n",
       "<style scoped>\n",
       "    .dataframe tbody tr th:only-of-type {\n",
       "        vertical-align: middle;\n",
       "    }\n",
       "\n",
       "    .dataframe tbody tr th {\n",
       "        vertical-align: top;\n",
       "    }\n",
       "\n",
       "    .dataframe thead th {\n",
       "        text-align: right;\n",
       "    }\n",
       "</style>\n",
       "<table border=\"1\" class=\"dataframe\">\n",
       "  <thead>\n",
       "    <tr style=\"text-align: right;\">\n",
       "      <th></th>\n",
       "      <th>Type</th>\n",
       "      <th>Total</th>\n",
       "    </tr>\n",
       "  </thead>\n",
       "  <tbody>\n",
       "    <tr>\n",
       "      <th>0</th>\n",
       "      <td>Paperback</td>\n",
       "      <td>48</td>\n",
       "    </tr>\n",
       "    <tr>\n",
       "      <th>1</th>\n",
       "      <td>Kindle Edition</td>\n",
       "      <td>28</td>\n",
       "    </tr>\n",
       "    <tr>\n",
       "      <th>2</th>\n",
       "      <td>Audible Audiobook</td>\n",
       "      <td>14</td>\n",
       "    </tr>\n",
       "    <tr>\n",
       "      <th>3</th>\n",
       "      <td>Hardcover</td>\n",
       "      <td>8</td>\n",
       "    </tr>\n",
       "    <tr>\n",
       "      <th>4</th>\n",
       "      <td>Kindle Edition with Audio/Video</td>\n",
       "      <td>1</td>\n",
       "    </tr>\n",
       "  </tbody>\n",
       "</table>\n",
       "</div>"
      ],
      "text/plain": [
       "                              Type  Total\n",
       "0                        Paperback     48\n",
       "1                   Kindle Edition     28\n",
       "2                Audible Audiobook     14\n",
       "3                        Hardcover      8\n",
       "4  Kindle Edition with Audio/Video      1"
      ]
     },
     "execution_count": 54,
     "metadata": {},
     "output_type": "execute_result"
    }
   ],
   "source": [
    "type_book"
   ]
  },
  {
   "cell_type": "code",
   "execution_count": 55,
   "metadata": {},
   "outputs": [],
   "source": [
    "import plotly.graph_objects as go"
   ]
  },
  {
   "cell_type": "code",
   "execution_count": 56,
   "metadata": {},
   "outputs": [
    {
     "data": {
      "application/vnd.plotly.v1+json": {
       "config": {
        "linkText": "Export to plot.ly",
        "plotlyServerURL": "https://plot.ly",
        "showLink": false
       },
       "data": [
        {
         "hoverinfo": "label+percent+name",
         "labels": [
          "Paperback",
          "Kindle Edition",
          "Audible Audiobook",
          "Hardcover",
          "Kindle Edition with Audio/Video"
         ],
         "marker": {
          "colors": [
           "#FF8C00",
           "#E9967A",
           "#FFE4C4",
           "#FAEBD7"
          ]
         },
         "name": "Book",
         "pull": [
          0,
          0,
          0.2,
          0
         ],
         "type": "pie",
         "values": [
          48,
          28,
          14,
          8,
          1
         ]
        }
       ],
       "layout": {
        "font": {
         "family": "Times New Roman",
         "size": 15
        },
        "grid": {
         "columns": 1,
         "rows": 1
        },
        "legend": {
         "x": 0.78,
         "y": 0.85
        },
        "template": {
         "data": {
          "bar": [
           {
            "error_x": {
             "color": "#2a3f5f"
            },
            "error_y": {
             "color": "#2a3f5f"
            },
            "marker": {
             "line": {
              "color": "#E5ECF6",
              "width": 0.5
             }
            },
            "type": "bar"
           }
          ],
          "barpolar": [
           {
            "marker": {
             "line": {
              "color": "#E5ECF6",
              "width": 0.5
             }
            },
            "type": "barpolar"
           }
          ],
          "carpet": [
           {
            "aaxis": {
             "endlinecolor": "#2a3f5f",
             "gridcolor": "white",
             "linecolor": "white",
             "minorgridcolor": "white",
             "startlinecolor": "#2a3f5f"
            },
            "baxis": {
             "endlinecolor": "#2a3f5f",
             "gridcolor": "white",
             "linecolor": "white",
             "minorgridcolor": "white",
             "startlinecolor": "#2a3f5f"
            },
            "type": "carpet"
           }
          ],
          "choropleth": [
           {
            "colorbar": {
             "outlinewidth": 0,
             "ticks": ""
            },
            "type": "choropleth"
           }
          ],
          "contour": [
           {
            "colorbar": {
             "outlinewidth": 0,
             "ticks": ""
            },
            "colorscale": [
             [
              0,
              "#0d0887"
             ],
             [
              0.1111111111111111,
              "#46039f"
             ],
             [
              0.2222222222222222,
              "#7201a8"
             ],
             [
              0.3333333333333333,
              "#9c179e"
             ],
             [
              0.4444444444444444,
              "#bd3786"
             ],
             [
              0.5555555555555556,
              "#d8576b"
             ],
             [
              0.6666666666666666,
              "#ed7953"
             ],
             [
              0.7777777777777778,
              "#fb9f3a"
             ],
             [
              0.8888888888888888,
              "#fdca26"
             ],
             [
              1,
              "#f0f921"
             ]
            ],
            "type": "contour"
           }
          ],
          "contourcarpet": [
           {
            "colorbar": {
             "outlinewidth": 0,
             "ticks": ""
            },
            "type": "contourcarpet"
           }
          ],
          "heatmap": [
           {
            "colorbar": {
             "outlinewidth": 0,
             "ticks": ""
            },
            "colorscale": [
             [
              0,
              "#0d0887"
             ],
             [
              0.1111111111111111,
              "#46039f"
             ],
             [
              0.2222222222222222,
              "#7201a8"
             ],
             [
              0.3333333333333333,
              "#9c179e"
             ],
             [
              0.4444444444444444,
              "#bd3786"
             ],
             [
              0.5555555555555556,
              "#d8576b"
             ],
             [
              0.6666666666666666,
              "#ed7953"
             ],
             [
              0.7777777777777778,
              "#fb9f3a"
             ],
             [
              0.8888888888888888,
              "#fdca26"
             ],
             [
              1,
              "#f0f921"
             ]
            ],
            "type": "heatmap"
           }
          ],
          "heatmapgl": [
           {
            "colorbar": {
             "outlinewidth": 0,
             "ticks": ""
            },
            "colorscale": [
             [
              0,
              "#0d0887"
             ],
             [
              0.1111111111111111,
              "#46039f"
             ],
             [
              0.2222222222222222,
              "#7201a8"
             ],
             [
              0.3333333333333333,
              "#9c179e"
             ],
             [
              0.4444444444444444,
              "#bd3786"
             ],
             [
              0.5555555555555556,
              "#d8576b"
             ],
             [
              0.6666666666666666,
              "#ed7953"
             ],
             [
              0.7777777777777778,
              "#fb9f3a"
             ],
             [
              0.8888888888888888,
              "#fdca26"
             ],
             [
              1,
              "#f0f921"
             ]
            ],
            "type": "heatmapgl"
           }
          ],
          "histogram": [
           {
            "marker": {
             "colorbar": {
              "outlinewidth": 0,
              "ticks": ""
             }
            },
            "type": "histogram"
           }
          ],
          "histogram2d": [
           {
            "colorbar": {
             "outlinewidth": 0,
             "ticks": ""
            },
            "colorscale": [
             [
              0,
              "#0d0887"
             ],
             [
              0.1111111111111111,
              "#46039f"
             ],
             [
              0.2222222222222222,
              "#7201a8"
             ],
             [
              0.3333333333333333,
              "#9c179e"
             ],
             [
              0.4444444444444444,
              "#bd3786"
             ],
             [
              0.5555555555555556,
              "#d8576b"
             ],
             [
              0.6666666666666666,
              "#ed7953"
             ],
             [
              0.7777777777777778,
              "#fb9f3a"
             ],
             [
              0.8888888888888888,
              "#fdca26"
             ],
             [
              1,
              "#f0f921"
             ]
            ],
            "type": "histogram2d"
           }
          ],
          "histogram2dcontour": [
           {
            "colorbar": {
             "outlinewidth": 0,
             "ticks": ""
            },
            "colorscale": [
             [
              0,
              "#0d0887"
             ],
             [
              0.1111111111111111,
              "#46039f"
             ],
             [
              0.2222222222222222,
              "#7201a8"
             ],
             [
              0.3333333333333333,
              "#9c179e"
             ],
             [
              0.4444444444444444,
              "#bd3786"
             ],
             [
              0.5555555555555556,
              "#d8576b"
             ],
             [
              0.6666666666666666,
              "#ed7953"
             ],
             [
              0.7777777777777778,
              "#fb9f3a"
             ],
             [
              0.8888888888888888,
              "#fdca26"
             ],
             [
              1,
              "#f0f921"
             ]
            ],
            "type": "histogram2dcontour"
           }
          ],
          "mesh3d": [
           {
            "colorbar": {
             "outlinewidth": 0,
             "ticks": ""
            },
            "type": "mesh3d"
           }
          ],
          "parcoords": [
           {
            "line": {
             "colorbar": {
              "outlinewidth": 0,
              "ticks": ""
             }
            },
            "type": "parcoords"
           }
          ],
          "pie": [
           {
            "automargin": true,
            "type": "pie"
           }
          ],
          "scatter": [
           {
            "marker": {
             "colorbar": {
              "outlinewidth": 0,
              "ticks": ""
             }
            },
            "type": "scatter"
           }
          ],
          "scatter3d": [
           {
            "line": {
             "colorbar": {
              "outlinewidth": 0,
              "ticks": ""
             }
            },
            "marker": {
             "colorbar": {
              "outlinewidth": 0,
              "ticks": ""
             }
            },
            "type": "scatter3d"
           }
          ],
          "scattercarpet": [
           {
            "marker": {
             "colorbar": {
              "outlinewidth": 0,
              "ticks": ""
             }
            },
            "type": "scattercarpet"
           }
          ],
          "scattergeo": [
           {
            "marker": {
             "colorbar": {
              "outlinewidth": 0,
              "ticks": ""
             }
            },
            "type": "scattergeo"
           }
          ],
          "scattergl": [
           {
            "marker": {
             "colorbar": {
              "outlinewidth": 0,
              "ticks": ""
             }
            },
            "type": "scattergl"
           }
          ],
          "scattermapbox": [
           {
            "marker": {
             "colorbar": {
              "outlinewidth": 0,
              "ticks": ""
             }
            },
            "type": "scattermapbox"
           }
          ],
          "scatterpolar": [
           {
            "marker": {
             "colorbar": {
              "outlinewidth": 0,
              "ticks": ""
             }
            },
            "type": "scatterpolar"
           }
          ],
          "scatterpolargl": [
           {
            "marker": {
             "colorbar": {
              "outlinewidth": 0,
              "ticks": ""
             }
            },
            "type": "scatterpolargl"
           }
          ],
          "scatterternary": [
           {
            "marker": {
             "colorbar": {
              "outlinewidth": 0,
              "ticks": ""
             }
            },
            "type": "scatterternary"
           }
          ],
          "surface": [
           {
            "colorbar": {
             "outlinewidth": 0,
             "ticks": ""
            },
            "colorscale": [
             [
              0,
              "#0d0887"
             ],
             [
              0.1111111111111111,
              "#46039f"
             ],
             [
              0.2222222222222222,
              "#7201a8"
             ],
             [
              0.3333333333333333,
              "#9c179e"
             ],
             [
              0.4444444444444444,
              "#bd3786"
             ],
             [
              0.5555555555555556,
              "#d8576b"
             ],
             [
              0.6666666666666666,
              "#ed7953"
             ],
             [
              0.7777777777777778,
              "#fb9f3a"
             ],
             [
              0.8888888888888888,
              "#fdca26"
             ],
             [
              1,
              "#f0f921"
             ]
            ],
            "type": "surface"
           }
          ],
          "table": [
           {
            "cells": {
             "fill": {
              "color": "#EBF0F8"
             },
             "line": {
              "color": "white"
             }
            },
            "header": {
             "fill": {
              "color": "#C8D4E3"
             },
             "line": {
              "color": "white"
             }
            },
            "type": "table"
           }
          ]
         },
         "layout": {
          "annotationdefaults": {
           "arrowcolor": "#2a3f5f",
           "arrowhead": 0,
           "arrowwidth": 1
          },
          "coloraxis": {
           "colorbar": {
            "outlinewidth": 0,
            "ticks": ""
           }
          },
          "colorscale": {
           "diverging": [
            [
             0,
             "#8e0152"
            ],
            [
             0.1,
             "#c51b7d"
            ],
            [
             0.2,
             "#de77ae"
            ],
            [
             0.3,
             "#f1b6da"
            ],
            [
             0.4,
             "#fde0ef"
            ],
            [
             0.5,
             "#f7f7f7"
            ],
            [
             0.6,
             "#e6f5d0"
            ],
            [
             0.7,
             "#b8e186"
            ],
            [
             0.8,
             "#7fbc41"
            ],
            [
             0.9,
             "#4d9221"
            ],
            [
             1,
             "#276419"
            ]
           ],
           "sequential": [
            [
             0,
             "#0d0887"
            ],
            [
             0.1111111111111111,
             "#46039f"
            ],
            [
             0.2222222222222222,
             "#7201a8"
            ],
            [
             0.3333333333333333,
             "#9c179e"
            ],
            [
             0.4444444444444444,
             "#bd3786"
            ],
            [
             0.5555555555555556,
             "#d8576b"
            ],
            [
             0.6666666666666666,
             "#ed7953"
            ],
            [
             0.7777777777777778,
             "#fb9f3a"
            ],
            [
             0.8888888888888888,
             "#fdca26"
            ],
            [
             1,
             "#f0f921"
            ]
           ],
           "sequentialminus": [
            [
             0,
             "#0d0887"
            ],
            [
             0.1111111111111111,
             "#46039f"
            ],
            [
             0.2222222222222222,
             "#7201a8"
            ],
            [
             0.3333333333333333,
             "#9c179e"
            ],
            [
             0.4444444444444444,
             "#bd3786"
            ],
            [
             0.5555555555555556,
             "#d8576b"
            ],
            [
             0.6666666666666666,
             "#ed7953"
            ],
            [
             0.7777777777777778,
             "#fb9f3a"
            ],
            [
             0.8888888888888888,
             "#fdca26"
            ],
            [
             1,
             "#f0f921"
            ]
           ]
          },
          "colorway": [
           "#636efa",
           "#EF553B",
           "#00cc96",
           "#ab63fa",
           "#FFA15A",
           "#19d3f3",
           "#FF6692",
           "#B6E880",
           "#FF97FF",
           "#FECB52"
          ],
          "font": {
           "color": "#2a3f5f"
          },
          "geo": {
           "bgcolor": "white",
           "lakecolor": "white",
           "landcolor": "#E5ECF6",
           "showlakes": true,
           "showland": true,
           "subunitcolor": "white"
          },
          "hoverlabel": {
           "align": "left"
          },
          "hovermode": "closest",
          "mapbox": {
           "style": "light"
          },
          "paper_bgcolor": "white",
          "plot_bgcolor": "#E5ECF6",
          "polar": {
           "angularaxis": {
            "gridcolor": "white",
            "linecolor": "white",
            "ticks": ""
           },
           "bgcolor": "#E5ECF6",
           "radialaxis": {
            "gridcolor": "white",
            "linecolor": "white",
            "ticks": ""
           }
          },
          "scene": {
           "xaxis": {
            "backgroundcolor": "#E5ECF6",
            "gridcolor": "white",
            "gridwidth": 2,
            "linecolor": "white",
            "showbackground": true,
            "ticks": "",
            "zerolinecolor": "white"
           },
           "yaxis": {
            "backgroundcolor": "#E5ECF6",
            "gridcolor": "white",
            "gridwidth": 2,
            "linecolor": "white",
            "showbackground": true,
            "ticks": "",
            "zerolinecolor": "white"
           },
           "zaxis": {
            "backgroundcolor": "#E5ECF6",
            "gridcolor": "white",
            "gridwidth": 2,
            "linecolor": "white",
            "showbackground": true,
            "ticks": "",
            "zerolinecolor": "white"
           }
          },
          "shapedefaults": {
           "line": {
            "color": "#2a3f5f"
           }
          },
          "ternary": {
           "aaxis": {
            "gridcolor": "white",
            "linecolor": "white",
            "ticks": ""
           },
           "baxis": {
            "gridcolor": "white",
            "linecolor": "white",
            "ticks": ""
           },
           "bgcolor": "#E5ECF6",
           "caxis": {
            "gridcolor": "white",
            "linecolor": "white",
            "ticks": ""
           }
          },
          "title": {
           "x": 0.05
          },
          "xaxis": {
           "automargin": true,
           "gridcolor": "white",
           "linecolor": "white",
           "ticks": "",
           "title": {
            "standoff": 15
           },
           "zerolinecolor": "white",
           "zerolinewidth": 2
          },
          "yaxis": {
           "automargin": true,
           "gridcolor": "white",
           "linecolor": "white",
           "ticks": "",
           "title": {
            "standoff": 15
           },
           "zerolinecolor": "white",
           "zerolinewidth": 2
          }
         }
        },
        "title": {
         "text": "<b>Best Selling Book Type<b>",
         "x": 0.49,
         "xanchor": "center",
         "y": 0.9,
         "yanchor": "top"
        }
       }
      },
      "text/html": [
       "<div>\n",
       "        \n",
       "        \n",
       "            <div id=\"8842ffde-e112-4851-9345-43651907bce7\" class=\"plotly-graph-div\" style=\"height:525px; width:100%;\"></div>\n",
       "            <script type=\"text/javascript\">\n",
       "                require([\"plotly\"], function(Plotly) {\n",
       "                    window.PLOTLYENV=window.PLOTLYENV || {};\n",
       "                    \n",
       "                if (document.getElementById(\"8842ffde-e112-4851-9345-43651907bce7\")) {\n",
       "                    Plotly.newPlot(\n",
       "                        '8842ffde-e112-4851-9345-43651907bce7',\n",
       "                        [{\"hoverinfo\": \"label+percent+name\", \"labels\": [\"Paperback\", \"Kindle Edition\", \"Audible Audiobook\", \"Hardcover\", \"Kindle Edition with Audio/Video\"], \"marker\": {\"colors\": [\"#FF8C00\", \"#E9967A\", \"#FFE4C4\", \"#FAEBD7\"]}, \"name\": \"Book\", \"pull\": [0, 0, 0.2, 0], \"type\": \"pie\", \"values\": [48, 28, 14, 8, 1]}],\n",
       "                        {\"font\": {\"family\": \"Times New Roman\", \"size\": 15}, \"grid\": {\"columns\": 1, \"rows\": 1}, \"legend\": {\"x\": 0.78, \"y\": 0.85}, \"template\": {\"data\": {\"bar\": [{\"error_x\": {\"color\": \"#2a3f5f\"}, \"error_y\": {\"color\": \"#2a3f5f\"}, \"marker\": {\"line\": {\"color\": \"#E5ECF6\", \"width\": 0.5}}, \"type\": \"bar\"}], \"barpolar\": [{\"marker\": {\"line\": {\"color\": \"#E5ECF6\", \"width\": 0.5}}, \"type\": \"barpolar\"}], \"carpet\": [{\"aaxis\": {\"endlinecolor\": \"#2a3f5f\", \"gridcolor\": \"white\", \"linecolor\": \"white\", \"minorgridcolor\": \"white\", \"startlinecolor\": \"#2a3f5f\"}, \"baxis\": {\"endlinecolor\": \"#2a3f5f\", \"gridcolor\": \"white\", \"linecolor\": \"white\", \"minorgridcolor\": \"white\", \"startlinecolor\": \"#2a3f5f\"}, \"type\": \"carpet\"}], \"choropleth\": [{\"colorbar\": {\"outlinewidth\": 0, \"ticks\": \"\"}, \"type\": \"choropleth\"}], \"contour\": [{\"colorbar\": {\"outlinewidth\": 0, \"ticks\": \"\"}, \"colorscale\": [[0.0, \"#0d0887\"], [0.1111111111111111, \"#46039f\"], [0.2222222222222222, \"#7201a8\"], [0.3333333333333333, \"#9c179e\"], [0.4444444444444444, \"#bd3786\"], [0.5555555555555556, \"#d8576b\"], [0.6666666666666666, \"#ed7953\"], [0.7777777777777778, \"#fb9f3a\"], [0.8888888888888888, \"#fdca26\"], [1.0, \"#f0f921\"]], \"type\": \"contour\"}], \"contourcarpet\": [{\"colorbar\": {\"outlinewidth\": 0, \"ticks\": \"\"}, \"type\": \"contourcarpet\"}], \"heatmap\": [{\"colorbar\": {\"outlinewidth\": 0, \"ticks\": \"\"}, \"colorscale\": [[0.0, \"#0d0887\"], [0.1111111111111111, \"#46039f\"], [0.2222222222222222, \"#7201a8\"], [0.3333333333333333, \"#9c179e\"], [0.4444444444444444, \"#bd3786\"], [0.5555555555555556, \"#d8576b\"], [0.6666666666666666, \"#ed7953\"], [0.7777777777777778, \"#fb9f3a\"], [0.8888888888888888, \"#fdca26\"], [1.0, \"#f0f921\"]], \"type\": \"heatmap\"}], \"heatmapgl\": [{\"colorbar\": {\"outlinewidth\": 0, \"ticks\": \"\"}, \"colorscale\": [[0.0, \"#0d0887\"], [0.1111111111111111, \"#46039f\"], [0.2222222222222222, \"#7201a8\"], [0.3333333333333333, \"#9c179e\"], [0.4444444444444444, \"#bd3786\"], [0.5555555555555556, \"#d8576b\"], [0.6666666666666666, \"#ed7953\"], [0.7777777777777778, \"#fb9f3a\"], [0.8888888888888888, \"#fdca26\"], [1.0, \"#f0f921\"]], \"type\": \"heatmapgl\"}], \"histogram\": [{\"marker\": {\"colorbar\": {\"outlinewidth\": 0, \"ticks\": \"\"}}, \"type\": \"histogram\"}], \"histogram2d\": [{\"colorbar\": {\"outlinewidth\": 0, \"ticks\": \"\"}, \"colorscale\": [[0.0, \"#0d0887\"], [0.1111111111111111, \"#46039f\"], [0.2222222222222222, \"#7201a8\"], [0.3333333333333333, \"#9c179e\"], [0.4444444444444444, \"#bd3786\"], [0.5555555555555556, \"#d8576b\"], [0.6666666666666666, \"#ed7953\"], [0.7777777777777778, \"#fb9f3a\"], [0.8888888888888888, \"#fdca26\"], [1.0, \"#f0f921\"]], \"type\": \"histogram2d\"}], \"histogram2dcontour\": [{\"colorbar\": {\"outlinewidth\": 0, \"ticks\": \"\"}, \"colorscale\": [[0.0, \"#0d0887\"], [0.1111111111111111, \"#46039f\"], [0.2222222222222222, \"#7201a8\"], [0.3333333333333333, \"#9c179e\"], [0.4444444444444444, \"#bd3786\"], [0.5555555555555556, \"#d8576b\"], [0.6666666666666666, \"#ed7953\"], [0.7777777777777778, \"#fb9f3a\"], [0.8888888888888888, \"#fdca26\"], [1.0, \"#f0f921\"]], \"type\": \"histogram2dcontour\"}], \"mesh3d\": [{\"colorbar\": {\"outlinewidth\": 0, \"ticks\": \"\"}, \"type\": \"mesh3d\"}], \"parcoords\": [{\"line\": {\"colorbar\": {\"outlinewidth\": 0, \"ticks\": \"\"}}, \"type\": \"parcoords\"}], \"pie\": [{\"automargin\": true, \"type\": \"pie\"}], \"scatter\": [{\"marker\": {\"colorbar\": {\"outlinewidth\": 0, \"ticks\": \"\"}}, \"type\": \"scatter\"}], \"scatter3d\": [{\"line\": {\"colorbar\": {\"outlinewidth\": 0, \"ticks\": \"\"}}, \"marker\": {\"colorbar\": {\"outlinewidth\": 0, \"ticks\": \"\"}}, \"type\": \"scatter3d\"}], \"scattercarpet\": [{\"marker\": {\"colorbar\": {\"outlinewidth\": 0, \"ticks\": \"\"}}, \"type\": \"scattercarpet\"}], \"scattergeo\": [{\"marker\": {\"colorbar\": {\"outlinewidth\": 0, \"ticks\": \"\"}}, \"type\": \"scattergeo\"}], \"scattergl\": [{\"marker\": {\"colorbar\": {\"outlinewidth\": 0, \"ticks\": \"\"}}, \"type\": \"scattergl\"}], \"scattermapbox\": [{\"marker\": {\"colorbar\": {\"outlinewidth\": 0, \"ticks\": \"\"}}, \"type\": \"scattermapbox\"}], \"scatterpolar\": [{\"marker\": {\"colorbar\": {\"outlinewidth\": 0, \"ticks\": \"\"}}, \"type\": \"scatterpolar\"}], \"scatterpolargl\": [{\"marker\": {\"colorbar\": {\"outlinewidth\": 0, \"ticks\": \"\"}}, \"type\": \"scatterpolargl\"}], \"scatterternary\": [{\"marker\": {\"colorbar\": {\"outlinewidth\": 0, \"ticks\": \"\"}}, \"type\": \"scatterternary\"}], \"surface\": [{\"colorbar\": {\"outlinewidth\": 0, \"ticks\": \"\"}, \"colorscale\": [[0.0, \"#0d0887\"], [0.1111111111111111, \"#46039f\"], [0.2222222222222222, \"#7201a8\"], [0.3333333333333333, \"#9c179e\"], [0.4444444444444444, \"#bd3786\"], [0.5555555555555556, \"#d8576b\"], [0.6666666666666666, \"#ed7953\"], [0.7777777777777778, \"#fb9f3a\"], [0.8888888888888888, \"#fdca26\"], [1.0, \"#f0f921\"]], \"type\": \"surface\"}], \"table\": [{\"cells\": {\"fill\": {\"color\": \"#EBF0F8\"}, \"line\": {\"color\": \"white\"}}, \"header\": {\"fill\": {\"color\": \"#C8D4E3\"}, \"line\": {\"color\": \"white\"}}, \"type\": \"table\"}]}, \"layout\": {\"annotationdefaults\": {\"arrowcolor\": \"#2a3f5f\", \"arrowhead\": 0, \"arrowwidth\": 1}, \"coloraxis\": {\"colorbar\": {\"outlinewidth\": 0, \"ticks\": \"\"}}, \"colorscale\": {\"diverging\": [[0, \"#8e0152\"], [0.1, \"#c51b7d\"], [0.2, \"#de77ae\"], [0.3, \"#f1b6da\"], [0.4, \"#fde0ef\"], [0.5, \"#f7f7f7\"], [0.6, \"#e6f5d0\"], [0.7, \"#b8e186\"], [0.8, \"#7fbc41\"], [0.9, \"#4d9221\"], [1, \"#276419\"]], \"sequential\": [[0.0, \"#0d0887\"], [0.1111111111111111, \"#46039f\"], [0.2222222222222222, \"#7201a8\"], [0.3333333333333333, \"#9c179e\"], [0.4444444444444444, \"#bd3786\"], [0.5555555555555556, \"#d8576b\"], [0.6666666666666666, \"#ed7953\"], [0.7777777777777778, \"#fb9f3a\"], [0.8888888888888888, \"#fdca26\"], [1.0, \"#f0f921\"]], \"sequentialminus\": [[0.0, \"#0d0887\"], [0.1111111111111111, \"#46039f\"], [0.2222222222222222, \"#7201a8\"], [0.3333333333333333, \"#9c179e\"], [0.4444444444444444, \"#bd3786\"], [0.5555555555555556, \"#d8576b\"], [0.6666666666666666, \"#ed7953\"], [0.7777777777777778, \"#fb9f3a\"], [0.8888888888888888, \"#fdca26\"], [1.0, \"#f0f921\"]]}, \"colorway\": [\"#636efa\", \"#EF553B\", \"#00cc96\", \"#ab63fa\", \"#FFA15A\", \"#19d3f3\", \"#FF6692\", \"#B6E880\", \"#FF97FF\", \"#FECB52\"], \"font\": {\"color\": \"#2a3f5f\"}, \"geo\": {\"bgcolor\": \"white\", \"lakecolor\": \"white\", \"landcolor\": \"#E5ECF6\", \"showlakes\": true, \"showland\": true, \"subunitcolor\": \"white\"}, \"hoverlabel\": {\"align\": \"left\"}, \"hovermode\": \"closest\", \"mapbox\": {\"style\": \"light\"}, \"paper_bgcolor\": \"white\", \"plot_bgcolor\": \"#E5ECF6\", \"polar\": {\"angularaxis\": {\"gridcolor\": \"white\", \"linecolor\": \"white\", \"ticks\": \"\"}, \"bgcolor\": \"#E5ECF6\", \"radialaxis\": {\"gridcolor\": \"white\", \"linecolor\": \"white\", \"ticks\": \"\"}}, \"scene\": {\"xaxis\": {\"backgroundcolor\": \"#E5ECF6\", \"gridcolor\": \"white\", \"gridwidth\": 2, \"linecolor\": \"white\", \"showbackground\": true, \"ticks\": \"\", \"zerolinecolor\": \"white\"}, \"yaxis\": {\"backgroundcolor\": \"#E5ECF6\", \"gridcolor\": \"white\", \"gridwidth\": 2, \"linecolor\": \"white\", \"showbackground\": true, \"ticks\": \"\", \"zerolinecolor\": \"white\"}, \"zaxis\": {\"backgroundcolor\": \"#E5ECF6\", \"gridcolor\": \"white\", \"gridwidth\": 2, \"linecolor\": \"white\", \"showbackground\": true, \"ticks\": \"\", \"zerolinecolor\": \"white\"}}, \"shapedefaults\": {\"line\": {\"color\": \"#2a3f5f\"}}, \"ternary\": {\"aaxis\": {\"gridcolor\": \"white\", \"linecolor\": \"white\", \"ticks\": \"\"}, \"baxis\": {\"gridcolor\": \"white\", \"linecolor\": \"white\", \"ticks\": \"\"}, \"bgcolor\": \"#E5ECF6\", \"caxis\": {\"gridcolor\": \"white\", \"linecolor\": \"white\", \"ticks\": \"\"}}, \"title\": {\"x\": 0.05}, \"xaxis\": {\"automargin\": true, \"gridcolor\": \"white\", \"linecolor\": \"white\", \"ticks\": \"\", \"title\": {\"standoff\": 15}, \"zerolinecolor\": \"white\", \"zerolinewidth\": 2}, \"yaxis\": {\"automargin\": true, \"gridcolor\": \"white\", \"linecolor\": \"white\", \"ticks\": \"\", \"title\": {\"standoff\": 15}, \"zerolinecolor\": \"white\", \"zerolinewidth\": 2}}}, \"title\": {\"text\": \"<b>Best Selling Book Type<b>\", \"x\": 0.49, \"xanchor\": \"center\", \"y\": 0.9, \"yanchor\": \"top\"}},\n",
       "                        {\"responsive\": true}\n",
       "                    ).then(function(){\n",
       "                            \n",
       "var gd = document.getElementById('8842ffde-e112-4851-9345-43651907bce7');\n",
       "var x = new MutationObserver(function (mutations, observer) {{\n",
       "        var display = window.getComputedStyle(gd).display;\n",
       "        if (!display || display === 'none') {{\n",
       "            console.log([gd, 'removed!']);\n",
       "            Plotly.purge(gd);\n",
       "            observer.disconnect();\n",
       "        }}\n",
       "}});\n",
       "\n",
       "// Listen for the removal of the full notebook cells\n",
       "var notebookContainer = gd.closest('#notebook-container');\n",
       "if (notebookContainer) {{\n",
       "    x.observe(notebookContainer, {childList: true});\n",
       "}}\n",
       "\n",
       "// Listen for the clearing of the current output cell\n",
       "var outputEl = gd.closest('.output');\n",
       "if (outputEl) {{\n",
       "    x.observe(outputEl, {childList: true});\n",
       "}}\n",
       "\n",
       "                        })\n",
       "                };\n",
       "                });\n",
       "            </script>\n",
       "        </div>"
      ]
     },
     "metadata": {},
     "output_type": "display_data"
    }
   ],
   "source": [
    "data1 = {\n",
    "   \"values\": type_book['Total'],\n",
    "   \"labels\": type_book['Type'],\n",
    "   \"name\": \"Book\",\n",
    "   \"hoverinfo\":\"label+percent+name\",\n",
    "    \"marker\": {'colors': ['#FF8C00', '#E9967A', '#FFE4C4','#FAEBD7']},\n",
    "    \"pull\":[0, 0, 0.2, 0],\n",
    "   \"type\": \"pie\"\n",
    "}\n",
    "\n",
    "data = [data1]\n",
    "layout = go.Layout(\n",
    "   {\n",
    "      \"title\":\"Distribution of Movie Rating\",\n",
    "      \"grid\": {\"rows\": 1, \"columns\": 1}\n",
    "   }\n",
    ")\n",
    "fig = go.Figure(data = data, layout = layout)\n",
    "\n",
    "fig.update_layout(\n",
    "    title={\n",
    "        'text': \"<b>Best Selling Book Type<b>\",\n",
    "        'y':0.9,\n",
    "        'x':0.49,\n",
    "        'xanchor': 'center',\n",
    "        'yanchor': 'top'},font=dict(\n",
    "        family=\"Times New Roman\", size=15\n",
    "    ), legend={\n",
    "    \"x\": 0.78,\n",
    "    \"y\": 0.85})\n",
    "iplot(fig)"
   ]
  },
  {
   "cell_type": "code",
   "execution_count": null,
   "metadata": {},
   "outputs": [],
   "source": []
  }
 ],
 "metadata": {
  "kernelspec": {
   "display_name": "Python 3",
   "language": "python",
   "name": "python3"
  },
  "language_info": {
   "codemirror_mode": {
    "name": "ipython",
    "version": 3
   },
   "file_extension": ".py",
   "mimetype": "text/x-python",
   "name": "python",
   "nbconvert_exporter": "python",
   "pygments_lexer": "ipython3",
   "version": "3.7.6"
  }
 },
 "nbformat": 4,
 "nbformat_minor": 4
}
